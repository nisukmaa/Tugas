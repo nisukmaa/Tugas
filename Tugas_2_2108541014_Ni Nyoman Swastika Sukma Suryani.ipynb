{
 "cells": [
  {
   "cell_type": "markdown",
   "id": "db0fee91",
   "metadata": {},
   "source": [
    "# 5.12 List di Python"
   ]
  },
  {
   "cell_type": "markdown",
   "id": "ea332fdb",
   "metadata": {},
   "source": [
    "merepresentasikan obbjek di dalam python (string ataupun angka)"
   ]
  },
  {
   "cell_type": "code",
   "execution_count": 1,
   "id": "12e16ffd",
   "metadata": {},
   "outputs": [
    {
     "name": "stdout",
     "output_type": "stream",
     "text": [
      "['stroberi', 'mangga', 'jeruk', 'apel']\n"
     ]
    }
   ],
   "source": [
    "buah_14 =['stroberi', 'mangga', 'jeruk', 'apel']\n",
    "print (buah_14)"
   ]
  },
  {
   "cell_type": "code",
   "execution_count": 2,
   "id": "50544b27",
   "metadata": {},
   "outputs": [
    {
     "name": "stdout",
     "output_type": "stream",
     "text": [
      "stroberi\n"
     ]
    }
   ],
   "source": [
    "print (buah_14[0])"
   ]
  },
  {
   "cell_type": "code",
   "execution_count": 3,
   "id": "3f4a60bf",
   "metadata": {},
   "outputs": [
    {
     "name": "stdout",
     "output_type": "stream",
     "text": [
      "jeruk\n"
     ]
    }
   ],
   "source": [
    "print(buah_14[2])"
   ]
  },
  {
   "cell_type": "code",
   "execution_count": 4,
   "id": "d8a89313",
   "metadata": {},
   "outputs": [
    {
     "name": "stdout",
     "output_type": "stream",
     "text": [
      "apel\n"
     ]
    }
   ],
   "source": [
    "print(buah_14[-1])"
   ]
  },
  {
   "cell_type": "code",
   "execution_count": 5,
   "id": "26a37c87",
   "metadata": {},
   "outputs": [
    {
     "name": "stdout",
     "output_type": "stream",
     "text": [
      "jeruk\n"
     ]
    }
   ],
   "source": [
    "print(buah_14[-2])"
   ]
  },
  {
   "cell_type": "code",
   "execution_count": 6,
   "id": "0e9cac76",
   "metadata": {},
   "outputs": [
    {
     "name": "stdout",
     "output_type": "stream",
     "text": [
      "['leci', 'mangga', 'jeruk', 'apel']\n"
     ]
    }
   ],
   "source": [
    "buah_14[0]='leci'\n",
    "print(buah_14)"
   ]
  },
  {
   "cell_type": "code",
   "execution_count": 7,
   "id": "ed68da30",
   "metadata": {},
   "outputs": [
    {
     "name": "stdout",
     "output_type": "stream",
     "text": [
      "['leci', 'mangga', 'jeruk']\n"
     ]
    }
   ],
   "source": [
    "print (buah_14[0:3])"
   ]
  },
  {
   "cell_type": "code",
   "execution_count": 8,
   "id": "7dc9b790",
   "metadata": {},
   "outputs": [
    {
     "name": "stdout",
     "output_type": "stream",
     "text": [
      "['leci', 'mangga', 'jeruk', 'apel']\n"
     ]
    }
   ],
   "source": [
    "#gk merubah list\n",
    "print(buah_14)"
   ]
  },
  {
   "cell_type": "markdown",
   "id": "04174962",
   "metadata": {},
   "source": [
    "# 5.13 Metoda List"
   ]
  },
  {
   "cell_type": "code",
   "execution_count": 9,
   "id": "99925924",
   "metadata": {},
   "outputs": [
    {
     "name": "stdout",
     "output_type": "stream",
     "text": [
      "['Kaori', 'Ikuta', 'Nako', 'Miku']\n"
     ]
    }
   ],
   "source": [
    "nama =['Kaori','Ikuta','Nako']\n",
    "nama.append('Miku')\n",
    "print (nama)"
   ]
  },
  {
   "cell_type": "code",
   "execution_count": 10,
   "id": "3d5e130b",
   "metadata": {},
   "outputs": [
    {
     "name": "stdout",
     "output_type": "stream",
     "text": [
      "['Mayuyu', 'Kaori', 'Ikuta', 'Nako', 'Miku']\n"
     ]
    }
   ],
   "source": [
    "nama.insert(0,'Mayuyu')\n",
    "print(nama)"
   ]
  },
  {
   "cell_type": "code",
   "execution_count": 11,
   "id": "40b8d35e",
   "metadata": {},
   "outputs": [
    {
     "name": "stdout",
     "output_type": "stream",
     "text": [
      "['Mayuyu', 'Kaori', 'Ikuta', 'Nako']\n"
     ]
    }
   ],
   "source": [
    "nama.remove('Miku')\n",
    "print(nama)"
   ]
  },
  {
   "cell_type": "code",
   "execution_count": 12,
   "id": "233b6312",
   "metadata": {},
   "outputs": [
    {
     "name": "stdout",
     "output_type": "stream",
     "text": [
      "False\n"
     ]
    }
   ],
   "source": [
    "print('Miku' in nama)"
   ]
  },
  {
   "cell_type": "code",
   "execution_count": 13,
   "id": "5827f47c",
   "metadata": {},
   "outputs": [
    {
     "name": "stdout",
     "output_type": "stream",
     "text": [
      "True\n"
     ]
    }
   ],
   "source": [
    "print('Kaori' in nama)"
   ]
  },
  {
   "cell_type": "code",
   "execution_count": 14,
   "id": "7de8cadc",
   "metadata": {},
   "outputs": [
    {
     "name": "stdout",
     "output_type": "stream",
     "text": [
      "4\n"
     ]
    }
   ],
   "source": [
    "print(len(nama))"
   ]
  },
  {
   "cell_type": "markdown",
   "id": "7a474654",
   "metadata": {},
   "source": [
    "# 5.14 For Loop"
   ]
  },
  {
   "cell_type": "code",
   "execution_count": 15,
   "id": "fcbb71c5",
   "metadata": {},
   "outputs": [
    {
     "name": "stdout",
     "output_type": "stream",
     "text": [
      "Domestik\n",
      "Persia\n",
      "Munchkin\n",
      "British Sort Hair\n"
     ]
    }
   ],
   "source": [
    "kucing_14 = ['Domestik', 'Persia', 'Munchkin', 'British Sort Hair']\n",
    "for jenis_14 in kucing_14 :\n",
    "    print (jenis_14)"
   ]
  },
  {
   "cell_type": "code",
   "execution_count": 16,
   "id": "7a38622f",
   "metadata": {},
   "outputs": [
    {
     "name": "stdout",
     "output_type": "stream",
     "text": [
      "Domestik\n",
      "Persia\n",
      "Munchkin\n",
      "British Sort Hair\n"
     ]
    }
   ],
   "source": [
    "i=0\n",
    "while i < len(kucing_14):\n",
    "    print (kucing_14[i])\n",
    "    i+=1"
   ]
  },
  {
   "cell_type": "markdown",
   "id": "bb2e61aa",
   "metadata": {},
   "source": [
    "# 5.15 Fungsi Range"
   ]
  },
  {
   "cell_type": "code",
   "execution_count": 17,
   "id": "f479e3de",
   "metadata": {},
   "outputs": [
    {
     "name": "stdout",
     "output_type": "stream",
     "text": [
      "range(0, 16)\n"
     ]
    }
   ],
   "source": [
    "angka=range(16)\n",
    "print(angka)"
   ]
  },
  {
   "cell_type": "code",
   "execution_count": 18,
   "id": "1258ef56",
   "metadata": {},
   "outputs": [
    {
     "name": "stdout",
     "output_type": "stream",
     "text": [
      "0\n",
      "1\n",
      "2\n",
      "3\n",
      "4\n",
      "5\n",
      "6\n",
      "7\n",
      "8\n",
      "9\n",
      "10\n",
      "11\n",
      "12\n",
      "13\n",
      "14\n",
      "15\n"
     ]
    }
   ],
   "source": [
    "for isi in angka:\n",
    "    print(isi)"
   ]
  },
  {
   "cell_type": "code",
   "execution_count": 19,
   "id": "5bf92bc7",
   "metadata": {},
   "outputs": [
    {
     "name": "stdout",
     "output_type": "stream",
     "text": [
      "9\n",
      "10\n",
      "11\n",
      "12\n",
      "13\n",
      "14\n"
     ]
    }
   ],
   "source": [
    "for isi in range(9,15):\n",
    "    print (isi)"
   ]
  },
  {
   "cell_type": "code",
   "execution_count": 20,
   "id": "fd74c868",
   "metadata": {},
   "outputs": [
    {
     "name": "stdout",
     "output_type": "stream",
     "text": [
      "0\n",
      "3\n",
      "6\n",
      "9\n"
     ]
    }
   ],
   "source": [
    "for isi in range(0,10,3):\n",
    "    print(isi)"
   ]
  },
  {
   "cell_type": "markdown",
   "id": "06a2b6b7",
   "metadata": {},
   "source": [
    "latihan"
   ]
  },
  {
   "cell_type": "code",
   "execution_count": 21,
   "id": "7ec8c5c8",
   "metadata": {},
   "outputs": [],
   "source": [
    "#mencari nilai terbesar di dalam suatu list"
   ]
  },
  {
   "cell_type": "code",
   "execution_count": 22,
   "id": "96ffe6ef",
   "metadata": {},
   "outputs": [
    {
     "name": "stdout",
     "output_type": "stream",
     "text": [
      "11\n"
     ]
    }
   ],
   "source": [
    "data=[3,1,2,5,11,4,10,9]\n",
    "terbesar=data[0]\n",
    "for i in range(len(data)):\n",
    "    if data[i]>terbesar:\n",
    "        terbesar = data[i]\n",
    "print(terbesar)"
   ]
  },
  {
   "cell_type": "code",
   "execution_count": 23,
   "id": "be013135",
   "metadata": {},
   "outputs": [
    {
     "name": "stdout",
     "output_type": "stream",
     "text": [
      "11\n"
     ]
    }
   ],
   "source": [
    "data=[3,1,2,5,11,4,10,9]\n",
    "terbesar = data[0]\n",
    "for angka in data :\n",
    "    if angka > terbesar:\n",
    "        terbesar=angka\n",
    "print (terbesar)"
   ]
  },
  {
   "cell_type": "code",
   "execution_count": 24,
   "id": "85a3278c",
   "metadata": {},
   "outputs": [],
   "source": [
    "#membuat list menjadi unik alias tidak ada yang kembar"
   ]
  },
  {
   "cell_type": "code",
   "execution_count": 25,
   "id": "53202719",
   "metadata": {},
   "outputs": [
    {
     "name": "stdout",
     "output_type": "stream",
     "text": [
      "[2, 3, 4, 1, 5, 7, 11, 9]\n"
     ]
    }
   ],
   "source": [
    "angka=[2,3,4,4,1,5,7,7,11,1,9,9]\n",
    "angka_unik=[]\n",
    "for anggota in angka :\n",
    "    if anggota not in angka_unik :\n",
    "        angka_unik.append (anggota)\n",
    "print (angka_unik)"
   ]
  },
  {
   "cell_type": "markdown",
   "id": "d7647eef",
   "metadata": {},
   "source": [
    "# 5.16 List 2 Dimensi"
   ]
  },
  {
   "cell_type": "markdown",
   "id": "ff714981",
   "metadata": {},
   "source": [
    "menempatkan sebuah list di dalam list"
   ]
  },
  {
   "cell_type": "code",
   "execution_count": 26,
   "id": "5544e435",
   "metadata": {},
   "outputs": [
    {
     "name": "stdout",
     "output_type": "stream",
     "text": [
      "[[1, 2, 3, 4], [5, 6, 7, 8], [9, 10, 11, 12], [13, 14, 15, 16]]\n"
     ]
    }
   ],
   "source": [
    "matriks = [[1,2,3,4],[5,6,7,8],[9,10,11,12],[13,14,15,16]]\n",
    "print(matriks)"
   ]
  },
  {
   "cell_type": "code",
   "execution_count": 27,
   "id": "5a498a4f",
   "metadata": {},
   "outputs": [
    {
     "data": {
      "text/plain": [
       "[13, 14, 15, 16]"
      ]
     },
     "execution_count": 27,
     "metadata": {},
     "output_type": "execute_result"
    }
   ],
   "source": [
    "matriks[3]"
   ]
  },
  {
   "cell_type": "code",
   "execution_count": 28,
   "id": "0cd1c7b8",
   "metadata": {},
   "outputs": [
    {
     "data": {
      "text/plain": [
       "7"
      ]
     },
     "execution_count": 28,
     "metadata": {},
     "output_type": "execute_result"
    }
   ],
   "source": [
    "matriks[1][2] \n",
    "#[baris][kolom]"
   ]
  },
  {
   "cell_type": "code",
   "execution_count": 29,
   "id": "f07e509d",
   "metadata": {},
   "outputs": [
    {
     "name": "stdout",
     "output_type": "stream",
     "text": [
      "34\n"
     ]
    }
   ],
   "source": [
    "matriks[1][2]=34\n",
    "print(matriks[1][2])"
   ]
  },
  {
   "cell_type": "code",
   "execution_count": 30,
   "id": "6209182e",
   "metadata": {},
   "outputs": [
    {
     "data": {
      "text/plain": [
       "[[1, 2, 3, 4], [5, 6, 34, 8], [9, 10, 11, 12], [13, 14, 15, 16]]"
      ]
     },
     "execution_count": 30,
     "metadata": {},
     "output_type": "execute_result"
    }
   ],
   "source": [
    "matriks"
   ]
  },
  {
   "cell_type": "markdown",
   "id": "317f1a8c",
   "metadata": {},
   "source": [
    "Memanggil anggota dari list 2 dimensi"
   ]
  },
  {
   "cell_type": "code",
   "execution_count": 31,
   "id": "59f351fb",
   "metadata": {},
   "outputs": [
    {
     "name": "stdout",
     "output_type": "stream",
     "text": [
      "[1, 2, 3, 4]\n",
      "1\n",
      "2\n",
      "3\n",
      "4\n",
      "[5, 6, 34, 8]\n",
      "5\n",
      "6\n",
      "34\n",
      "8\n",
      "[9, 10, 11, 12]\n",
      "9\n",
      "10\n",
      "11\n",
      "12\n",
      "[13, 14, 15, 16]\n",
      "13\n",
      "14\n",
      "15\n",
      "16\n"
     ]
    }
   ],
   "source": [
    "for baris in matriks:\n",
    "    print(baris)\n",
    "    for kolom in baris:\n",
    "        print(kolom)"
   ]
  },
  {
   "cell_type": "markdown",
   "id": "06d8bfca",
   "metadata": {},
   "source": [
    "# 5.17 Tuples"
   ]
  },
  {
   "cell_type": "markdown",
   "id": "0a8aa385",
   "metadata": {},
   "source": [
    "serupa dengan list tapi gak bisa dirubah isinya"
   ]
  },
  {
   "cell_type": "code",
   "execution_count": 32,
   "id": "6d47094e",
   "metadata": {},
   "outputs": [],
   "source": [
    "angka=(0,1,1,4,7,9,6)"
   ]
  },
  {
   "cell_type": "code",
   "execution_count": 33,
   "id": "1bb824f3",
   "metadata": {},
   "outputs": [
    {
     "name": "stdout",
     "output_type": "stream",
     "text": [
      "0\n"
     ]
    }
   ],
   "source": [
    "print(angka[0])"
   ]
  },
  {
   "cell_type": "code",
   "execution_count": 34,
   "id": "1d01e1b3",
   "metadata": {},
   "outputs": [
    {
     "name": "stdout",
     "output_type": "stream",
     "text": [
      "(0, 1, 1, 4, 7, 9)\n"
     ]
    }
   ],
   "source": [
    "print(angka[0:6])"
   ]
  },
  {
   "cell_type": "code",
   "execution_count": 35,
   "id": "8c261e86",
   "metadata": {},
   "outputs": [
    {
     "name": "stdout",
     "output_type": "stream",
     "text": [
      "0\n",
      "1\n",
      "1\n",
      "4\n",
      "7\n",
      "9\n"
     ]
    }
   ],
   "source": [
    "for isi in angka[0:6]:\n",
    "    print (isi)"
   ]
  },
  {
   "cell_type": "code",
   "execution_count": 36,
   "id": "ec60a0c0",
   "metadata": {},
   "outputs": [
    {
     "ename": "TypeError",
     "evalue": "'tuple' object does not support item assignment",
     "output_type": "error",
     "traceback": [
      "\u001b[1;31m---------------------------------------------------------------------------\u001b[0m",
      "\u001b[1;31mTypeError\u001b[0m                                 Traceback (most recent call last)",
      "\u001b[1;32m~\\AppData\\Local\\Temp/ipykernel_2932/658587473.py\u001b[0m in \u001b[0;36m<module>\u001b[1;34m\u001b[0m\n\u001b[1;32m----> 1\u001b[1;33m \u001b[0mangka\u001b[0m\u001b[1;33m[\u001b[0m\u001b[1;36m1\u001b[0m\u001b[1;33m]\u001b[0m\u001b[1;33m=\u001b[0m\u001b[1;36m12\u001b[0m\u001b[1;33m\u001b[0m\u001b[1;33m\u001b[0m\u001b[0m\n\u001b[0m",
      "\u001b[1;31mTypeError\u001b[0m: 'tuple' object does not support item assignment"
     ]
    }
   ],
   "source": [
    "angka[1]=12"
   ]
  },
  {
   "cell_type": "code",
   "execution_count": 37,
   "id": "e7431cf9",
   "metadata": {},
   "outputs": [
    {
     "ename": "AttributeError",
     "evalue": "'tuple' object has no attribute 'append'",
     "output_type": "error",
     "traceback": [
      "\u001b[1;31m---------------------------------------------------------------------------\u001b[0m",
      "\u001b[1;31mAttributeError\u001b[0m                            Traceback (most recent call last)",
      "\u001b[1;32m~\\AppData\\Local\\Temp/ipykernel_2932/755697824.py\u001b[0m in \u001b[0;36m<module>\u001b[1;34m\u001b[0m\n\u001b[1;32m----> 1\u001b[1;33m \u001b[0mangka\u001b[0m\u001b[1;33m.\u001b[0m\u001b[0mappend\u001b[0m\u001b[1;33m(\u001b[0m\u001b[1;36m12\u001b[0m\u001b[1;33m)\u001b[0m\u001b[1;33m\u001b[0m\u001b[1;33m\u001b[0m\u001b[0m\n\u001b[0m",
      "\u001b[1;31mAttributeError\u001b[0m: 'tuple' object has no attribute 'append'"
     ]
    }
   ],
   "source": [
    "angka.append(12)"
   ]
  },
  {
   "cell_type": "code",
   "execution_count": 38,
   "id": "d2fd0812",
   "metadata": {
    "scrolled": true
   },
   "outputs": [
    {
     "ename": "AttributeError",
     "evalue": "'tuple' object has no attribute 'remove'",
     "output_type": "error",
     "traceback": [
      "\u001b[1;31m---------------------------------------------------------------------------\u001b[0m",
      "\u001b[1;31mAttributeError\u001b[0m                            Traceback (most recent call last)",
      "\u001b[1;32m~\\AppData\\Local\\Temp/ipykernel_2932/1249941282.py\u001b[0m in \u001b[0;36m<module>\u001b[1;34m\u001b[0m\n\u001b[1;32m----> 1\u001b[1;33m \u001b[0mangka\u001b[0m\u001b[1;33m.\u001b[0m\u001b[0mremove\u001b[0m\u001b[1;33m(\u001b[0m\u001b[1;36m7\u001b[0m\u001b[1;33m)\u001b[0m\u001b[1;33m\u001b[0m\u001b[1;33m\u001b[0m\u001b[0m\n\u001b[0m",
      "\u001b[1;31mAttributeError\u001b[0m: 'tuple' object has no attribute 'remove'"
     ]
    }
   ],
   "source": [
    "angka.remove(7)"
   ]
  },
  {
   "cell_type": "code",
   "execution_count": 39,
   "id": "3d80492e",
   "metadata": {},
   "outputs": [
    {
     "data": {
      "text/plain": [
       "0"
      ]
     },
     "execution_count": 39,
     "metadata": {},
     "output_type": "execute_result"
    }
   ],
   "source": [
    "angka.count(3)"
   ]
  },
  {
   "cell_type": "code",
   "execution_count": 40,
   "id": "d81fde4b",
   "metadata": {},
   "outputs": [
    {
     "data": {
      "text/plain": [
       "6"
      ]
     },
     "execution_count": 40,
     "metadata": {},
     "output_type": "execute_result"
    }
   ],
   "source": [
    "angka.index(6)"
   ]
  },
  {
   "cell_type": "markdown",
   "id": "2c681948",
   "metadata": {},
   "source": [
    "# 5.18 Dictionaries"
   ]
  },
  {
   "cell_type": "markdown",
   "id": "32e65fd4",
   "metadata": {},
   "source": [
    "datanya terkait satu sama lain"
   ]
  },
  {
   "cell_type": "code",
   "execution_count": 41,
   "id": "0c308075",
   "metadata": {},
   "outputs": [],
   "source": [
    "data_orang = {\n",
    "    \"nama\" : \"Ikuta Rira\",\n",
    "    \"umur\" : 21,\n",
    "    \"apakah_sudah_menikah\" : False\n",
    "}"
   ]
  },
  {
   "cell_type": "code",
   "execution_count": 42,
   "id": "f2b5519e",
   "metadata": {},
   "outputs": [
    {
     "name": "stdout",
     "output_type": "stream",
     "text": [
      "Ikuta Rira\n"
     ]
    }
   ],
   "source": [
    "print (data_orang['nama'])"
   ]
  },
  {
   "cell_type": "code",
   "execution_count": 43,
   "id": "fa467021",
   "metadata": {},
   "outputs": [
    {
     "ename": "KeyError",
     "evalue": "'Nama'",
     "output_type": "error",
     "traceback": [
      "\u001b[1;31m---------------------------------------------------------------------------\u001b[0m",
      "\u001b[1;31mKeyError\u001b[0m                                  Traceback (most recent call last)",
      "\u001b[1;32m~\\AppData\\Local\\Temp/ipykernel_2932/1883148979.py\u001b[0m in \u001b[0;36m<module>\u001b[1;34m\u001b[0m\n\u001b[1;32m----> 1\u001b[1;33m \u001b[0mprint\u001b[0m\u001b[1;33m(\u001b[0m\u001b[0mdata_orang\u001b[0m\u001b[1;33m[\u001b[0m\u001b[1;34m'Nama'\u001b[0m\u001b[1;33m]\u001b[0m\u001b[1;33m)\u001b[0m\u001b[1;33m\u001b[0m\u001b[1;33m\u001b[0m\u001b[0m\n\u001b[0m",
      "\u001b[1;31mKeyError\u001b[0m: 'Nama'"
     ]
    }
   ],
   "source": [
    "print(data_orang['Nama'])"
   ]
  },
  {
   "cell_type": "code",
   "execution_count": 44,
   "id": "6a9c7653",
   "metadata": {},
   "outputs": [
    {
     "name": "stdout",
     "output_type": "stream",
     "text": [
      "Ikuta Rira\n"
     ]
    }
   ],
   "source": [
    "print(data_orang.get('nama'))"
   ]
  },
  {
   "cell_type": "code",
   "execution_count": 45,
   "id": "e71a26d0",
   "metadata": {},
   "outputs": [
    {
     "name": "stdout",
     "output_type": "stream",
     "text": [
      "None\n"
     ]
    }
   ],
   "source": [
    "print(data_orang.get('Nama'))"
   ]
  },
  {
   "cell_type": "code",
   "execution_count": 46,
   "id": "367463d2",
   "metadata": {},
   "outputs": [
    {
     "name": "stdout",
     "output_type": "stream",
     "text": [
      "None\n"
     ]
    }
   ],
   "source": [
    "print(data_orang.get('pekerjaan'))"
   ]
  },
  {
   "cell_type": "code",
   "execution_count": 47,
   "id": "534f66fb",
   "metadata": {},
   "outputs": [
    {
     "name": "stdout",
     "output_type": "stream",
     "text": [
      "singer dan song writer\n"
     ]
    }
   ],
   "source": [
    "print(data_orang.get('pekerjaan', 'singer dan song writer'))"
   ]
  },
  {
   "cell_type": "code",
   "execution_count": 48,
   "id": "5af1efb1",
   "metadata": {},
   "outputs": [
    {
     "name": "stdout",
     "output_type": "stream",
     "text": [
      "{'nama': 'Ikuta Rira', 'umur': 21, 'apakah_sudah_menikah': False}\n"
     ]
    }
   ],
   "source": [
    "print(data_orang)"
   ]
  },
  {
   "cell_type": "code",
   "execution_count": 49,
   "id": "9ffe3002",
   "metadata": {},
   "outputs": [
    {
     "ename": "KeyError",
     "evalue": "'pekerjaan'",
     "output_type": "error",
     "traceback": [
      "\u001b[1;31m---------------------------------------------------------------------------\u001b[0m",
      "\u001b[1;31mKeyError\u001b[0m                                  Traceback (most recent call last)",
      "\u001b[1;32m~\\AppData\\Local\\Temp/ipykernel_2932/548745006.py\u001b[0m in \u001b[0;36m<module>\u001b[1;34m\u001b[0m\n\u001b[1;32m----> 1\u001b[1;33m \u001b[0mprint\u001b[0m\u001b[1;33m(\u001b[0m\u001b[0mdata_orang\u001b[0m\u001b[1;33m[\u001b[0m\u001b[1;34m\"pekerjaan\"\u001b[0m\u001b[1;33m]\u001b[0m\u001b[1;33m)\u001b[0m\u001b[1;33m\u001b[0m\u001b[1;33m\u001b[0m\u001b[0m\n\u001b[0m",
      "\u001b[1;31mKeyError\u001b[0m: 'pekerjaan'"
     ]
    }
   ],
   "source": [
    "print(data_orang[\"pekerjaan\"])"
   ]
  },
  {
   "cell_type": "code",
   "execution_count": 50,
   "id": "dc616618",
   "metadata": {},
   "outputs": [],
   "source": [
    "data_orang['tempat_tinggal']='Tokyo'"
   ]
  },
  {
   "cell_type": "code",
   "execution_count": 51,
   "id": "0dff69b1",
   "metadata": {},
   "outputs": [
    {
     "name": "stdout",
     "output_type": "stream",
     "text": [
      "Tokyo\n"
     ]
    }
   ],
   "source": [
    "print(data_orang['tempat_tinggal'])"
   ]
  },
  {
   "cell_type": "code",
   "execution_count": 52,
   "id": "40dcbcf0",
   "metadata": {},
   "outputs": [
    {
     "name": "stdout",
     "output_type": "stream",
     "text": [
      "{'nama': 'Ikuta Rira', 'umur': 21, 'apakah_sudah_menikah': False, 'tempat_tinggal': 'Tokyo'}\n"
     ]
    }
   ],
   "source": [
    "print(data_orang)"
   ]
  },
  {
   "cell_type": "markdown",
   "id": "75724922",
   "metadata": {},
   "source": [
    "Latihan\n",
    "Membilang suatu nomor HP"
   ]
  },
  {
   "cell_type": "code",
   "execution_count": 53,
   "id": "2c43e9ab",
   "metadata": {},
   "outputs": [],
   "source": [
    "angka ={\n",
    "    \"0\" : \"nol\",\n",
    "    \"1\" : \"satu\",\n",
    "    \"2\" : \"dua\",\n",
    "    \"3\" : \"tiga\",\n",
    "    \"4\" : \"empat\",\n",
    "    \"5\" : \"lima\",\n",
    "    \"6\" : \"enam\",\n",
    "    \"7\" : \"tujuh\",\n",
    "    \"8\" : \"delapan\",\n",
    "    \"9\" : \"sembbilan\"\n",
    "}"
   ]
  },
  {
   "cell_type": "code",
   "execution_count": 54,
   "id": "7d86be1e",
   "metadata": {},
   "outputs": [
    {
     "name": "stdout",
     "output_type": "stream",
     "text": [
      "hayo mau masukin angkanya berapa 0801\n",
      "nol delapan nol satu \n"
     ]
    }
   ],
   "source": [
    "bilangan=input('hayo mau masukin angkanya berapa ')\n",
    "nomor_angka=\"\"\n",
    "for isi in bilangan:\n",
    "    nomor_angka += angka.get(isi) + \" \"\n",
    "print (nomor_angka)"
   ]
  },
  {
   "cell_type": "markdown",
   "id": "bbf64e30",
   "metadata": {},
   "source": [
    "# 5.19 Fungsi dalam Python"
   ]
  },
  {
   "cell_type": "markdown",
   "id": "ff9fd6a7",
   "metadata": {},
   "source": [
    "untuk menghindari pengulangan yang tinggi dalam pembuatan program secara manual, terlebih untuk fungsi yang melakukan pengulangan yang tinggi dalam program yang kita buat."
   ]
  },
  {
   "cell_type": "code",
   "execution_count": 55,
   "id": "26f69003",
   "metadata": {},
   "outputs": [],
   "source": [
    "def full_name (first_name,last_name) :\n",
    "    print (f\"Nama lengkap saudara adalah {first_name} {last_name}\")"
   ]
  },
  {
   "cell_type": "code",
   "execution_count": 56,
   "id": "eb3cd8ed",
   "metadata": {},
   "outputs": [
    {
     "name": "stdout",
     "output_type": "stream",
     "text": [
      "Silahkan masukan nama depan anda Ikuta\n",
      "Silahkan masukan nama belakang anda Rira\n",
      "Nama lengkap saudara adalah Ikuta Rira\n"
     ]
    }
   ],
   "source": [
    "first_name = input (\"Silahkan masukan nama depan anda \")\n",
    "last_name = input (\"Silahkan masukan nama belakang anda \")\n",
    "full_name (first_name,last_name)"
   ]
  },
  {
   "cell_type": "markdown",
   "id": "6954285f",
   "metadata": {},
   "source": [
    "# 5.19.1Tugas Fungsi pada Python"
   ]
  },
  {
   "cell_type": "markdown",
   "id": "93cafdbb",
   "metadata": {},
   "source": [
    "dua jenis tugas fungsi\n",
    "1. Menjalankan perintah\n",
    "2. Menampilkan hasil perhitungan"
   ]
  },
  {
   "cell_type": "code",
   "execution_count": 57,
   "id": "79ecc6de",
   "metadata": {},
   "outputs": [],
   "source": [
    "def waktu_sampai (jarak,kecepatan):\n",
    "    waktu = jarak/kecepatan\n",
    "    print(waktu)"
   ]
  },
  {
   "cell_type": "code",
   "execution_count": 58,
   "id": "e3f63c08",
   "metadata": {},
   "outputs": [],
   "source": [
    "def waktu_tempuh (jarak,kecepatan):\n",
    "    waktu = jarak/kecepatan\n",
    "    return waktu"
   ]
  },
  {
   "cell_type": "code",
   "execution_count": 59,
   "id": "0c204e54",
   "metadata": {},
   "outputs": [
    {
     "name": "stdout",
     "output_type": "stream",
     "text": [
      "2.0\n"
     ]
    }
   ],
   "source": [
    "waktu_sampai (80,40)"
   ]
  },
  {
   "cell_type": "code",
   "execution_count": 60,
   "id": "1eba69d2",
   "metadata": {},
   "outputs": [
    {
     "data": {
      "text/plain": [
       "2.0"
      ]
     },
     "execution_count": 60,
     "metadata": {},
     "output_type": "execute_result"
    }
   ],
   "source": [
    "waktu_tempuh (80,40)"
   ]
  },
  {
   "cell_type": "code",
   "execution_count": 61,
   "id": "752c6969",
   "metadata": {},
   "outputs": [
    {
     "name": "stdout",
     "output_type": "stream",
     "text": [
      "2.0\n",
      "None\n"
     ]
    }
   ],
   "source": [
    "a = waktu_sampai (80,40)\n",
    "print (a)"
   ]
  },
  {
   "cell_type": "code",
   "execution_count": 62,
   "id": "fd369091",
   "metadata": {},
   "outputs": [
    {
     "name": "stdout",
     "output_type": "stream",
     "text": [
      "2.0\n"
     ]
    }
   ],
   "source": [
    "b = waktu_tempuh (80,40)\n",
    "print (b)"
   ]
  },
  {
   "cell_type": "markdown",
   "id": "3c9d3c18",
   "metadata": {},
   "source": [
    "Latihan : membuat program untuk menghitung luas segitiga, lingkaran, persegi panjang, dan persegi"
   ]
  },
  {
   "cell_type": "code",
   "execution_count": 63,
   "id": "9c8a7c7a",
   "metadata": {},
   "outputs": [],
   "source": [
    "import numpy as np"
   ]
  },
  {
   "cell_type": "code",
   "execution_count": 64,
   "id": "4bfd4b13",
   "metadata": {},
   "outputs": [],
   "source": [
    "def luas_segitiga(alas,tinggi):\n",
    "    luas=(1/2)*alas*tinggi\n",
    "    return luas\n",
    "def luas_lingkaran(jari_jari):\n",
    "    luas=np.pi*(jari_jari**2)\n",
    "    return luas\n",
    "def luas_persegi (sisi):\n",
    "    luas=(sisi**2)\n",
    "    return luas\n",
    "def luas_persegi_panjang (panjang,lebar):\n",
    "    luas=(panjang*lebar)\n",
    "    return luas"
   ]
  },
  {
   "cell_type": "code",
   "execution_count": 65,
   "id": "70a4e4a3",
   "metadata": {},
   "outputs": [
    {
     "name": "stdout",
     "output_type": "stream",
     "text": [
      "bidang yang akan dihitung Persegi\n",
      "panjang sisinya 4\n",
      "Luas Persegi adalah 16.0\n"
     ]
    }
   ],
   "source": [
    "jenis_bidang=input('bidang yang akan dihitung ')\n",
    "if jenis_bidang.upper() == 'SEGITIGA':\n",
    "    alas=float(input('panjang alas '))\n",
    "    tinggi=float(input('panjang tinggi '))\n",
    "    luas=luas_segitiga(alas,tinggi)\n",
    "elif jenis_bidang.upper()=='LINGKARAN':\n",
    "    jari_jari=float(input('panjang jari-jari '))\n",
    "    luas=luas_lingkaran(jari_jari)\n",
    "elif (jenis_bidang.upper()=='PERSEGI') or (jenis_bidang.upper() == 'BUJUR SANGKAR'):\n",
    "    sisi=float(input('panjang sisinya '))\n",
    "    luas=luas_persegi(sisi)\n",
    "elif jenis_bidang.upper()=='PERSEGI PANJANG':\n",
    "    panjang=float(input('berapa hayo panjangnya '))\n",
    "    lebar=float(input('berapa hayo lebarnya '))\n",
    "    luas=luas_persegi_panjang(panjang,lebar)\n",
    "else:\n",
    "    print(f\"maaf {jenis_bidang} yang anda masukkan tidak ada\")\n",
    "    print(f\"hanya menerima SEGITIGA, LINGKARAN, PERSEGI, PEESEGI PANJANG.\")\n",
    "    print(f\"coba lagi!\")\n",
    "\n",
    "print(f\"Luas {jenis_bidang} adalah {luas}\")"
   ]
  },
  {
   "cell_type": "markdown",
   "id": "14f21ce1",
   "metadata": {},
   "source": [
    "Latihan Sekarang menghitung keliling dari segitiga, lingkaran, persegi, persegi panjang"
   ]
  },
  {
   "cell_type": "code",
   "execution_count": 66,
   "id": "20c46952",
   "metadata": {},
   "outputs": [],
   "source": [
    "import numpy as np"
   ]
  },
  {
   "cell_type": "code",
   "execution_count": 67,
   "id": "4aeb854c",
   "metadata": {},
   "outputs": [],
   "source": [
    "def keliling_segitiga(a,b,c):\n",
    "    keliling =a+b+c\n",
    "    return keliling\n",
    "def keliling_lingkaran (jari_jari) :\n",
    "    keliling = np.pi*(2*jari_jari)\n",
    "    return keliling\n",
    "def keliling_persegi (sisi) :\n",
    "    keliling = 4*sisi\n",
    "    return keliling\n",
    "def keliling_persegi_panjang (panjang,lebar) :\n",
    "    keliling = ((2*panjang)+(2*lebar))\n",
    "    return keliling"
   ]
  },
  {
   "cell_type": "code",
   "execution_count": 68,
   "id": "95274897",
   "metadata": {
    "scrolled": true
   },
   "outputs": [
    {
     "name": "stdout",
     "output_type": "stream",
     "text": [
      "bidang yang akan dihitung Persegi\n",
      "panjang sisinya 4\n",
      "Keliling Persegi adalah 16.0\n"
     ]
    }
   ],
   "source": [
    "jenis_bidang=input('bidang yang akan dihitung ')\n",
    "if jenis_bidang.upper() == 'SEGITIGA':\n",
    "    a=float(input('panjang a '))\n",
    "    b=float(input('panjang b '))\n",
    "    c=float(input('panjang c '))\n",
    "    keliling=keliling_segitiga(a,b,c)\n",
    "elif jenis_bidang.upper()=='LINGKARAN':\n",
    "    jari_jari=float(input('panjang jari-jari '))\n",
    "    keliling=keliling_lingkaran(jari_jari)\n",
    "elif (jenis_bidang.upper()=='PERSEGI') or (jenis_bidang.upper() == 'BUJUR SANGKAR'):\n",
    "    sisi=float(input('panjang sisinya '))\n",
    "    keliling=keliling_persegi(sisi)\n",
    "elif jenis_bidang.upper()=='PERSEGI PANJANG':\n",
    "    panjang=float(input('berapa hayo panjangnya '))\n",
    "    lebar=float(input('berapa hayo lebarnya '))\n",
    "    keliling=keliling_persegi_panjang(panjang,lebar)\n",
    "else:\n",
    "    print(f\"maaf {jenis_bidang} yang anda masukkan tidak ada\")\n",
    "    print(f\"hanya menerima SEGITIGA, LINGKARAN, PERSEGI, PEESEGI PANJANG.\")\n",
    "    print(f\"coba lagi!\")\n",
    "\n",
    "print(f\"Keliling {jenis_bidang} adalah {keliling}\")"
   ]
  }
 ],
 "metadata": {
  "kernelspec": {
   "display_name": "Python 3 (ipykernel)",
   "language": "python",
   "name": "python3"
  },
  "language_info": {
   "codemirror_mode": {
    "name": "ipython",
    "version": 3
   },
   "file_extension": ".py",
   "mimetype": "text/x-python",
   "name": "python",
   "nbconvert_exporter": "python",
   "pygments_lexer": "ipython3",
   "version": "3.9.7"
  }
 },
 "nbformat": 4,
 "nbformat_minor": 5
}
