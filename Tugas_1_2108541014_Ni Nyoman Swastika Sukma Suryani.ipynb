{
 "cells": [
  {
   "cell_type": "markdown",
   "id": "8d6e0c7a",
   "metadata": {},
   "source": [
    "# 5.1 Print"
   ]
  },
  {
   "cell_type": "code",
   "execution_count": 1,
   "id": "b5d27320",
   "metadata": {},
   "outputs": [
    {
     "name": "stdout",
     "output_type": "stream",
     "text": [
      "Ini kelas Algoritma\n"
     ]
    }
   ],
   "source": [
    "print('Ini kelas Algoritma')"
   ]
  },
  {
   "cell_type": "code",
   "execution_count": 2,
   "id": "5cbeaee8",
   "metadata": {},
   "outputs": [
    {
     "name": "stdout",
     "output_type": "stream",
     "text": [
      "Ini Kelas Algoritma\n"
     ]
    }
   ],
   "source": [
    "print(\"Ini Kelas Algoritma\")"
   ]
  },
  {
   "cell_type": "code",
   "execution_count": 3,
   "id": "f2132c7a",
   "metadata": {},
   "outputs": [
    {
     "name": "stdout",
     "output_type": "stream",
     "text": [
      "I don't understand what are you saying\n"
     ]
    }
   ],
   "source": [
    "print(\"I don't understand what are you saying\")"
   ]
  },
  {
   "cell_type": "code",
   "execution_count": 4,
   "id": "34722a91",
   "metadata": {},
   "outputs": [
    {
     "ename": "SyntaxError",
     "evalue": "invalid syntax (Temp/ipykernel_10008/4272285998.py, line 1)",
     "output_type": "error",
     "traceback": [
      "\u001b[1;36m  File \u001b[1;32m\"C:\\Users\\Gedebayu\\AppData\\Local\\Temp/ipykernel_10008/4272285998.py\"\u001b[1;36m, line \u001b[1;32m1\u001b[0m\n\u001b[1;33m    print ('I don't understand what are you saying')\u001b[0m\n\u001b[1;37m                  ^\u001b[0m\n\u001b[1;31mSyntaxError\u001b[0m\u001b[1;31m:\u001b[0m invalid syntax\n"
     ]
    }
   ],
   "source": [
    "print ('I don't understand what are you saying')"
   ]
  },
  {
   "cell_type": "code",
   "execution_count": 5,
   "id": "b526780d",
   "metadata": {},
   "outputs": [
    {
     "name": "stdout",
     "output_type": "stream",
     "text": [
      "He is such a \"GENIUS\"\n"
     ]
    }
   ],
   "source": [
    "print ('He is such a \"GENIUS\"')"
   ]
  },
  {
   "cell_type": "code",
   "execution_count": 6,
   "id": "1b1e2663",
   "metadata": {},
   "outputs": [
    {
     "ename": "SyntaxError",
     "evalue": "invalid syntax (Temp/ipykernel_10008/2485381186.py, line 1)",
     "output_type": "error",
     "traceback": [
      "\u001b[1;36m  File \u001b[1;32m\"C:\\Users\\Gedebayu\\AppData\\Local\\Temp/ipykernel_10008/2485381186.py\"\u001b[1;36m, line \u001b[1;32m1\u001b[0m\n\u001b[1;33m    print (\"He is such a \"GENIUS\")\u001b[0m\n\u001b[1;37m                          ^\u001b[0m\n\u001b[1;31mSyntaxError\u001b[0m\u001b[1;31m:\u001b[0m invalid syntax\n"
     ]
    }
   ],
   "source": [
    "print (\"He is such a \"GENIUS\")"
   ]
  },
  {
   "cell_type": "markdown",
   "id": "5830eeb4",
   "metadata": {},
   "source": [
    "latihan"
   ]
  },
  {
   "cell_type": "code",
   "execution_count": 7,
   "id": "3697ec13",
   "metadata": {},
   "outputs": [
    {
     "name": "stdout",
     "output_type": "stream",
     "text": [
      "Ikuta Rira\n"
     ]
    }
   ],
   "source": [
    "nama_depan = 'Ikuta '\n",
    "nama_belakang = 'Rira'\n",
    "print(nama_depan + nama_belakang)"
   ]
  },
  {
   "cell_type": "code",
   "execution_count": 8,
   "id": "b52f1723",
   "metadata": {},
   "outputs": [
    {
     "name": "stdout",
     "output_type": "stream",
     "text": [
      "Ikuta Rira\n"
     ]
    }
   ],
   "source": [
    "nama_depan = 'Ikuta'\n",
    "nama_tengah = ' '\n",
    "nama_belakang = 'Rira'\n",
    "print(nama_depan + nama_tengah + nama_belakang)"
   ]
  },
  {
   "cell_type": "code",
   "execution_count": 9,
   "id": "0d56fef6",
   "metadata": {},
   "outputs": [
    {
     "name": "stdout",
     "output_type": "stream",
     "text": [
      "42\n",
      "100000\n",
      "4200000\n"
     ]
    }
   ],
   "source": [
    "mahasiswa_14 = 42\n",
    "uang_di_dompet_14 = 100000\n",
    "print (mahasiswa_14)\n",
    "print (uang_di_dompet_14)\n",
    "total_uang = print (mahasiswa_14*uang_di_dompet_14)"
   ]
  },
  {
   "cell_type": "markdown",
   "id": "545bf686",
   "metadata": {},
   "source": [
    "# 5.2 Input"
   ]
  },
  {
   "cell_type": "code",
   "execution_count": 10,
   "id": "21941745",
   "metadata": {},
   "outputs": [
    {
     "name": "stdout",
     "output_type": "stream",
     "text": [
      "Siapakah nama anda? Ikuta\n",
      "Apakah kegiatan anda sekarang, Ikuta? tidur\n",
      "Semangat tidur nya yah, Ikuta !\n"
     ]
    }
   ],
   "source": [
    "nama = input (\"Siapakah nama anda? \")\n",
    "kegiatan = input (\"Apakah kegiatan anda sekarang, \" + nama + \"? \")\n",
    "print (\"Semangat \" + kegiatan + \" nya yah, \" + nama +  \" !\")"
   ]
  },
  {
   "cell_type": "markdown",
   "id": "e3552eb7",
   "metadata": {},
   "source": [
    "# 5.3 Tipe Data pada Python"
   ]
  },
  {
   "cell_type": "code",
   "execution_count": 11,
   "id": "dc337d13",
   "metadata": {},
   "outputs": [
    {
     "name": "stdout",
     "output_type": "stream",
     "text": [
      "Uang yang ada di saku celana, ada berapa? 1000\n",
      "Uangmu yang ada di bank, ada berapa? 100000\n",
      "Total uang kamu adalah Rp 1000100000\n"
     ]
    }
   ],
   "source": [
    "uang_di_saku_celana=input ('Uang yang ada di saku celana, ada berapa? ')\n",
    "uang_di_dompet=input ('Uangmu yang ada di bank, ada berapa? ')\n",
    "print(\"Total uang kamu adalah Rp \"+uang_di_saku_celana + uang_di_dompet)\n",
    "\n",
    "#bukan kayak gini yang kita inginkan"
   ]
  },
  {
   "cell_type": "code",
   "execution_count": 12,
   "id": "348f839a",
   "metadata": {},
   "outputs": [
    {
     "name": "stdout",
     "output_type": "stream",
     "text": [
      "Uang yang ada di saku celana, ada berapa? 100\n",
      "Uangmu yang ada di bank, ada berapa? 100000\n",
      "Total uang kamu adalah Rp 100100\n"
     ]
    }
   ],
   "source": [
    "uang_di_saku_celana=input ('Uang yang ada di saku celana, ada berapa? ')\n",
    "uang_di_dompet=input ('Uangmu yang ada di bank, ada berapa? ')\n",
    "total_uang=int(uang_di_saku_celana)+int(uang_di_dompet)\n",
    "print(\"Total uang kamu adalah Rp \"+ str (total_uang))"
   ]
  },
  {
   "cell_type": "markdown",
   "id": "841f27cf",
   "metadata": {},
   "source": [
    "melihat tipe data variabel"
   ]
  },
  {
   "cell_type": "code",
   "execution_count": 13,
   "id": "258e5d99",
   "metadata": {},
   "outputs": [
    {
     "data": {
      "text/plain": [
       "str"
      ]
     },
     "execution_count": 13,
     "metadata": {},
     "output_type": "execute_result"
    }
   ],
   "source": [
    "type(uang_di_dompet)"
   ]
  },
  {
   "cell_type": "code",
   "execution_count": 14,
   "id": "4f6c7148",
   "metadata": {},
   "outputs": [
    {
     "data": {
      "text/plain": [
       "str"
      ]
     },
     "execution_count": 14,
     "metadata": {},
     "output_type": "execute_result"
    }
   ],
   "source": [
    "type(uang_di_saku_celana)"
   ]
  },
  {
   "cell_type": "code",
   "execution_count": 15,
   "id": "3deb9938",
   "metadata": {},
   "outputs": [
    {
     "data": {
      "text/plain": [
       "int"
      ]
     },
     "execution_count": 15,
     "metadata": {},
     "output_type": "execute_result"
    }
   ],
   "source": [
    "type(total_uang)"
   ]
  },
  {
   "cell_type": "code",
   "execution_count": null,
   "id": "a3fd404f",
   "metadata": {},
   "outputs": [],
   "source": []
  },
  {
   "cell_type": "markdown",
   "id": "781f5157",
   "metadata": {},
   "source": [
    "latihan : Penjumlahan dua bilangan"
   ]
  },
  {
   "cell_type": "code",
   "execution_count": 16,
   "id": "c1054406",
   "metadata": {},
   "outputs": [
    {
     "name": "stdout",
     "output_type": "stream",
     "text": [
      "Masukkan bilangan pertama 46\n",
      "Masukkan bilangan kedua 2\n",
      "Jumlah kedua bilangan adalah 48.0\n"
     ]
    }
   ],
   "source": [
    "bilangan_pertama=input(\"Masukkan bilangan pertama \")\n",
    "bilangan_kedua=input(\"Masukkan bilangan kedua \")\n",
    "jumlah_bilangan=float(bilangan_pertama)+float(bilangan_kedua)\n",
    "print(\"Jumlah kedua bilangan adalah \" + str(jumlah_bilangan))"
   ]
  },
  {
   "cell_type": "markdown",
   "id": "5f5ecef4",
   "metadata": {},
   "source": [
    "# 5.4 Formatted String"
   ]
  },
  {
   "cell_type": "markdown",
   "id": "76f383ba",
   "metadata": {},
   "source": [
    "mempermudah penulisan niali varibel yang akan dicetak pada perintah print\n",
    "1. setiap variabel harus diberi kurung kurawal"
   ]
  },
  {
   "cell_type": "code",
   "execution_count": 17,
   "id": "7dcfaa9b",
   "metadata": {},
   "outputs": [
    {
     "name": "stdout",
     "output_type": "stream",
     "text": [
      "Ikuta Rira yang tinggal di Tokyo adalah seorang song writer\n"
     ]
    }
   ],
   "source": [
    "nama = 'Ikuta Rira'\n",
    "tempat_tinggal = 'Tokyo'\n",
    "pekerjaan = \"song writer\"\n",
    "print (nama + ' yang tinggal di ' + tempat_tinggal + ' adalah seorang ' + pekerjaan)"
   ]
  },
  {
   "cell_type": "code",
   "execution_count": 18,
   "id": "405c977b",
   "metadata": {},
   "outputs": [
    {
     "name": "stdout",
     "output_type": "stream",
     "text": [
      "Ikuta Rira yang tinggal di Tokyo adalah seorang song writer\n"
     ]
    }
   ],
   "source": [
    "print (f'{nama} yang tinggal di {tempat_tinggal} adalah seorang {pekerjaan}')"
   ]
  },
  {
   "cell_type": "code",
   "execution_count": 19,
   "id": "285dd166",
   "metadata": {},
   "outputs": [
    {
     "name": "stdout",
     "output_type": "stream",
     "text": [
      "Ikuta Rira yang tinggal di Tokyo adalah seorang song writer\n"
     ]
    }
   ],
   "source": [
    "print (f\"{nama} yang tinggal di {tempat_tinggal} adalah seorang {pekerjaan}\")"
   ]
  },
  {
   "cell_type": "markdown",
   "id": "574f7979",
   "metadata": {},
   "source": [
    "# 5.5 Strings Index"
   ]
  },
  {
   "cell_type": "markdown",
   "id": "d93ab745",
   "metadata": {},
   "source": [
    "1. mengurutkannya diawali dengan 0\n",
    "2. urutan terakhir adalah urutan ke -1\n",
    "3. urutan kedua terakhir adalah urutan ke -2"
   ]
  },
  {
   "cell_type": "code",
   "execution_count": 20,
   "id": "52a38084",
   "metadata": {},
   "outputs": [],
   "source": [
    "kelas='Kita Sedang ada di FX Sudirman'"
   ]
  },
  {
   "cell_type": "code",
   "execution_count": 21,
   "id": "3d68a1d5",
   "metadata": {},
   "outputs": [
    {
     "name": "stdout",
     "output_type": "stream",
     "text": [
      "Kit\n"
     ]
    }
   ],
   "source": [
    "print(kelas[0:3])"
   ]
  },
  {
   "cell_type": "code",
   "execution_count": 22,
   "id": "60d5778d",
   "metadata": {},
   "outputs": [
    {
     "name": "stdout",
     "output_type": "stream",
     "text": [
      "Kita Sedang ada di FX Sudirma\n"
     ]
    }
   ],
   "source": [
    "print(kelas[0:-1])"
   ]
  },
  {
   "cell_type": "code",
   "execution_count": 23,
   "id": "76562e68",
   "metadata": {},
   "outputs": [
    {
     "name": "stdout",
     "output_type": "stream",
     "text": [
      "Sedang ada di FX Sudirma\n"
     ]
    }
   ],
   "source": [
    "print(kelas[5:-1])"
   ]
  },
  {
   "cell_type": "code",
   "execution_count": 24,
   "id": "901d0642",
   "metadata": {},
   "outputs": [
    {
     "name": "stdout",
     "output_type": "stream",
     "text": [
      "tSa aiXur\n"
     ]
    }
   ],
   "source": [
    "print(kelas[2:-1:3])"
   ]
  },
  {
   "cell_type": "code",
   "execution_count": 25,
   "id": "f48c6aff",
   "metadata": {},
   "outputs": [
    {
     "name": "stdout",
     "output_type": "stream",
     "text": [
      "Kita Sedang ada di FX Sudir\n"
     ]
    }
   ],
   "source": [
    "print(kelas[:-3])"
   ]
  },
  {
   "cell_type": "code",
   "execution_count": 26,
   "id": "1dfd334f",
   "metadata": {},
   "outputs": [
    {
     "name": "stdout",
     "output_type": "stream",
     "text": [
      "ita Sedang ada di FX Sudirman\n"
     ]
    }
   ],
   "source": [
    "print(kelas[1:])"
   ]
  },
  {
   "cell_type": "code",
   "execution_count": 27,
   "id": "715c588f",
   "metadata": {},
   "outputs": [
    {
     "name": "stdout",
     "output_type": "stream",
     "text": [
      "Kita Sedang ada di FX Sudirman\n"
     ]
    }
   ],
   "source": [
    "print(kelas[:])"
   ]
  },
  {
   "cell_type": "markdown",
   "id": "3cae5184",
   "metadata": {},
   "source": [
    "# 5.6 Strings Methods"
   ]
  },
  {
   "cell_type": "code",
   "execution_count": 28,
   "id": "381ef449",
   "metadata": {},
   "outputs": [],
   "source": [
    "judul='Bali Surga Dunia'"
   ]
  },
  {
   "cell_type": "code",
   "execution_count": 29,
   "id": "88ae877c",
   "metadata": {},
   "outputs": [
    {
     "name": "stdout",
     "output_type": "stream",
     "text": [
      "16\n"
     ]
    }
   ],
   "source": [
    "print(len(judul))"
   ]
  },
  {
   "cell_type": "code",
   "execution_count": 30,
   "id": "0ba755db",
   "metadata": {},
   "outputs": [
    {
     "data": {
      "text/plain": [
       "'BALI SURGA DUNIA'"
      ]
     },
     "execution_count": 30,
     "metadata": {},
     "output_type": "execute_result"
    }
   ],
   "source": [
    "judul.upper()"
   ]
  },
  {
   "cell_type": "code",
   "execution_count": 31,
   "id": "6b330a1a",
   "metadata": {},
   "outputs": [
    {
     "data": {
      "text/plain": [
       "'bali surga dunia'"
      ]
     },
     "execution_count": 31,
     "metadata": {},
     "output_type": "execute_result"
    }
   ],
   "source": [
    "judul.lower()"
   ]
  },
  {
   "cell_type": "code",
   "execution_count": 32,
   "id": "942523c9",
   "metadata": {},
   "outputs": [
    {
     "data": {
      "text/plain": [
       "11"
      ]
     },
     "execution_count": 32,
     "metadata": {},
     "output_type": "execute_result"
    }
   ],
   "source": [
    "judul.find('Dunia')"
   ]
  },
  {
   "cell_type": "code",
   "execution_count": 33,
   "id": "d1329b2f",
   "metadata": {},
   "outputs": [
    {
     "data": {
      "text/plain": [
       "-1"
      ]
     },
     "execution_count": 33,
     "metadata": {},
     "output_type": "execute_result"
    }
   ],
   "source": [
    "judul.find('surga')"
   ]
  },
  {
   "cell_type": "code",
   "execution_count": 34,
   "id": "d41ce268",
   "metadata": {},
   "outputs": [
    {
     "data": {
      "text/plain": [
       "'Indonesia Surga Dunia'"
      ]
     },
     "execution_count": 34,
     "metadata": {},
     "output_type": "execute_result"
    }
   ],
   "source": [
    "judul.replace('Bali','Indonesia')"
   ]
  },
  {
   "cell_type": "code",
   "execution_count": 35,
   "id": "60962e31",
   "metadata": {},
   "outputs": [
    {
     "data": {
      "text/plain": [
       "'Bali Surga Dunia'"
      ]
     },
     "execution_count": 35,
     "metadata": {},
     "output_type": "execute_result"
    }
   ],
   "source": [
    "judul.replace('bali','Indonesia')"
   ]
  },
  {
   "cell_type": "code",
   "execution_count": 36,
   "id": "201ffeb3",
   "metadata": {},
   "outputs": [
    {
     "name": "stdout",
     "output_type": "stream",
     "text": [
      "True\n"
     ]
    }
   ],
   "source": [
    "print('Bali' in judul)"
   ]
  },
  {
   "cell_type": "code",
   "execution_count": 37,
   "id": "d790b29b",
   "metadata": {},
   "outputs": [
    {
     "name": "stdout",
     "output_type": "stream",
     "text": [
      "False\n"
     ]
    }
   ],
   "source": [
    "print('bali' in judul)"
   ]
  },
  {
   "cell_type": "markdown",
   "id": "06cc0f5d",
   "metadata": {},
   "source": [
    "# 5.7 Operasi Matematika di Python"
   ]
  },
  {
   "cell_type": "code",
   "execution_count": 38,
   "id": "a243e4ab",
   "metadata": {},
   "outputs": [
    {
     "name": "stdout",
     "output_type": "stream",
     "text": [
      "10\n",
      "4\n",
      "21\n",
      "2.3333333333333335\n",
      "2\n",
      "1\n",
      "343\n"
     ]
    }
   ],
   "source": [
    "print(7+3)\n",
    "print (7-3)\n",
    "print (7*3)\n",
    "print (7/3)\n",
    "print (7//3)\n",
    "print (7%3)\n",
    "print (7**3)"
   ]
  },
  {
   "cell_type": "code",
   "execution_count": 39,
   "id": "0fc00eb6",
   "metadata": {},
   "outputs": [
    {
     "name": "stdout",
     "output_type": "stream",
     "text": [
      "7\n",
      "2\n",
      "-6\n"
     ]
    }
   ],
   "source": [
    "x=4\n",
    "x+=3\n",
    "print (x)\n",
    "\n",
    "x-=5\n",
    "print(x)\n",
    "\n",
    "x*=-3\n",
    "print(x)"
   ]
  },
  {
   "cell_type": "markdown",
   "id": "07fb714a",
   "metadata": {},
   "source": [
    "# 5.8 Operator Perbandingan di Python"
   ]
  },
  {
   "cell_type": "code",
   "execution_count": 40,
   "id": "892b7b53",
   "metadata": {},
   "outputs": [
    {
     "name": "stdout",
     "output_type": "stream",
     "text": [
      "True\n",
      "True\n",
      "True\n",
      "True\n",
      "True\n",
      "True\n"
     ]
    }
   ],
   "source": [
    "x = 7>3\n",
    "print (x)\n",
    "\n",
    "x = 3<7\n",
    "print (x)\n",
    "\n",
    "x = 7>=3\n",
    "print (x)\n",
    "\n",
    "x=3<=7\n",
    "print (x)\n",
    "\n",
    "x=7==7\n",
    "print (x)\n",
    "    \n",
    "x=7!=3\n",
    "print(x)"
   ]
  },
  {
   "cell_type": "code",
   "execution_count": 41,
   "id": "c56c8501",
   "metadata": {},
   "outputs": [
    {
     "name": "stdout",
     "output_type": "stream",
     "text": [
      "False\n",
      "False\n",
      "False\n",
      "False\n",
      "False\n",
      "False\n"
     ]
    }
   ],
   "source": [
    "x = 3>7\n",
    "print (x)\n",
    "\n",
    "x = 7<3\n",
    "print (x)\n",
    "\n",
    "x = 3>=7\n",
    "print (x)\n",
    "\n",
    "x=7<=3\n",
    "print (x)\n",
    "\n",
    "x=7==3\n",
    "print (x)\n",
    "    \n",
    "x=7!=7\n",
    "print(x)"
   ]
  },
  {
   "cell_type": "markdown",
   "id": "e6f2f0df",
   "metadata": {},
   "source": [
    "# 5.9 Operasi Logika  di Python"
   ]
  },
  {
   "cell_type": "markdown",
   "id": "a4dc22e3",
   "metadata": {},
   "source": [
    "1. and : kedua nilainya harus True\n",
    "2. or : salah satu nilainya saja yang harus True\n",
    "3. not : kebalikan (jika x adalah True maka not x adalah False)"
   ]
  },
  {
   "cell_type": "code",
   "execution_count": 42,
   "id": "52529a87",
   "metadata": {},
   "outputs": [],
   "source": [
    "kucing=13\n",
    "sapi=17"
   ]
  },
  {
   "cell_type": "code",
   "execution_count": 43,
   "id": "fd0031bc",
   "metadata": {},
   "outputs": [
    {
     "name": "stdout",
     "output_type": "stream",
     "text": [
      "True\n"
     ]
    }
   ],
   "source": [
    "print (kucing>9 and sapi<20)"
   ]
  },
  {
   "cell_type": "code",
   "execution_count": 44,
   "id": "204682b3",
   "metadata": {},
   "outputs": [
    {
     "name": "stdout",
     "output_type": "stream",
     "text": [
      "True\n"
     ]
    }
   ],
   "source": [
    "print (kucing<9 or sapi<20)"
   ]
  },
  {
   "cell_type": "code",
   "execution_count": 45,
   "id": "4a20fac7",
   "metadata": {},
   "outputs": [
    {
     "name": "stdout",
     "output_type": "stream",
     "text": [
      "False\n"
     ]
    }
   ],
   "source": [
    "print (kucing<9 and sapi>20)"
   ]
  },
  {
   "cell_type": "code",
   "execution_count": 46,
   "id": "132c868d",
   "metadata": {},
   "outputs": [
    {
     "name": "stdout",
     "output_type": "stream",
     "text": [
      "True\n"
     ]
    }
   ],
   "source": [
    "print (not(kucing<9 and sapi>20))"
   ]
  },
  {
   "cell_type": "markdown",
   "id": "30c6092b",
   "metadata": {},
   "source": [
    "# 5.10 Operator if di Python"
   ]
  },
  {
   "cell_type": "markdown",
   "id": "ffa4f186",
   "metadata": {},
   "source": [
    "akan dijalankan jika nilai variabelnya adalah True"
   ]
  },
  {
   "cell_type": "code",
   "execution_count": 47,
   "id": "f97959d9",
   "metadata": {},
   "outputs": [
    {
     "name": "stdout",
     "output_type": "stream",
     "text": [
      "Nilai anda adalah 48\n",
      "Anda mendapatkan nilai E\n",
      "See you next year!\n"
     ]
    }
   ],
   "source": [
    "nilai_14=float(input('Nilai anda adalah '))\n",
    "if nilai_14 >=80:\n",
    "    print ('Anda mendapatkan nilai A')\n",
    "    print ('Bagus sekali, selamat!')\n",
    "if nilai_14<80 and nilai_14 >=70 :\n",
    "    print ('Anda mendapatkan nilai B')\n",
    "    print ('Tingkatkan prestasimu!')\n",
    "if nilai_14 <70 and nilai_14 >=60:\n",
    "    print ('Anda mendapatkan nilai C')\n",
    "    print ('Lain kali harus lebih baik lagi')\n",
    "if nilai_14 <60 and nilai_14 >=50 :\n",
    "    print ('Anda mendapatkan nilai D')\n",
    "    print ('Ulang lagi tahun depan, ya')\n",
    "if nilai_14<50:\n",
    "    print ('Anda mendapatkan nilai E')\n",
    "    print ('See you next year!')"
   ]
  },
  {
   "cell_type": "code",
   "execution_count": 48,
   "id": "4247576f",
   "metadata": {},
   "outputs": [
    {
     "name": "stdout",
     "output_type": "stream",
     "text": [
      "Nilai anda adalah 78\n",
      "Anda mendapatkan nilai B\n",
      "Tingkatkan prestasimu!\n"
     ]
    }
   ],
   "source": [
    "nilai_14=float(input('Nilai anda adalah '))\n",
    "if nilai_14 >=80:\n",
    "    print ('Anda mendapatkan nilai A')\n",
    "    print ('Bagus sekali, selamat!')\n",
    "elif nilai_14 >=70 :\n",
    "    print ('Anda mendapatkan nilai B')\n",
    "    print ('Tingkatkan prestasimu!')\n",
    "elif nilai_14 >=60 :\n",
    "    print ('Anda mendapatkan nilai C')\n",
    "    print ('Lain kali harus lebih baik lagi')\n",
    "elif nilai_14 >=50 :\n",
    "    print ('Anda mendapatkan nilai D')\n",
    "    print ('Ulang lagi tahun depan, ya')\n",
    "else :\n",
    "    print ('Anda mendapatkan nilai E')\n",
    "    print ('See you next year!')"
   ]
  },
  {
   "cell_type": "markdown",
   "id": "7c3da858",
   "metadata": {},
   "source": [
    "Latihan \n",
    "Mengubah satuan cm ke inci maupun sebaliknya"
   ]
  },
  {
   "cell_type": "code",
   "execution_count": 49,
   "id": "d2b678ed",
   "metadata": {},
   "outputs": [
    {
     "name": "stdout",
     "output_type": "stream",
     "text": [
      "Berapa tinggi anda? 168\n",
      "mau dalam satuan apa? cm\n",
      "Tinggi anda adalah 66.141768 inci\n"
     ]
    }
   ],
   "source": [
    "tinggi = float(input(\"Berapa tinggi anda? \"))\n",
    "cm_or_inci = input (\"mau dalam satuan apa? \")\n",
    "\n",
    "if cm_or_inci.upper() == 'CM' :\n",
    "    tinggi = tinggi*0.393701\n",
    "    print('Tinggi anda adalah ' + str(tinggi) +' inci')\n",
    "\n",
    "elif cm_or_inci.upper() == 'INCI' :\n",
    "    tinggi = tinggi/0.393701\n",
    "    print('Tinggi anda adalah ' + str(tinggi) +' cm')\n"
   ]
  },
  {
   "cell_type": "code",
   "execution_count": 50,
   "id": "2d78447b",
   "metadata": {},
   "outputs": [
    {
     "name": "stdout",
     "output_type": "stream",
     "text": [
      "berapa berat bahannya? 400\n",
      "mau dalam satuan apa? gr\n",
      "berat nya adalah 0.4kg\n"
     ]
    }
   ],
   "source": [
    "berat = float(input(\"berapa berat bahannya? \"))\n",
    "kg_or_gr = input (\"mau dalam satuan apa? \")\n",
    "\n",
    "if kg_or_gr.lower() == 'kg' :\n",
    "    berat = berat*1000\n",
    "    tulisan = 'gram'\n",
    "\n",
    "elif kg_or_gr.lower() == 'gr' :\n",
    "    berat = berat/1000\n",
    "    tulisan = 'kg'\n",
    "\n",
    "print(f'berat nya adalah {berat}{tulisan}')\n",
    "\n",
    "#iseng"
   ]
  },
  {
   "cell_type": "markdown",
   "id": "634cde65",
   "metadata": {},
   "source": [
    "# 5.11 While Loop"
   ]
  },
  {
   "cell_type": "markdown",
   "id": "47f81860",
   "metadata": {},
   "source": [
    "akan terus berjalan jika nilainya masih True dan akan stop saat nilainya False"
   ]
  },
  {
   "cell_type": "code",
   "execution_count": 51,
   "id": "74454e05",
   "metadata": {
    "scrolled": true
   },
   "outputs": [
    {
     "name": "stdout",
     "output_type": "stream",
     "text": [
      "Angka 0 masih dibawah 7\n",
      "Angka 1 masih dibawah 7\n",
      "Angka 2 masih dibawah 7\n",
      "Angka 3 masih dibawah 7\n",
      "Angka 4 masih dibawah 7\n",
      "Angka 5 masih dibawah 7\n",
      "Angka 6 masih dibawah 7\n"
     ]
    }
   ],
   "source": [
    "a=0\n",
    "while a<7 :\n",
    "    print (\"Angka \" + str (a) + \" masih dibawah 7\")\n",
    "    a += 1"
   ]
  },
  {
   "cell_type": "code",
   "execution_count": 52,
   "id": "caab6195",
   "metadata": {},
   "outputs": [
    {
     "name": "stdout",
     "output_type": "stream",
     "text": [
      "\n",
      "*\n",
      "**\n",
      "***\n",
      "****\n"
     ]
    }
   ],
   "source": [
    "a=0\n",
    "while a<5 :\n",
    "    print (a * '*')\n",
    "    a+=1"
   ]
  }
 ],
 "metadata": {
  "kernelspec": {
   "display_name": "Python 3 (ipykernel)",
   "language": "python",
   "name": "python3"
  },
  "language_info": {
   "codemirror_mode": {
    "name": "ipython",
    "version": 3
   },
   "file_extension": ".py",
   "mimetype": "text/x-python",
   "name": "python",
   "nbconvert_exporter": "python",
   "pygments_lexer": "ipython3",
   "version": "3.9.7"
  }
 },
 "nbformat": 4,
 "nbformat_minor": 5
}
