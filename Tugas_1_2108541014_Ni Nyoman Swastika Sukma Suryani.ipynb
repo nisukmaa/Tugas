{
 "cells": [
  {
   "cell_type": "markdown",
   "id": "5fad32dc",
   "metadata": {},
   "source": [
    "# 5.1 Print"
   ]
  },
  {
   "cell_type": "code",
   "execution_count": 1,
   "id": "7c6d1584",
   "metadata": {},
   "outputs": [
    {
     "name": "stdout",
     "output_type": "stream",
     "text": [
      "Ini kelas Algoritma\n"
     ]
    }
   ],
   "source": [
    "print('Ini kelas Algoritma')"
   ]
  },
  {
   "cell_type": "code",
   "execution_count": 2,
   "id": "44c6d6c6",
   "metadata": {},
   "outputs": [
    {
     "name": "stdout",
     "output_type": "stream",
     "text": [
      "Ini Kelas Algoritma\n"
     ]
    }
   ],
   "source": [
    "print(\"Ini Kelas Algoritma\")"
   ]
  },
  {
   "cell_type": "code",
   "execution_count": 3,
   "id": "7ebd7ab7",
   "metadata": {},
   "outputs": [
    {
     "name": "stdout",
     "output_type": "stream",
     "text": [
      "I don't understand what are you saying\n"
     ]
    }
   ],
   "source": [
    "print(\"I don't understand what are you saying\")"
   ]
  },
  {
   "cell_type": "code",
   "execution_count": 4,
   "id": "6fe6a791",
   "metadata": {},
   "outputs": [
    {
     "ename": "SyntaxError",
     "evalue": "invalid syntax (Temp/ipykernel_3408/4272285998.py, line 1)",
     "output_type": "error",
     "traceback": [
      "\u001b[1;36m  File \u001b[1;32m\"C:\\Users\\Gedebayu\\AppData\\Local\\Temp/ipykernel_3408/4272285998.py\"\u001b[1;36m, line \u001b[1;32m1\u001b[0m\n\u001b[1;33m    print ('I don't understand what are you saying')\u001b[0m\n\u001b[1;37m                  ^\u001b[0m\n\u001b[1;31mSyntaxError\u001b[0m\u001b[1;31m:\u001b[0m invalid syntax\n"
     ]
    }
   ],
   "source": [
    "print ('I don't understand what are you saying')"
   ]
  },
  {
   "cell_type": "code",
   "execution_count": 5,
   "id": "4d18fd97",
   "metadata": {},
   "outputs": [
    {
     "name": "stdout",
     "output_type": "stream",
     "text": [
      "He is such a \"GENIUS\"\n"
     ]
    }
   ],
   "source": [
    "print ('He is such a \"GENIUS\"')"
   ]
  },
  {
   "cell_type": "code",
   "execution_count": 6,
   "id": "a66661e8",
   "metadata": {},
   "outputs": [
    {
     "ename": "SyntaxError",
     "evalue": "invalid syntax (Temp/ipykernel_3408/2485381186.py, line 1)",
     "output_type": "error",
     "traceback": [
      "\u001b[1;36m  File \u001b[1;32m\"C:\\Users\\Gedebayu\\AppData\\Local\\Temp/ipykernel_3408/2485381186.py\"\u001b[1;36m, line \u001b[1;32m1\u001b[0m\n\u001b[1;33m    print (\"He is such a \"GENIUS\")\u001b[0m\n\u001b[1;37m                          ^\u001b[0m\n\u001b[1;31mSyntaxError\u001b[0m\u001b[1;31m:\u001b[0m invalid syntax\n"
     ]
    }
   ],
   "source": [
    "print (\"He is such a \"GENIUS\")"
   ]
  },
  {
   "cell_type": "markdown",
   "id": "43695b81",
   "metadata": {},
   "source": [
    "Latihan"
   ]
  },
  {
   "cell_type": "code",
   "execution_count": 7,
   "id": "a407f2b4",
   "metadata": {},
   "outputs": [
    {
     "name": "stdout",
     "output_type": "stream",
     "text": [
      "Ikuta Rira\n"
     ]
    }
   ],
   "source": [
    "nama_depan_14 = 'Ikuta'\n",
    "nama_tengah_14 = ' '\n",
    "nama_belakang_14 = 'Rira'\n",
    "print(nama_depan_14 + nama_tengah_14 + nama_belakang_14)"
   ]
  },
  {
   "cell_type": "code",
   "execution_count": 8,
   "id": "03000210",
   "metadata": {},
   "outputs": [
    {
     "name": "stdout",
     "output_type": "stream",
     "text": [
      "Ikuta Rira\n"
     ]
    }
   ],
   "source": [
    "nama_depan = 'Ikuta '\n",
    "nama_belakang = 'Rira'\n",
    "print(nama_depan + nama_belakang)"
   ]
  },
  {
   "cell_type": "code",
   "execution_count": 9,
   "id": "60ea938f",
   "metadata": {},
   "outputs": [
    {
     "name": "stdout",
     "output_type": "stream",
     "text": [
      "42\n",
      "100000\n",
      "4200000\n"
     ]
    }
   ],
   "source": [
    "mahasiswa_14 = 42\n",
    "uang_di_dompet_14 = 100000\n",
    "print (mahasiswa_14)\n",
    "print (uang_di_dompet_14)\n",
    "total_uang = print (mahasiswa_14*uang_di_dompet_14)"
   ]
  },
  {
   "cell_type": "markdown",
   "id": "0c9de711",
   "metadata": {},
   "source": [
    "# 5.2 Input"
   ]
  },
  {
   "cell_type": "code",
   "execution_count": 10,
   "id": "5f4fa006",
   "metadata": {},
   "outputs": [
    {
     "name": "stdout",
     "output_type": "stream",
     "text": [
      "Nama kamu siapa? ikuta\n",
      "Kamu lagi ngapain, ikuta? tidur\n",
      "Semangat tidur, ya ikuta!\n"
     ]
    }
   ],
   "source": [
    "nama_14=input ('Nama kamu siapa? ')\n",
    "kegiatan_14=input ('Kamu lagi ngapain, ' + nama_14 + '? ')\n",
    "print ('Semangat ' + kegiatan_14 + ', ya ' + nama_14 + '!')"
   ]
  },
  {
   "cell_type": "markdown",
   "id": "60fe0a1e",
   "metadata": {},
   "source": [
    "# 5.3 Tipe Data pada Python"
   ]
  },
  {
   "cell_type": "code",
   "execution_count": 11,
   "id": "2d6619de",
   "metadata": {},
   "outputs": [
    {
     "name": "stdout",
     "output_type": "stream",
     "text": [
      "Duit mu ada berapa di dompet? 1000\n",
      "Duit mu di bank sisa berapa? 1000000\n",
      "Total uang mu adalah Rp 10001000000\n"
     ]
    }
   ],
   "source": [
    "uang_di_dompet = input (\"Duit mu ada berapa di dompet? \")\n",
    "uang_di_bank = input (\"Duit mu di bank sisa berapa? \")\n",
    "print (\"Total uang mu adalah Rp \" + uang_di_dompet + uang_di_bank)\n",
    "\n",
    "#bukan kayak gini yang kita pengen :("
   ]
  },
  {
   "cell_type": "code",
   "execution_count": 12,
   "id": "9e9c123b",
   "metadata": {},
   "outputs": [
    {
     "name": "stdout",
     "output_type": "stream",
     "text": [
      "Duit mu ada berapa di dompet? 1000\n",
      "Duit mu di bank sisa berapa? 1000000\n",
      "Total uang anda adalah Rp 1001000\n"
     ]
    }
   ],
   "source": [
    "uang_di_dompet = input (\"Duit mu ada berapa di dompet? \")\n",
    "uang_di_bank = input (\"Duit mu di bank sisa berapa? \")\n",
    "total_uang = int(uang_di_dompet) + int(uang_di_bank)\n",
    "print (\"Total uang anda adalah Rp \"+ str(total_uang)) "
   ]
  },
  {
   "cell_type": "code",
   "execution_count": 13,
   "id": "cec27cd2",
   "metadata": {},
   "outputs": [
    {
     "data": {
      "text/plain": [
       "str"
      ]
     },
     "execution_count": 13,
     "metadata": {},
     "output_type": "execute_result"
    }
   ],
   "source": [
    "#mengecek tipe data\n",
    "type(uang_di_dompet)"
   ]
  },
  {
   "cell_type": "code",
   "execution_count": 14,
   "id": "0352ca92",
   "metadata": {},
   "outputs": [
    {
     "data": {
      "text/plain": [
       "str"
      ]
     },
     "execution_count": 14,
     "metadata": {},
     "output_type": "execute_result"
    }
   ],
   "source": [
    "#mengecek tipe data\n",
    "type(uang_di_bank)"
   ]
  },
  {
   "cell_type": "code",
   "execution_count": 15,
   "id": "f0da7ac6",
   "metadata": {},
   "outputs": [
    {
     "data": {
      "text/plain": [
       "int"
      ]
     },
     "execution_count": 15,
     "metadata": {},
     "output_type": "execute_result"
    }
   ],
   "source": [
    "#mengecek tipe data\n",
    "type(total_uang)"
   ]
  },
  {
   "cell_type": "markdown",
   "id": "ee20a0ce",
   "metadata": {},
   "source": [
    "latihan"
   ]
  },
  {
   "cell_type": "code",
   "execution_count": 16,
   "id": "16932f10",
   "metadata": {},
   "outputs": [
    {
     "name": "stdout",
     "output_type": "stream",
     "text": [
      "Masukkan bilangan pertama: 123\n",
      "Masukkan bilang kedua: 42\n",
      "Jumlah kedua bilangan adalah 165.0\n"
     ]
    }
   ],
   "source": [
    "bilangan_satu_14 = input ('Masukkan bilangan pertama: ')\n",
    "bilangan_kedua_14 = input ('Masukkan bilang kedua: ')\n",
    "jumlah_14 = float(bilangan_satu_14)+float(bilangan_kedua_14)\n",
    "print ('Jumlah kedua bilangan adalah ' + str(jumlah_14))"
   ]
  },
  {
   "cell_type": "markdown",
   "id": "2d27fee6",
   "metadata": {},
   "source": [
    "# 5.4 Formatted String"
   ]
  },
  {
   "cell_type": "markdown",
   "id": "9aa5c6f9",
   "metadata": {},
   "source": [
    "mempermudah penulisan nilai variabel yang ingin diprint\n",
    "1. menggunakan kurung kurawal setiap variabelnya\n",
    "2. print (f' bla bla {x} bla bla {x}')"
   ]
  },
  {
   "cell_type": "code",
   "execution_count": 17,
   "id": "a7fed6e8",
   "metadata": {},
   "outputs": [
    {
     "name": "stdout",
     "output_type": "stream",
     "text": [
      "Vladimir adalah seorang guru di SD Pertiwi.\n"
     ]
    }
   ],
   "source": [
    "nama = 'Vladimir'\n",
    "pekerjaan = 'guru'\n",
    "institusi = 'SD Pertiwi'\n",
    "print (nama + ' adalah seorang ' + pekerjaan + ' di ' + institusi + '.')"
   ]
  },
  {
   "cell_type": "code",
   "execution_count": 18,
   "id": "bb887839",
   "metadata": {},
   "outputs": [
    {
     "name": "stdout",
     "output_type": "stream",
     "text": [
      "Vladimir adalah seorang guru di SD Pertiwi.\n"
     ]
    }
   ],
   "source": [
    "#dengan formatted string\n",
    "print (f'{nama} adalah seorang {pekerjaan} di {institusi}.')"
   ]
  },
  {
   "cell_type": "code",
   "execution_count": 19,
   "id": "61e71286",
   "metadata": {},
   "outputs": [
    {
     "name": "stdout",
     "output_type": "stream",
     "text": [
      "Vladimir adalah seorang guru di SD Pertiwi.\n"
     ]
    }
   ],
   "source": [
    "#dengan formatted string\n",
    "print (f\"{nama} adalah seorang {pekerjaan} di {institusi}.\")"
   ]
  },
  {
   "cell_type": "markdown",
   "id": "0b43c2a1",
   "metadata": {},
   "source": [
    "# 5.5 Strings Index"
   ]
  },
  {
   "cell_type": "markdown",
   "id": "6d54ebcb",
   "metadata": {},
   "source": [
    "1. perhitungan dimulai dari 0\n",
    "2. urutan terakhir adalah -1. Kemudian selanjutnya -2 dan seterusnya\n",
    "3. spasi dihitung juga"
   ]
  },
  {
   "cell_type": "code",
   "execution_count": 20,
   "id": "fda9face",
   "metadata": {},
   "outputs": [],
   "source": [
    "kelas = 'Kita Sedang ada di FX Sudirman'"
   ]
  },
  {
   "cell_type": "code",
   "execution_count": 21,
   "id": "0ca7b8a8",
   "metadata": {},
   "outputs": [
    {
     "name": "stdout",
     "output_type": "stream",
     "text": [
      "Kit\n"
     ]
    }
   ],
   "source": [
    "print (kelas[0:3])"
   ]
  },
  {
   "cell_type": "code",
   "execution_count": 22,
   "id": "08f0a1fb",
   "metadata": {},
   "outputs": [
    {
     "name": "stdout",
     "output_type": "stream",
     "text": [
      "Kita Sedang ada di FX Sudirma\n"
     ]
    }
   ],
   "source": [
    "print (kelas[0:-1])"
   ]
  },
  {
   "cell_type": "code",
   "execution_count": 23,
   "id": "98cd637c",
   "metadata": {},
   "outputs": [
    {
     "name": "stdout",
     "output_type": "stream",
     "text": [
      "Sedang ada di FX Sudirma\n"
     ]
    }
   ],
   "source": [
    "print (kelas[5:-1])"
   ]
  },
  {
   "cell_type": "code",
   "execution_count": 24,
   "id": "682aa168",
   "metadata": {},
   "outputs": [
    {
     "name": "stdout",
     "output_type": "stream",
     "text": [
      "tSa aiXur\n"
     ]
    }
   ],
   "source": [
    "print(kelas[2:-1:3])"
   ]
  },
  {
   "cell_type": "code",
   "execution_count": 25,
   "id": "12affcae",
   "metadata": {},
   "outputs": [
    {
     "name": "stdout",
     "output_type": "stream",
     "text": [
      "Kita Sedang ada di FX Sudir\n"
     ]
    }
   ],
   "source": [
    "print(kelas[:-3])"
   ]
  },
  {
   "cell_type": "code",
   "execution_count": 26,
   "id": "790cc9ec",
   "metadata": {},
   "outputs": [
    {
     "name": "stdout",
     "output_type": "stream",
     "text": [
      "ita Sedang ada di FX Sudirman\n"
     ]
    }
   ],
   "source": [
    "print(kelas[1:])"
   ]
  },
  {
   "cell_type": "code",
   "execution_count": 27,
   "id": "1a002eb1",
   "metadata": {},
   "outputs": [
    {
     "name": "stdout",
     "output_type": "stream",
     "text": [
      "Kita Sedang ada di FX Sudirman\n"
     ]
    }
   ],
   "source": [
    "print(kelas[:])"
   ]
  },
  {
   "cell_type": "markdown",
   "id": "ea876b32",
   "metadata": {},
   "source": [
    "# 5.6 Strings Methods"
   ]
  },
  {
   "cell_type": "code",
   "execution_count": 28,
   "id": "05800d23",
   "metadata": {},
   "outputs": [],
   "source": [
    "judul = 'Bali Surga Dunia'"
   ]
  },
  {
   "cell_type": "code",
   "execution_count": 29,
   "id": "53f61c53",
   "metadata": {},
   "outputs": [
    {
     "name": "stdout",
     "output_type": "stream",
     "text": [
      "16\n"
     ]
    }
   ],
   "source": [
    "print(len(judul))"
   ]
  },
  {
   "cell_type": "code",
   "execution_count": 30,
   "id": "b24afc15",
   "metadata": {},
   "outputs": [
    {
     "data": {
      "text/plain": [
       "'BALI SURGA DUNIA'"
      ]
     },
     "execution_count": 30,
     "metadata": {},
     "output_type": "execute_result"
    }
   ],
   "source": [
    "judul.upper()"
   ]
  },
  {
   "cell_type": "code",
   "execution_count": 31,
   "id": "d76796f5",
   "metadata": {},
   "outputs": [
    {
     "data": {
      "text/plain": [
       "'bali surga dunia'"
      ]
     },
     "execution_count": 31,
     "metadata": {},
     "output_type": "execute_result"
    }
   ],
   "source": [
    "judul.lower()"
   ]
  },
  {
   "cell_type": "code",
   "execution_count": 32,
   "id": "e34274d1",
   "metadata": {},
   "outputs": [
    {
     "data": {
      "text/plain": [
       "5"
      ]
     },
     "execution_count": 32,
     "metadata": {},
     "output_type": "execute_result"
    }
   ],
   "source": [
    "judul.find('Surga')"
   ]
  },
  {
   "cell_type": "code",
   "execution_count": 33,
   "id": "279b36e6",
   "metadata": {},
   "outputs": [
    {
     "data": {
      "text/plain": [
       "-1"
      ]
     },
     "execution_count": 33,
     "metadata": {},
     "output_type": "execute_result"
    }
   ],
   "source": [
    "judul.find('bali')"
   ]
  },
  {
   "cell_type": "code",
   "execution_count": 34,
   "id": "def1647f",
   "metadata": {},
   "outputs": [
    {
     "data": {
      "text/plain": [
       "'Indonesia Surga Dunia'"
      ]
     },
     "execution_count": 34,
     "metadata": {},
     "output_type": "execute_result"
    }
   ],
   "source": [
    "judul.replace('Bali','Indonesia')"
   ]
  },
  {
   "cell_type": "code",
   "execution_count": 35,
   "id": "beeb4b45",
   "metadata": {},
   "outputs": [
    {
     "data": {
      "text/plain": [
       "'Bali Surga Dunia'"
      ]
     },
     "execution_count": 35,
     "metadata": {},
     "output_type": "execute_result"
    }
   ],
   "source": [
    "judul.replace('bali','Indonesia')"
   ]
  },
  {
   "cell_type": "code",
   "execution_count": 36,
   "id": "958fbd3b",
   "metadata": {},
   "outputs": [
    {
     "name": "stdout",
     "output_type": "stream",
     "text": [
      "True\n"
     ]
    }
   ],
   "source": [
    "print('Bali' in judul)"
   ]
  },
  {
   "cell_type": "code",
   "execution_count": 37,
   "id": "8596739d",
   "metadata": {},
   "outputs": [
    {
     "name": "stdout",
     "output_type": "stream",
     "text": [
      "False\n"
     ]
    }
   ],
   "source": [
    "print('bali' in judul)"
   ]
  },
  {
   "cell_type": "markdown",
   "id": "760eb4b8",
   "metadata": {},
   "source": [
    "# 5.7 Operasi Matematika di Python"
   ]
  },
  {
   "cell_type": "code",
   "execution_count": 38,
   "id": "591b35c9",
   "metadata": {},
   "outputs": [
    {
     "name": "stdout",
     "output_type": "stream",
     "text": [
      "10\n",
      "4\n",
      "21\n",
      "2.3333333333333335\n",
      "2\n",
      "1\n",
      "343\n"
     ]
    }
   ],
   "source": [
    "print(7+3)\n",
    "print (7-3)\n",
    "print (7*3)\n",
    "print (7/3)\n",
    "print (7//3)\n",
    "print (7%3)\n",
    "print (7**3)"
   ]
  },
  {
   "cell_type": "code",
   "execution_count": 39,
   "id": "32111091",
   "metadata": {},
   "outputs": [
    {
     "name": "stdout",
     "output_type": "stream",
     "text": [
      "6\n"
     ]
    }
   ],
   "source": [
    "x=5\n",
    "x+=1\n",
    "print (x)"
   ]
  },
  {
   "cell_type": "code",
   "execution_count": 40,
   "id": "93cb2de2",
   "metadata": {},
   "outputs": [
    {
     "name": "stdout",
     "output_type": "stream",
     "text": [
      "4\n"
     ]
    }
   ],
   "source": [
    "x-=2\n",
    "print (x)"
   ]
  },
  {
   "cell_type": "code",
   "execution_count": 41,
   "id": "27c8fb2e",
   "metadata": {},
   "outputs": [
    {
     "name": "stdout",
     "output_type": "stream",
     "text": [
      "12\n"
     ]
    }
   ],
   "source": [
    "x*=3\n",
    "print (x)"
   ]
  },
  {
   "cell_type": "markdown",
   "id": "3509a8c5",
   "metadata": {},
   "source": [
    "# 5.8 Operator Perbandingan di Python"
   ]
  },
  {
   "cell_type": "code",
   "execution_count": 42,
   "id": "c74f0aca",
   "metadata": {},
   "outputs": [
    {
     "name": "stdout",
     "output_type": "stream",
     "text": [
      "True\n",
      "True\n",
      "True\n",
      "True\n",
      "True\n",
      "True\n"
     ]
    }
   ],
   "source": [
    "x=7>3\n",
    "print (x)\n",
    "\n",
    "x=3<7\n",
    "print(x)\n",
    "\n",
    "x=7>=3\n",
    "print(x)\n",
    "\n",
    "x=3<=7\n",
    "print (x)\n",
    "\n",
    "x= 7==7\n",
    "print(x)\n",
    "\n",
    "x=3!=8\n",
    "print (x)"
   ]
  },
  {
   "cell_type": "code",
   "execution_count": 43,
   "id": "83ab0153",
   "metadata": {},
   "outputs": [
    {
     "name": "stdout",
     "output_type": "stream",
     "text": [
      "False\n",
      "False\n",
      "False\n",
      "False\n",
      "False\n",
      "False\n"
     ]
    }
   ],
   "source": [
    "x=3>7\n",
    "print (x)\n",
    "\n",
    "x=7<3\n",
    "print(x)\n",
    "\n",
    "x=3>=7\n",
    "print(x)\n",
    "\n",
    "x=7<=3\n",
    "print (x)\n",
    "\n",
    "x= 3==8\n",
    "print(x)\n",
    "\n",
    "x=3!=3\n",
    "print (x)"
   ]
  },
  {
   "cell_type": "markdown",
   "id": "d8b9e230",
   "metadata": {},
   "source": [
    "# 5.9 Operator Logika di Python"
   ]
  },
  {
   "cell_type": "markdown",
   "id": "d26414fa",
   "metadata": {},
   "source": [
    "1. and : keduanya harus benar semua\n",
    "2. or : salah satu harus benar\n",
    "3. not : kebalikan (jika x bernilai true maka not x adalah false)"
   ]
  },
  {
   "cell_type": "code",
   "execution_count": 44,
   "id": "4226fc3e",
   "metadata": {},
   "outputs": [],
   "source": [
    "buah_stroberi = 13\n",
    "buah_apel = 15"
   ]
  },
  {
   "cell_type": "code",
   "execution_count": 45,
   "id": "f47fdbf3",
   "metadata": {},
   "outputs": [
    {
     "name": "stdout",
     "output_type": "stream",
     "text": [
      "True\n"
     ]
    }
   ],
   "source": [
    "print(buah_stroberi >8 and buah_apel <20)"
   ]
  },
  {
   "cell_type": "code",
   "execution_count": 46,
   "id": "b51b0efc",
   "metadata": {},
   "outputs": [
    {
     "name": "stdout",
     "output_type": "stream",
     "text": [
      "True\n"
     ]
    }
   ],
   "source": [
    "print (buah_stroberi <8 or buah_apel <20)"
   ]
  },
  {
   "cell_type": "code",
   "execution_count": 47,
   "id": "ff1199a7",
   "metadata": {},
   "outputs": [
    {
     "name": "stdout",
     "output_type": "stream",
     "text": [
      "False\n"
     ]
    }
   ],
   "source": [
    "print (buah_stroberi <8 or buah_apel >20)"
   ]
  },
  {
   "cell_type": "code",
   "execution_count": 48,
   "id": "aaff0d46",
   "metadata": {},
   "outputs": [
    {
     "name": "stdout",
     "output_type": "stream",
     "text": [
      "True\n"
     ]
    }
   ],
   "source": [
    "print(not(buah_stroberi<8 or buah_apel>20))"
   ]
  },
  {
   "cell_type": "markdown",
   "id": "7b9031ab",
   "metadata": {},
   "source": [
    "# 5.10 Operator if di Python"
   ]
  },
  {
   "cell_type": "markdown",
   "id": "631fb919",
   "metadata": {},
   "source": [
    "akan berjalan selama variabel bernilainya True"
   ]
  },
  {
   "cell_type": "code",
   "execution_count": 49,
   "id": "8adced1d",
   "metadata": {},
   "outputs": [
    {
     "name": "stdout",
     "output_type": "stream",
     "text": [
      "Nilai anda adalah 78\n",
      "Anda mendapatkan nilai B\n",
      "Tingkatkan prestasimu!\n"
     ]
    }
   ],
   "source": [
    "nilai_14=float(input('Nilai anda adalah '))\n",
    "\n",
    "if nilai_14 >=80:\n",
    "    print (\"Anda mendapatkan nilai A\")\n",
    "    print (\"Bagus sekali, selamat!\")\n",
    "if nilai_14 < 80 and nilai_14 >= 70:\n",
    "    print ('Anda mendapatkan nilai B')\n",
    "    print ('Tingkatkan prestasimu!')\n",
    "if nilai_14 >=60 and nilai_14 < 70 :\n",
    "    print ('Anda mendapatkan nilai C')\n",
    "    print ('Lain kali mesti lebih baik')\n",
    "if nilai_14 >=50 and nilai_14 < 60 :\n",
    "    print ('Anda mendapatkan nilai D')\n",
    "    print ('Ulang lagi tahun depan')\n",
    "if nilai_14 < 50 :\n",
    "    print ('Anda mendapatkan nilai E')\n",
    "    print ('Sampai jumpat tahun depan, jaa ne!')"
   ]
  },
  {
   "cell_type": "markdown",
   "id": "1bfd95ef",
   "metadata": {},
   "source": [
    "latihan MENGUBAH SATUAN"
   ]
  },
  {
   "cell_type": "code",
   "execution_count": 50,
   "id": "0c8aaabc",
   "metadata": {},
   "outputs": [
    {
     "name": "stdout",
     "output_type": "stream",
     "text": [
      "Berapakah tinggi anda? 168\n",
      "Tinggi dalam cm atau inci? cm\n",
      "Tinggi anda adalah 66.141768 inci\n"
     ]
    }
   ],
   "source": [
    "tinggi_14=float(input('Berapakah tinggi anda? '))\n",
    "cm_atau_inci= input (\"Tinggi dalam cm atau inci? \")\n",
    "\n",
    "if cm_atau_inci.upper() == 'CM' :\n",
    "    tinggi_14 = tinggi_14*0.393701\n",
    "    print (\"Tinggi anda adalah \" + str(tinggi_14) + \" inci\")\n",
    "\n",
    "elif cm_atau_inci.upper() == \"INCI\" :\n",
    "    tinggi_14 = tinggi_14/0.393701\n",
    "    print(f'Tinggi anda adalah {tinggi_14} cm.')"
   ]
  },
  {
   "cell_type": "code",
   "execution_count": 51,
   "id": "31ba5617",
   "metadata": {},
   "outputs": [
    {
     "name": "stdout",
     "output_type": "stream",
     "text": [
      "berapa berat bahannya? 400\n",
      "mau dalam satuan apa? gr\n",
      "berat nya adalah 0.4 kg\n"
     ]
    }
   ],
   "source": [
    "#kalau ini iseng\n",
    "berat = float(input(\"berapa berat bahannya? \"))\n",
    "kg_or_gr = input (\"mau dalam satuan apa? \")\n",
    "\n",
    "if kg_or_gr.lower() == 'kg' :\n",
    "    berat = berat*1000\n",
    "    tulisan = 'gram'\n",
    "\n",
    "elif kg_or_gr.lower() == 'gr' :\n",
    "    berat = berat/1000\n",
    "    tulisan = 'kg'\n",
    "\n",
    "print(f'berat nya adalah {berat} {tulisan}')"
   ]
  },
  {
   "cell_type": "markdown",
   "id": "12c8b752",
   "metadata": {},
   "source": [
    "# 5.11 While loop"
   ]
  },
  {
   "cell_type": "markdown",
   "id": "92e57770",
   "metadata": {},
   "source": [
    "selalu berjalan selama nilai bernilai True. Kalau udah False ya udahan."
   ]
  },
  {
   "cell_type": "code",
   "execution_count": 52,
   "id": "b7dda6e1",
   "metadata": {},
   "outputs": [
    {
     "name": "stdout",
     "output_type": "stream",
     "text": [
      "Angka 0 masih dibawah 5\n",
      "Angka 1 masih dibawah 5\n",
      "Angka 2 masih dibawah 5\n",
      "Angka 3 masih dibawah 5\n",
      "Angka 4 masih dibawah 5\n"
     ]
    }
   ],
   "source": [
    "a=0\n",
    "while a<5 :\n",
    "    print(\"Angka \" + str(a) + \" masih dibawah 5\")\n",
    "    a+=1"
   ]
  },
  {
   "cell_type": "code",
   "execution_count": 53,
   "id": "04ed3884",
   "metadata": {},
   "outputs": [
    {
     "name": "stdout",
     "output_type": "stream",
     "text": [
      "\n",
      "*\n",
      "**\n",
      "***\n",
      "****\n"
     ]
    }
   ],
   "source": [
    "a=0\n",
    "while a<5 :\n",
    "    print (a*'*')\n",
    "    a +=1"
   ]
  }
 ],
 "metadata": {
  "kernelspec": {
   "display_name": "Python 3 (ipykernel)",
   "language": "python",
   "name": "python3"
  },
  "language_info": {
   "codemirror_mode": {
    "name": "ipython",
    "version": 3
   },
   "file_extension": ".py",
   "mimetype": "text/x-python",
   "name": "python",
   "nbconvert_exporter": "python",
   "pygments_lexer": "ipython3",
   "version": "3.9.7"
  }
 },
 "nbformat": 4,
 "nbformat_minor": 5
}
