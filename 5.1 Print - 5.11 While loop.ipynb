{
 "cells": [
  {
   "cell_type": "markdown",
   "id": "949287c7",
   "metadata": {},
   "source": [
    "# 5.1 Print"
   ]
  },
  {
   "cell_type": "code",
   "execution_count": 3,
   "id": "7c6d1584",
   "metadata": {},
   "outputs": [
    {
     "name": "stdout",
     "output_type": "stream",
     "text": [
      "Ini kelas Algoritma\n"
     ]
    }
   ],
   "source": [
    "print('Ini kelas Algoritma')"
   ]
  },
  {
   "cell_type": "code",
   "execution_count": 4,
   "id": "44c6d6c6",
   "metadata": {},
   "outputs": [
    {
     "name": "stdout",
     "output_type": "stream",
     "text": [
      "Ini Kelas Algoritma\n"
     ]
    }
   ],
   "source": [
    "print(\"Ini Kelas Algoritma\")"
   ]
  },
  {
   "cell_type": "code",
   "execution_count": 5,
   "id": "7ebd7ab7",
   "metadata": {},
   "outputs": [
    {
     "name": "stdout",
     "output_type": "stream",
     "text": [
      "I don't understand what are you saying\n"
     ]
    }
   ],
   "source": [
    "print(\"I don't understand what are you saying\")"
   ]
  },
  {
   "cell_type": "code",
   "execution_count": 6,
   "id": "6fe6a791",
   "metadata": {},
   "outputs": [
    {
     "ename": "SyntaxError",
     "evalue": "invalid syntax (Temp/ipykernel_10888/4272285998.py, line 1)",
     "output_type": "error",
     "traceback": [
      "\u001b[1;36m  File \u001b[1;32m\"C:\\Users\\Gedebayu\\AppData\\Local\\Temp/ipykernel_10888/4272285998.py\"\u001b[1;36m, line \u001b[1;32m1\u001b[0m\n\u001b[1;33m    print ('I don't understand what are you saying')\u001b[0m\n\u001b[1;37m                  ^\u001b[0m\n\u001b[1;31mSyntaxError\u001b[0m\u001b[1;31m:\u001b[0m invalid syntax\n"
     ]
    }
   ],
   "source": [
    "print ('I don't understand what are you saying')"
   ]
  },
  {
   "cell_type": "code",
   "execution_count": 7,
   "id": "4d18fd97",
   "metadata": {},
   "outputs": [
    {
     "name": "stdout",
     "output_type": "stream",
     "text": [
      "He is such a \"GENIUS\"\n"
     ]
    }
   ],
   "source": [
    "print ('He is such a \"GENIUS\"')"
   ]
  },
  {
   "cell_type": "code",
   "execution_count": 8,
   "id": "a66661e8",
   "metadata": {},
   "outputs": [
    {
     "ename": "SyntaxError",
     "evalue": "invalid syntax (Temp/ipykernel_10888/2485381186.py, line 1)",
     "output_type": "error",
     "traceback": [
      "\u001b[1;36m  File \u001b[1;32m\"C:\\Users\\Gedebayu\\AppData\\Local\\Temp/ipykernel_10888/2485381186.py\"\u001b[1;36m, line \u001b[1;32m1\u001b[0m\n\u001b[1;33m    print (\"He is such a \"GENIUS\")\u001b[0m\n\u001b[1;37m                          ^\u001b[0m\n\u001b[1;31mSyntaxError\u001b[0m\u001b[1;31m:\u001b[0m invalid syntax\n"
     ]
    }
   ],
   "source": [
    "print (\"He is such a \"GENIUS\")"
   ]
  },
  {
   "cell_type": "markdown",
   "id": "43695b81",
   "metadata": {},
   "source": [
    "Latihan"
   ]
  },
  {
   "cell_type": "code",
   "execution_count": 6,
   "id": "a407f2b4",
   "metadata": {},
   "outputs": [
    {
     "name": "stdout",
     "output_type": "stream",
     "text": [
      "Ikuta Rira\n"
     ]
    }
   ],
   "source": [
    "nama_depan_14 = 'Ikuta'\n",
    "nama_tengah_14 = ' '\n",
    "nama_belakang_14 = 'Rira'\n",
    "print(nama_depan_14 + nama_tengah_14 + nama_belakang_14)"
   ]
  },
  {
   "cell_type": "code",
   "execution_count": 2,
   "id": "03000210",
   "metadata": {},
   "outputs": [
    {
     "name": "stdout",
     "output_type": "stream",
     "text": [
      "Ikuta Rira\n"
     ]
    }
   ],
   "source": [
    "nama_depan = 'Ikuta '\n",
    "nama_belakang = 'Rira'\n",
    "print(nama_depan + nama_belakang)"
   ]
  },
  {
   "cell_type": "code",
   "execution_count": 4,
   "id": "60ea938f",
   "metadata": {},
   "outputs": [
    {
     "name": "stdout",
     "output_type": "stream",
     "text": [
      "42\n",
      "100000\n",
      "4200000\n"
     ]
    }
   ],
   "source": [
    "mahasiswa_14 = 42\n",
    "uang_di_dompet_14 = 100000\n",
    "print (mahasiswa_14)\n",
    "print (uang_di_dompet_14)\n",
    "total_uang = print (mahasiswa_14*uang_di_dompet_14)"
   ]
  },
  {
   "cell_type": "markdown",
   "id": "ced92505",
   "metadata": {},
   "source": [
    "# 5.2 Input"
   ]
  },
  {
   "cell_type": "code",
   "execution_count": 3,
   "id": "e8da706a",
   "metadata": {},
   "outputs": [
    {
     "name": "stdout",
     "output_type": "stream",
     "text": [
      "Nama kamu siapa? ikuta\n",
      "Kamu lagi ngapain, ikuta?tidur\n",
      "Semangat tidur, ya ikuta!\n"
     ]
    }
   ],
   "source": [
    "nama_14=input ('Nama kamu siapa? ')\n",
    "kegiatan_14=input ('Kamu lagi ngapain, ' + nama_14 + '?')\n",
    "print ('Semangat ' + kegiatan_14 + ', ya ' + nama_14 + '!')"
   ]
  },
  {
   "cell_type": "markdown",
   "id": "5cc76fc5",
   "metadata": {},
   "source": [
    "# 5.3 Tipe Data pada Python"
   ]
  },
  {
   "cell_type": "code",
   "execution_count": 8,
   "id": "031c6673",
   "metadata": {},
   "outputs": [
    {
     "name": "stdout",
     "output_type": "stream",
     "text": [
      "Duit mu ada berapa di dompet? 100\n",
      "Duit mu di bank sisa berapa? 200\n",
      "Total uang mu adalah Rp 100200\n"
     ]
    }
   ],
   "source": [
    "uang_di_dompet = input (\"Duit mu ada berapa di dompet? \")\n",
    "uang_di_bank = input (\"Duit mu di bank sisa berapa? \")\n",
    "print (\"Total uang mu adalah Rp \" + uang_di_dompet + uang_di_bank)\n",
    "\n",
    "#bukan kayak gini yang kita pengen :("
   ]
  },
  {
   "cell_type": "code",
   "execution_count": 10,
   "id": "2f8e70c0",
   "metadata": {},
   "outputs": [
    {
     "name": "stdout",
     "output_type": "stream",
     "text": [
      "Duit mu ada berapa di dompet? 100\n",
      "Duit mu di bank sisa berapa? 200\n",
      "Total uang anda adalah Rp 300\n"
     ]
    }
   ],
   "source": [
    "uang_di_dompet = input (\"Duit mu ada berapa di dompet? \")\n",
    "uang_di_bank = input (\"Duit mu di bank sisa berapa? \")\n",
    "total_uang = int(uang_di_dompet) + int(uang_di_bank)\n",
    "print (\"Total uang anda adalah Rp \"+ str(total_uang)) "
   ]
  },
  {
   "cell_type": "code",
   "execution_count": 11,
   "id": "33a57924",
   "metadata": {},
   "outputs": [
    {
     "data": {
      "text/plain": [
       "str"
      ]
     },
     "execution_count": 11,
     "metadata": {},
     "output_type": "execute_result"
    }
   ],
   "source": [
    "#mengecek tipe data\n",
    "type(uang_di_dompet)"
   ]
  },
  {
   "cell_type": "code",
   "execution_count": 12,
   "id": "4f6bd032",
   "metadata": {},
   "outputs": [
    {
     "data": {
      "text/plain": [
       "str"
      ]
     },
     "execution_count": 12,
     "metadata": {},
     "output_type": "execute_result"
    }
   ],
   "source": [
    "#mengecek tipe data\n",
    "type(uang_di_bank)"
   ]
  },
  {
   "cell_type": "code",
   "execution_count": 13,
   "id": "a966f2d8",
   "metadata": {},
   "outputs": [
    {
     "data": {
      "text/plain": [
       "int"
      ]
     },
     "execution_count": 13,
     "metadata": {},
     "output_type": "execute_result"
    }
   ],
   "source": [
    "#mengecek tipe data\n",
    "type(total_uang)"
   ]
  },
  {
   "cell_type": "code",
   "execution_count": null,
   "id": "6eb55844",
   "metadata": {},
   "outputs": [],
   "source": []
  },
  {
   "cell_type": "markdown",
   "id": "9939fec6",
   "metadata": {},
   "source": [
    "latihan"
   ]
  },
  {
   "cell_type": "code",
   "execution_count": 17,
   "id": "f1874a64",
   "metadata": {},
   "outputs": [
    {
     "name": "stdout",
     "output_type": "stream",
     "text": [
      "Masukkan bilangan pertama: 14\n",
      "Masukkan bilang kedua: 25\n",
      "Jumlah kedua bilangan adalah 39.0\n"
     ]
    }
   ],
   "source": [
    "bilangan_satu_14 = input ('Masukkan bilangan pertama: ')\n",
    "bilangan_kedua_14 = input ('Masukkan bilang kedua: ')\n",
    "jumlah_14 = float(bilangan_satu_14)+float(bilangan_kedua_14)\n",
    "print ('Jumlah kedua bilangan adalah ' + str(jumlah_14))"
   ]
  },
  {
   "cell_type": "markdown",
   "id": "703d0f58",
   "metadata": {},
   "source": [
    "# 5.4 Formatted String"
   ]
  },
  {
   "cell_type": "markdown",
   "id": "d47729aa",
   "metadata": {},
   "source": [
    "mempermudah penulisan nilai variabel yang ingin diprint\n",
    "1. menggunakan kurung kurawal setiap variabelnya\n",
    "2. print (f' bla bla {x} bla bla {x}')"
   ]
  },
  {
   "cell_type": "code",
   "execution_count": 19,
   "id": "2eea74ec",
   "metadata": {},
   "outputs": [
    {
     "name": "stdout",
     "output_type": "stream",
     "text": [
      "Vladimir adalah seorang guru di SD Pertiwi.\n"
     ]
    }
   ],
   "source": [
    "nama = 'Vladimir'\n",
    "pekerjaan = 'guru'\n",
    "institusi = 'SD Pertiwi'\n",
    "print (nama + ' adalah seorang ' + pekerjaan + ' di ' + institusi + '.')"
   ]
  },
  {
   "cell_type": "code",
   "execution_count": 23,
   "id": "7e576840",
   "metadata": {},
   "outputs": [
    {
     "name": "stdout",
     "output_type": "stream",
     "text": [
      "Vladimir adalah seorang guru di SD Pertiwi.\n"
     ]
    }
   ],
   "source": [
    "#dengan formatted string\n",
    "print (f'{nama} adalah seorang {pekerjaan} di {institusi}.')"
   ]
  },
  {
   "cell_type": "code",
   "execution_count": 25,
   "id": "c6b3473c",
   "metadata": {},
   "outputs": [
    {
     "name": "stdout",
     "output_type": "stream",
     "text": [
      "Vladimir adalah seorang guru di SD Pertiwi.\n"
     ]
    }
   ],
   "source": [
    "#dengan formatted string\n",
    "print (f\"{nama} adalah seorang {pekerjaan} di {institusi}.\")"
   ]
  },
  {
   "cell_type": "markdown",
   "id": "b9851b7a",
   "metadata": {},
   "source": [
    "# 5.5 Strings Index"
   ]
  },
  {
   "cell_type": "markdown",
   "id": "5fd52952",
   "metadata": {},
   "source": [
    "1. perhitungan dimulai dari 0\n",
    "2. urutan terakhir adalah -1. Kemudian selanjutnya -2 dan seterusnya\n",
    "3. spasi dihitung juga"
   ]
  },
  {
   "cell_type": "code",
   "execution_count": 26,
   "id": "82452e8d",
   "metadata": {},
   "outputs": [],
   "source": [
    "kelas = 'ini kelas algoritma'"
   ]
  },
  {
   "cell_type": "code",
   "execution_count": 27,
   "id": "0ec8bef1",
   "metadata": {},
   "outputs": [
    {
     "name": "stdout",
     "output_type": "stream",
     "text": [
      "ini\n"
     ]
    }
   ],
   "source": [
    "print (kelas[0:3])"
   ]
  },
  {
   "cell_type": "code",
   "execution_count": 28,
   "id": "742b93e0",
   "metadata": {},
   "outputs": [
    {
     "name": "stdout",
     "output_type": "stream",
     "text": [
      "ini kelas algoritm\n"
     ]
    }
   ],
   "source": [
    "print (kelas[0:-1])"
   ]
  },
  {
   "cell_type": "code",
   "execution_count": 29,
   "id": "bda4b470",
   "metadata": {},
   "outputs": [
    {
     "name": "stdout",
     "output_type": "stream",
     "text": [
      "elas algoritm\n"
     ]
    }
   ],
   "source": [
    "print (kelas[5:-1])"
   ]
  },
  {
   "cell_type": "code",
   "execution_count": 30,
   "id": "ce6b16e8",
   "metadata": {},
   "outputs": [
    {
     "name": "stdout",
     "output_type": "stream",
     "text": [
      "ieslrm\n"
     ]
    }
   ],
   "source": [
    "print(kelas[2:-1:3])"
   ]
  },
  {
   "cell_type": "code",
   "execution_count": 31,
   "id": "5c31c78d",
   "metadata": {},
   "outputs": [
    {
     "name": "stdout",
     "output_type": "stream",
     "text": [
      "ini kelas algori\n"
     ]
    }
   ],
   "source": [
    "print(kelas[:-3])"
   ]
  },
  {
   "cell_type": "code",
   "execution_count": 32,
   "id": "f7d4f819",
   "metadata": {},
   "outputs": [
    {
     "name": "stdout",
     "output_type": "stream",
     "text": [
      "ni kelas algoritma\n"
     ]
    }
   ],
   "source": [
    "print(kelas[1:])"
   ]
  },
  {
   "cell_type": "code",
   "execution_count": 33,
   "id": "0690b526",
   "metadata": {},
   "outputs": [
    {
     "name": "stdout",
     "output_type": "stream",
     "text": [
      "ini kelas algoritma\n"
     ]
    }
   ],
   "source": [
    "print(kelas[:])"
   ]
  },
  {
   "cell_type": "markdown",
   "id": "d2e00ebb",
   "metadata": {},
   "source": [
    "# 5.6 Strings Methods"
   ]
  },
  {
   "cell_type": "code",
   "execution_count": 34,
   "id": "3a2a27b2",
   "metadata": {},
   "outputs": [],
   "source": [
    "judul = 'Bali Surga Dunia'"
   ]
  },
  {
   "cell_type": "code",
   "execution_count": 35,
   "id": "ef398c9e",
   "metadata": {},
   "outputs": [
    {
     "name": "stdout",
     "output_type": "stream",
     "text": [
      "16\n"
     ]
    }
   ],
   "source": [
    "print(len(judul))"
   ]
  },
  {
   "cell_type": "code",
   "execution_count": 36,
   "id": "b2c89470",
   "metadata": {},
   "outputs": [
    {
     "data": {
      "text/plain": [
       "'BALI SURGA DUNIA'"
      ]
     },
     "execution_count": 36,
     "metadata": {},
     "output_type": "execute_result"
    }
   ],
   "source": [
    "judul.upper()"
   ]
  },
  {
   "cell_type": "code",
   "execution_count": 37,
   "id": "54cf7e47",
   "metadata": {},
   "outputs": [
    {
     "data": {
      "text/plain": [
       "'bali surga dunia'"
      ]
     },
     "execution_count": 37,
     "metadata": {},
     "output_type": "execute_result"
    }
   ],
   "source": [
    "judul.lower()"
   ]
  },
  {
   "cell_type": "code",
   "execution_count": 39,
   "id": "4963d83e",
   "metadata": {},
   "outputs": [
    {
     "data": {
      "text/plain": [
       "5"
      ]
     },
     "execution_count": 39,
     "metadata": {},
     "output_type": "execute_result"
    }
   ],
   "source": [
    "judul.find('Surga')"
   ]
  },
  {
   "cell_type": "code",
   "execution_count": 43,
   "id": "a4c9a4dc",
   "metadata": {},
   "outputs": [
    {
     "data": {
      "text/plain": [
       "-1"
      ]
     },
     "execution_count": 43,
     "metadata": {},
     "output_type": "execute_result"
    }
   ],
   "source": [
    "judul.find('bali')"
   ]
  },
  {
   "cell_type": "code",
   "execution_count": 44,
   "id": "cff5221f",
   "metadata": {},
   "outputs": [
    {
     "data": {
      "text/plain": [
       "'Indonesia Surga Dunia'"
      ]
     },
     "execution_count": 44,
     "metadata": {},
     "output_type": "execute_result"
    }
   ],
   "source": [
    "judul.replace('Bali','Indonesia')"
   ]
  },
  {
   "cell_type": "code",
   "execution_count": 45,
   "id": "685f0322",
   "metadata": {},
   "outputs": [
    {
     "data": {
      "text/plain": [
       "'Bali Surga Dunia'"
      ]
     },
     "execution_count": 45,
     "metadata": {},
     "output_type": "execute_result"
    }
   ],
   "source": [
    "judul.replace('bali','Indonesia')"
   ]
  },
  {
   "cell_type": "code",
   "execution_count": 46,
   "id": "32f468a9",
   "metadata": {},
   "outputs": [
    {
     "name": "stdout",
     "output_type": "stream",
     "text": [
      "True\n"
     ]
    }
   ],
   "source": [
    "print('Bali' in judul)"
   ]
  },
  {
   "cell_type": "code",
   "execution_count": 47,
   "id": "6d2847d1",
   "metadata": {},
   "outputs": [
    {
     "name": "stdout",
     "output_type": "stream",
     "text": [
      "False\n"
     ]
    }
   ],
   "source": [
    "print('bali' in judul)"
   ]
  },
  {
   "cell_type": "markdown",
   "id": "abcd9abe",
   "metadata": {},
   "source": [
    "# 5.7 Operasi Matematika di Python"
   ]
  },
  {
   "cell_type": "code",
   "execution_count": 48,
   "id": "3817f82a",
   "metadata": {},
   "outputs": [
    {
     "name": "stdout",
     "output_type": "stream",
     "text": [
      "10\n",
      "4\n",
      "21\n",
      "2.3333333333333335\n",
      "2\n",
      "1\n",
      "343\n"
     ]
    }
   ],
   "source": [
    "print(7+3)\n",
    "print (7-3)\n",
    "print (7*3)\n",
    "print (7/3)\n",
    "print (7//3)\n",
    "print (7%3)\n",
    "print (7**3)"
   ]
  },
  {
   "cell_type": "code",
   "execution_count": 49,
   "id": "7d29f83d",
   "metadata": {},
   "outputs": [
    {
     "name": "stdout",
     "output_type": "stream",
     "text": [
      "4\n"
     ]
    }
   ],
   "source": [
    "x=3\n",
    "x+=1\n",
    "print (x)"
   ]
  },
  {
   "cell_type": "code",
   "execution_count": 50,
   "id": "dd369cab",
   "metadata": {},
   "outputs": [
    {
     "name": "stdout",
     "output_type": "stream",
     "text": [
      "2\n"
     ]
    }
   ],
   "source": [
    "x-=2\n",
    "print (x)"
   ]
  },
  {
   "cell_type": "code",
   "execution_count": 51,
   "id": "7c4ecb87",
   "metadata": {},
   "outputs": [
    {
     "name": "stdout",
     "output_type": "stream",
     "text": [
      "6\n"
     ]
    }
   ],
   "source": [
    "x*=3\n",
    "print (x)"
   ]
  },
  {
   "cell_type": "markdown",
   "id": "8017fca9",
   "metadata": {},
   "source": [
    "# 5.8 Operator Perbandingan di Python"
   ]
  },
  {
   "cell_type": "code",
   "execution_count": 52,
   "id": "2768774b",
   "metadata": {},
   "outputs": [
    {
     "name": "stdout",
     "output_type": "stream",
     "text": [
      "True\n",
      "True\n",
      "True\n",
      "True\n",
      "True\n",
      "True\n"
     ]
    }
   ],
   "source": [
    "x=3>2\n",
    "print (x)\n",
    "\n",
    "x=2<3\n",
    "print(x)\n",
    "\n",
    "x=3>=2\n",
    "print(x)\n",
    "\n",
    "x=2<=3\n",
    "print (x)\n",
    "\n",
    "x= 3==3\n",
    "print(x)\n",
    "\n",
    "x=3!=4\n",
    "print (x)"
   ]
  },
  {
   "cell_type": "code",
   "execution_count": 53,
   "id": "6cbe3ef0",
   "metadata": {},
   "outputs": [
    {
     "name": "stdout",
     "output_type": "stream",
     "text": [
      "False\n",
      "False\n",
      "False\n",
      "False\n",
      "False\n",
      "False\n"
     ]
    }
   ],
   "source": [
    "x=2>3\n",
    "print (x)\n",
    "\n",
    "x=3<2\n",
    "print(x)\n",
    "\n",
    "x=2>=3\n",
    "print(x)\n",
    "\n",
    "x=3<=2\n",
    "print (x)\n",
    "\n",
    "x= 3==4\n",
    "print(x)\n",
    "\n",
    "x=3!=3\n",
    "print (x)"
   ]
  },
  {
   "cell_type": "markdown",
   "id": "bbeea356",
   "metadata": {},
   "source": [
    "# 5.9 Operator Logika di Python"
   ]
  },
  {
   "cell_type": "markdown",
   "id": "40ea7c28",
   "metadata": {},
   "source": [
    "1. and : keduanya harus benar semua\n",
    "2. or : salah satu harus benar\n",
    "3. not : kebalikan (jika x bernilai true maka not x adalah false)"
   ]
  },
  {
   "cell_type": "code",
   "execution_count": 55,
   "id": "31462c7f",
   "metadata": {},
   "outputs": [],
   "source": [
    "buah_manggis = 10\n",
    "buah_mangga = 15"
   ]
  },
  {
   "cell_type": "code",
   "execution_count": 56,
   "id": "11f21e27",
   "metadata": {},
   "outputs": [
    {
     "name": "stdout",
     "output_type": "stream",
     "text": [
      "True\n"
     ]
    }
   ],
   "source": [
    "print(buah_manggis >8 and buah_mangga <20)"
   ]
  },
  {
   "cell_type": "code",
   "execution_count": 57,
   "id": "6cd8d919",
   "metadata": {},
   "outputs": [
    {
     "name": "stdout",
     "output_type": "stream",
     "text": [
      "True\n"
     ]
    }
   ],
   "source": [
    "print (buah_manggis <8 or buah_mangga <20)"
   ]
  },
  {
   "cell_type": "code",
   "execution_count": 60,
   "id": "ca0285b0",
   "metadata": {},
   "outputs": [
    {
     "name": "stdout",
     "output_type": "stream",
     "text": [
      "False\n"
     ]
    }
   ],
   "source": [
    "print (buah_manggis <8 or buah_mangga >20)"
   ]
  },
  {
   "cell_type": "code",
   "execution_count": 61,
   "id": "5b9f623b",
   "metadata": {},
   "outputs": [
    {
     "name": "stdout",
     "output_type": "stream",
     "text": [
      "True\n"
     ]
    }
   ],
   "source": [
    "print(not(buah_manggis<8 or buah_mangga>20))"
   ]
  },
  {
   "cell_type": "markdown",
   "id": "b4e934a5",
   "metadata": {},
   "source": [
    "# 5.10 Operator if di Python"
   ]
  },
  {
   "cell_type": "markdown",
   "id": "c873ea19",
   "metadata": {},
   "source": [
    "akan berjalan selama variabel bernilainya True"
   ]
  },
  {
   "cell_type": "code",
   "execution_count": 63,
   "id": "f6330e74",
   "metadata": {},
   "outputs": [
    {
     "name": "stdout",
     "output_type": "stream",
     "text": [
      "Nilai anda adalah 15\n",
      "Anda mendapatkan nilai E\n",
      "Sampai jumpat tahun depan, jaa ne!\n"
     ]
    }
   ],
   "source": [
    "nilai_14=float(input('Nilai anda adalah '))\n",
    "\n",
    "if nilai_14 >=80:\n",
    "    print (\"Anda mendapatkan nilai A\")\n",
    "    print (\"Bagus sekali, selamat!\")\n",
    "if nilai_14 < 80 and nilai_14 >= 70:\n",
    "    print ('Anda mendapatkan nilai B')\n",
    "    print ('Tingkatkan prestasimu!')\n",
    "if nilai_14 >=60 and nilai_14 < 70 :\n",
    "    print ('Anda mendapatkan nilai C')\n",
    "    print ('Lain kali mesti lebih baik')\n",
    "if nilai_14 >=50 and nilai_14 < 60 :\n",
    "    print ('Anda mendapatkan nilai D')\n",
    "    print ('Ulang lagi tahun depan')\n",
    "if nilai_14 < 50 :\n",
    "    print ('Anda mendapatkan nilai E')\n",
    "    print ('Sampai jumpat tahun depan, jaa ne!')"
   ]
  },
  {
   "cell_type": "code",
   "execution_count": null,
   "id": "796cb010",
   "metadata": {},
   "outputs": [],
   "source": []
  },
  {
   "cell_type": "markdown",
   "id": "4df7d4fe",
   "metadata": {},
   "source": [
    "latihan MENGUBAH SATUAN"
   ]
  },
  {
   "cell_type": "code",
   "execution_count": 69,
   "id": "23eb1cee",
   "metadata": {},
   "outputs": [
    {
     "name": "stdout",
     "output_type": "stream",
     "text": [
      "Berapakah tinggi anda? 14\n",
      "Tinggi dalam cm atau inci? inci\n",
      "Tinggi anda adalah 35.559980797610365 cm.\n"
     ]
    }
   ],
   "source": [
    "tinggi_14=float(input('Berapakah tinggi anda? '))\n",
    "cm_atau_inci= input (\"Tinggi dalam cm atau inci? \")\n",
    "\n",
    "if cm_atau_inci.upper() == 'CM' :\n",
    "    tinggi_14 = tinggi_14*0.393701\n",
    "    print (\"Tinggi anda adalah \" + str(tinggi_14) + \" inci\")\n",
    "\n",
    "elif cm_atau_inci.upper() == \"INCI\" :\n",
    "    tinggi_14 = tinggi_14/0.393701\n",
    "    print(f'Tinggi anda adalah {tinggi_14} cm.')"
   ]
  },
  {
   "cell_type": "code",
   "execution_count": 70,
   "id": "0cfc593c",
   "metadata": {},
   "outputs": [
    {
     "name": "stdout",
     "output_type": "stream",
     "text": [
      "berapa berat bahannya? 45\n",
      "mau dalam satuan apa? kg\n",
      "berat nya adalah 45000.0gram\n"
     ]
    }
   ],
   "source": [
    "#kalau ini iseng\n",
    "berat = float(input(\"berapa berat bahannya? \"))\n",
    "kg_or_gr = input (\"mau dalam satuan apa? \")\n",
    "\n",
    "if kg_or_gr.lower() == 'kg' :\n",
    "    berat = berat*1000\n",
    "    tulisan = 'gram'\n",
    "\n",
    "elif kg_or_gr.lower() == 'gr' :\n",
    "    berat = berat/1000\n",
    "    tulisan = 'kg'\n",
    "\n",
    "print(f'berat nya adalah {berat}{tulisan}')"
   ]
  },
  {
   "cell_type": "markdown",
   "id": "732bd22b",
   "metadata": {},
   "source": [
    "# 5.11 While loop"
   ]
  },
  {
   "cell_type": "markdown",
   "id": "f6b37674",
   "metadata": {},
   "source": [
    "selalu berjalan selama nilai bernilai True. Kalau udah False ya udahan."
   ]
  },
  {
   "cell_type": "code",
   "execution_count": 71,
   "id": "b9820e45",
   "metadata": {},
   "outputs": [
    {
     "name": "stdout",
     "output_type": "stream",
     "text": [
      "Angka 0 masih dibawah 5\n",
      "Angka 1 masih dibawah 5\n",
      "Angka 2 masih dibawah 5\n",
      "Angka 3 masih dibawah 5\n",
      "Angka 4 masih dibawah 5\n"
     ]
    }
   ],
   "source": [
    "a=0\n",
    "while a<5 :\n",
    "    print(\"Angka \" + str(a) + \" masih dibawah 5\")\n",
    "    a+=1"
   ]
  },
  {
   "cell_type": "code",
   "execution_count": 72,
   "id": "d544fee1",
   "metadata": {},
   "outputs": [
    {
     "name": "stdout",
     "output_type": "stream",
     "text": [
      "\n",
      "*\n",
      "**\n",
      "***\n",
      "****\n"
     ]
    }
   ],
   "source": [
    "a=0\n",
    "while a<5 :\n",
    "    print (a*'*')\n",
    "    a +=1"
   ]
  },
  {
   "cell_type": "code",
   "execution_count": null,
   "id": "2ed48f44",
   "metadata": {},
   "outputs": [],
   "source": []
  }
 ],
 "metadata": {
  "kernelspec": {
   "display_name": "Python 3 (ipykernel)",
   "language": "python",
   "name": "python3"
  },
  "language_info": {
   "codemirror_mode": {
    "name": "ipython",
    "version": 3
   },
   "file_extension": ".py",
   "mimetype": "text/x-python",
   "name": "python",
   "nbconvert_exporter": "python",
   "pygments_lexer": "ipython3",
   "version": "3.9.7"
  }
 },
 "nbformat": 4,
 "nbformat_minor": 5
}
