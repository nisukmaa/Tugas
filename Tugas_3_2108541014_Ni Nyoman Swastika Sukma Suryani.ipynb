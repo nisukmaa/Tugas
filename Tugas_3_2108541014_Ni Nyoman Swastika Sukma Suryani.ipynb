{
 "cells": [
  {
   "cell_type": "markdown",
   "id": "fa428dcd",
   "metadata": {},
   "source": [
    "# 5.20 Numpy"
   ]
  },
  {
   "cell_type": "markdown",
   "id": "7e490a23",
   "metadata": {},
   "source": [
    "salah satu Library pada Python dimana keunggulannya dalam perhitungan menggunakan vektor dan matriks dalam berbagai dimensi"
   ]
  },
  {
   "cell_type": "code",
   "execution_count": 1,
   "id": "56d8c374",
   "metadata": {},
   "outputs": [],
   "source": [
    "import numpy as np"
   ]
  },
  {
   "cell_type": "markdown",
   "id": "afbc1d36",
   "metadata": {},
   "source": [
    "### 5.20.1 Perintah Dasar pada Numpy"
   ]
  },
  {
   "cell_type": "code",
   "execution_count": 2,
   "id": "d1689d76",
   "metadata": {},
   "outputs": [
    {
     "name": "stdout",
     "output_type": "stream",
     "text": [
      "[1 3 5 7 9]\n"
     ]
    }
   ],
   "source": [
    "a= np.array([1,3,5,7,9])\n",
    "print (a)"
   ]
  },
  {
   "cell_type": "code",
   "execution_count": 3,
   "id": "4c01909d",
   "metadata": {},
   "outputs": [
    {
     "name": "stdout",
     "output_type": "stream",
     "text": [
      "[[1 2 3 4]\n",
      " [8 9 4 5]]\n"
     ]
    }
   ],
   "source": [
    "b=np.array([[1,2,3,4],[8,9,4,5]])\n",
    "print (b)"
   ]
  },
  {
   "cell_type": "code",
   "execution_count": 4,
   "id": "15439a1f",
   "metadata": {},
   "outputs": [
    {
     "name": "stdout",
     "output_type": "stream",
     "text": [
      "[[[0 1 2 3]\n",
      "  [4 5 6 7]]\n",
      "\n",
      " [[6 5 4 3]\n",
      "  [8 9 7 8]]\n",
      "\n",
      " [[0 2 4 6]\n",
      "  [5 6 7 8]]]\n"
     ]
    }
   ],
   "source": [
    "c=np.array([[[0,1,2,3],[4,5,6,7]]\n",
    "            ,[[6,5,4,3],[8,9,7,8]],\n",
    "            [[0,2,4,6],[5,6,7,8]]])\n",
    "print(c)"
   ]
  },
  {
   "cell_type": "code",
   "execution_count": 5,
   "id": "3538cbd5",
   "metadata": {},
   "outputs": [
    {
     "data": {
      "text/plain": [
       "1"
      ]
     },
     "execution_count": 5,
     "metadata": {},
     "output_type": "execute_result"
    }
   ],
   "source": [
    "a.ndim"
   ]
  },
  {
   "cell_type": "code",
   "execution_count": 6,
   "id": "0b64b5fb",
   "metadata": {},
   "outputs": [
    {
     "data": {
      "text/plain": [
       "2"
      ]
     },
     "execution_count": 6,
     "metadata": {},
     "output_type": "execute_result"
    }
   ],
   "source": [
    "b.ndim"
   ]
  },
  {
   "cell_type": "code",
   "execution_count": 7,
   "id": "5bbc7693",
   "metadata": {},
   "outputs": [
    {
     "data": {
      "text/plain": [
       "3"
      ]
     },
     "execution_count": 7,
     "metadata": {},
     "output_type": "execute_result"
    }
   ],
   "source": [
    "c.ndim"
   ]
  },
  {
   "cell_type": "code",
   "execution_count": 8,
   "id": "b62de43d",
   "metadata": {},
   "outputs": [
    {
     "data": {
      "text/plain": [
       "(5,)"
      ]
     },
     "execution_count": 8,
     "metadata": {},
     "output_type": "execute_result"
    }
   ],
   "source": [
    "a.shape"
   ]
  },
  {
   "cell_type": "code",
   "execution_count": 9,
   "id": "7c39aa88",
   "metadata": {},
   "outputs": [
    {
     "data": {
      "text/plain": [
       "(2, 4)"
      ]
     },
     "execution_count": 9,
     "metadata": {},
     "output_type": "execute_result"
    }
   ],
   "source": [
    "b.shape"
   ]
  },
  {
   "cell_type": "code",
   "execution_count": 10,
   "id": "14d0cddf",
   "metadata": {},
   "outputs": [
    {
     "data": {
      "text/plain": [
       "(3, 2, 4)"
      ]
     },
     "execution_count": 10,
     "metadata": {},
     "output_type": "execute_result"
    }
   ],
   "source": [
    "c.shape"
   ]
  },
  {
   "cell_type": "markdown",
   "id": "f7b445ab",
   "metadata": {},
   "source": [
    "### 5.20.2 Memanggil Anggota, Kolom, dan Baris dengan Numpy"
   ]
  },
  {
   "cell_type": "code",
   "execution_count": 11,
   "id": "29713b64",
   "metadata": {},
   "outputs": [
    {
     "name": "stdout",
     "output_type": "stream",
     "text": [
      "[[ 1  2  3  4]\n",
      " [ 5  6  7  8]\n",
      " [ 9 10 11 12]]\n"
     ]
    }
   ],
   "source": [
    "d=np.array ([[1,2,3,4],[5,6,7,8],[9,10,11,12]])\n",
    "print (d)"
   ]
  },
  {
   "cell_type": "code",
   "execution_count": 12,
   "id": "d87503b3",
   "metadata": {},
   "outputs": [
    {
     "data": {
      "text/plain": [
       "9"
      ]
     },
     "execution_count": 12,
     "metadata": {},
     "output_type": "execute_result"
    }
   ],
   "source": [
    "d[2,0]"
   ]
  },
  {
   "cell_type": "code",
   "execution_count": 13,
   "id": "3afdb773",
   "metadata": {},
   "outputs": [
    {
     "data": {
      "text/plain": [
       "array([1, 2, 3, 4])"
      ]
     },
     "execution_count": 13,
     "metadata": {},
     "output_type": "execute_result"
    }
   ],
   "source": [
    "d[0,:]"
   ]
  },
  {
   "cell_type": "code",
   "execution_count": 14,
   "id": "5098d007",
   "metadata": {},
   "outputs": [
    {
     "data": {
      "text/plain": [
       "array([ 4,  8, 12])"
      ]
     },
     "execution_count": 14,
     "metadata": {},
     "output_type": "execute_result"
    }
   ],
   "source": [
    "d[:,3]"
   ]
  },
  {
   "cell_type": "code",
   "execution_count": 15,
   "id": "85b6f964",
   "metadata": {},
   "outputs": [
    {
     "data": {
      "text/plain": [
       "array([7])"
      ]
     },
     "execution_count": 15,
     "metadata": {},
     "output_type": "execute_result"
    }
   ],
   "source": [
    "d[1,2:3]"
   ]
  },
  {
   "cell_type": "code",
   "execution_count": 16,
   "id": "989c08c3",
   "metadata": {},
   "outputs": [
    {
     "data": {
      "text/plain": [
       "array([1, 3])"
      ]
     },
     "execution_count": 16,
     "metadata": {},
     "output_type": "execute_result"
    }
   ],
   "source": [
    "d[0,0:3:2]"
   ]
  },
  {
   "cell_type": "code",
   "execution_count": 17,
   "id": "16c477c1",
   "metadata": {},
   "outputs": [
    {
     "name": "stdout",
     "output_type": "stream",
     "text": [
      "[[ 1  2  3  4]\n",
      " [ 5  6  7  8]\n",
      " [ 9 10 11 48]]\n"
     ]
    }
   ],
   "source": [
    "d[2,3]=48\n",
    "print(d)"
   ]
  },
  {
   "cell_type": "markdown",
   "id": "b9573be8",
   "metadata": {},
   "source": [
    "### 5.20.3 Matrks pada Numpy"
   ]
  },
  {
   "cell_type": "code",
   "execution_count": 18,
   "id": "a02395cb",
   "metadata": {},
   "outputs": [
    {
     "data": {
      "text/plain": [
       "array([[1., 1., 1.]])"
      ]
     },
     "execution_count": 18,
     "metadata": {},
     "output_type": "execute_result"
    }
   ],
   "source": [
    "np.ones((1,3))"
   ]
  },
  {
   "cell_type": "code",
   "execution_count": 19,
   "id": "35b971cc",
   "metadata": {},
   "outputs": [
    {
     "data": {
      "text/plain": [
       "array([[0., 0., 0.]])"
      ]
     },
     "execution_count": 19,
     "metadata": {},
     "output_type": "execute_result"
    }
   ],
   "source": [
    "np.zeros((1,3))"
   ]
  },
  {
   "cell_type": "code",
   "execution_count": 20,
   "id": "8d3f612a",
   "metadata": {},
   "outputs": [
    {
     "data": {
      "text/plain": [
       "array([[1., 0., 0., 0., 0.],\n",
       "       [0., 1., 0., 0., 0.],\n",
       "       [0., 0., 1., 0., 0.],\n",
       "       [0., 0., 0., 1., 0.],\n",
       "       [0., 0., 0., 0., 1.]])"
      ]
     },
     "execution_count": 20,
     "metadata": {},
     "output_type": "execute_result"
    }
   ],
   "source": [
    "np.identity(5)"
   ]
  },
  {
   "cell_type": "code",
   "execution_count": 21,
   "id": "d1dfa8ae",
   "metadata": {},
   "outputs": [
    {
     "data": {
      "text/plain": [
       "array([[[1., 1.],\n",
       "        [1., 1.],\n",
       "        [1., 1.],\n",
       "        [1., 1.]]])"
      ]
     },
     "execution_count": 21,
     "metadata": {},
     "output_type": "execute_result"
    }
   ],
   "source": [
    "np.ones((1,4,2))"
   ]
  },
  {
   "cell_type": "code",
   "execution_count": 22,
   "id": "7fdd6411",
   "metadata": {},
   "outputs": [
    {
     "data": {
      "text/plain": [
       "array([[7, 7],\n",
       "       [7, 7],\n",
       "       [7, 7],\n",
       "       [7, 7]])"
      ]
     },
     "execution_count": 22,
     "metadata": {},
     "output_type": "execute_result"
    }
   ],
   "source": [
    "np.full((4,2),7)"
   ]
  },
  {
   "cell_type": "code",
   "execution_count": 23,
   "id": "91e91d9d",
   "metadata": {},
   "outputs": [
    {
     "data": {
      "text/plain": [
       "array([[0.31099779, 0.5427153 , 0.00903973, 0.97189579],\n",
       "       [0.3731359 , 0.67712113, 0.47659434, 0.31078148],\n",
       "       [0.17816658, 0.19898772, 0.44978933, 0.46398451],\n",
       "       [0.73544309, 0.22609368, 0.0425365 , 0.96462171],\n",
       "       [0.27602461, 0.75246323, 0.08578428, 0.48912118]])"
      ]
     },
     "execution_count": 23,
     "metadata": {},
     "output_type": "execute_result"
    }
   ],
   "source": [
    "np.random.rand(5,4)"
   ]
  },
  {
   "cell_type": "code",
   "execution_count": 24,
   "id": "c57047d6",
   "metadata": {},
   "outputs": [
    {
     "data": {
      "text/plain": [
       "array([[5, 4, 4],\n",
       "       [5, 3, 9]])"
      ]
     },
     "execution_count": 24,
     "metadata": {},
     "output_type": "execute_result"
    }
   ],
   "source": [
    "np.random.randint(1,10,size=(2,3))"
   ]
  },
  {
   "cell_type": "markdown",
   "id": "e5c9b5d2",
   "metadata": {},
   "source": [
    "Latihan : Membuat matriks ukuran 10 x 10"
   ]
  },
  {
   "cell_type": "code",
   "execution_count": 25,
   "id": "f00b39ae",
   "metadata": {},
   "outputs": [
    {
     "name": "stdout",
     "output_type": "stream",
     "text": [
      "[[0. 0. 0. 0. 0. 0. 0. 0. 0. 0.]\n",
      " [0. 0. 0. 0. 0. 0. 0. 0. 0. 0.]\n",
      " [0. 0. 0. 0. 0. 0. 0. 0. 0. 0.]\n",
      " [0. 0. 0. 0. 0. 0. 0. 0. 0. 0.]\n",
      " [0. 0. 0. 0. 0. 0. 0. 0. 0. 0.]\n",
      " [0. 0. 0. 0. 0. 0. 0. 0. 0. 0.]\n",
      " [0. 0. 0. 0. 0. 0. 0. 0. 0. 0.]\n",
      " [0. 0. 0. 0. 0. 0. 0. 0. 0. 0.]\n",
      " [0. 0. 0. 0. 0. 0. 0. 0. 0. 0.]\n",
      " [0. 0. 0. 0. 0. 0. 0. 0. 0. 0.]]\n"
     ]
    }
   ],
   "source": [
    "a=np.zeros ((10,10))\n",
    "print (a)"
   ]
  },
  {
   "cell_type": "code",
   "execution_count": 26,
   "id": "4df7fb8d",
   "metadata": {},
   "outputs": [
    {
     "name": "stdout",
     "output_type": "stream",
     "text": [
      "[[1. 0. 0. 0. 0. 0. 0. 0. 0. 0.]\n",
      " [0. 1. 0. 0. 0. 0. 0. 0. 0. 0.]\n",
      " [0. 0. 1. 0. 0. 0. 0. 0. 0. 0.]\n",
      " [0. 0. 0. 1. 0. 0. 0. 0. 0. 0.]\n",
      " [0. 0. 0. 0. 1. 0. 0. 0. 0. 0.]\n",
      " [0. 0. 0. 0. 0. 1. 0. 0. 0. 0.]\n",
      " [0. 0. 0. 0. 0. 0. 1. 0. 0. 0.]\n",
      " [0. 0. 0. 0. 0. 0. 0. 1. 0. 0.]\n",
      " [0. 0. 0. 0. 0. 0. 0. 0. 1. 0.]\n",
      " [0. 0. 0. 0. 0. 0. 0. 0. 0. 1.]]\n"
     ]
    }
   ],
   "source": [
    "b=np.identity(10)\n",
    "print (b)"
   ]
  },
  {
   "cell_type": "code",
   "execution_count": 27,
   "id": "44cc4eaa",
   "metadata": {},
   "outputs": [
    {
     "name": "stdout",
     "output_type": "stream",
     "text": [
      "[[9. 0. 0. 0. 0. 0. 0. 0. 0. 0.]\n",
      " [0. 9. 0. 0. 0. 0. 0. 0. 0. 0.]\n",
      " [0. 0. 9. 0. 0. 0. 0. 0. 0. 0.]\n",
      " [0. 0. 0. 9. 0. 0. 0. 0. 0. 0.]\n",
      " [0. 0. 0. 0. 9. 0. 0. 0. 0. 0.]\n",
      " [0. 0. 0. 0. 0. 9. 0. 0. 0. 0.]\n",
      " [0. 0. 0. 0. 0. 0. 9. 0. 0. 0.]\n",
      " [0. 0. 0. 0. 0. 0. 0. 9. 0. 0.]\n",
      " [0. 0. 0. 0. 0. 0. 0. 0. 9. 0.]\n",
      " [0. 0. 0. 0. 0. 0. 0. 0. 0. 9.]]\n"
     ]
    }
   ],
   "source": [
    "c=9*b\n",
    "print(c)"
   ]
  },
  {
   "cell_type": "code",
   "execution_count": 28,
   "id": "7a15efb9",
   "metadata": {},
   "outputs": [
    {
     "name": "stdout",
     "output_type": "stream",
     "text": [
      "[[1. 1. 1. 1. 1. 1. 1. 1.]\n",
      " [1. 1. 1. 1. 1. 1. 1. 1.]\n",
      " [1. 1. 1. 1. 1. 1. 1. 1.]\n",
      " [1. 1. 1. 1. 1. 1. 1. 1.]\n",
      " [1. 1. 1. 1. 1. 1. 1. 1.]\n",
      " [1. 1. 1. 1. 1. 1. 1. 1.]\n",
      " [1. 1. 1. 1. 1. 1. 1. 1.]\n",
      " [1. 1. 1. 1. 1. 1. 1. 1.]]\n"
     ]
    }
   ],
   "source": [
    "d=np.ones((8,8))\n",
    "print (d)"
   ]
  },
  {
   "cell_type": "code",
   "execution_count": 29,
   "id": "27529013",
   "metadata": {},
   "outputs": [
    {
     "name": "stdout",
     "output_type": "stream",
     "text": [
      "[[8. 0. 0. 0. 0. 0. 0. 0.]\n",
      " [0. 8. 0. 0. 0. 0. 0. 0.]\n",
      " [0. 0. 8. 0. 0. 0. 0. 0.]\n",
      " [0. 0. 0. 8. 0. 0. 0. 0.]\n",
      " [0. 0. 0. 0. 8. 0. 0. 0.]\n",
      " [0. 0. 0. 0. 0. 8. 0. 0.]\n",
      " [0. 0. 0. 0. 0. 0. 8. 0.]\n",
      " [0. 0. 0. 0. 0. 0. 0. 8.]]\n"
     ]
    }
   ],
   "source": [
    "e=np.identity(8)*8\n",
    "print(e)"
   ]
  },
  {
   "cell_type": "code",
   "execution_count": 30,
   "id": "0d6e554f",
   "metadata": {},
   "outputs": [
    {
     "name": "stdout",
     "output_type": "stream",
     "text": [
      "[[9. 1. 1. 1. 1. 1. 1. 1.]\n",
      " [1. 9. 1. 1. 1. 1. 1. 1.]\n",
      " [1. 1. 9. 1. 1. 1. 1. 1.]\n",
      " [1. 1. 1. 9. 1. 1. 1. 1.]\n",
      " [1. 1. 1. 1. 9. 1. 1. 1.]\n",
      " [1. 1. 1. 1. 1. 9. 1. 1.]\n",
      " [1. 1. 1. 1. 1. 1. 9. 1.]\n",
      " [1. 1. 1. 1. 1. 1. 1. 9.]]\n"
     ]
    }
   ],
   "source": [
    "f=d+e\n",
    "print(f)"
   ]
  },
  {
   "cell_type": "code",
   "execution_count": 31,
   "id": "d96bc659",
   "metadata": {},
   "outputs": [
    {
     "name": "stdout",
     "output_type": "stream",
     "text": [
      "[[9. 0. 0. 0. 0. 0. 0. 0. 0. 0.]\n",
      " [0. 9. 1. 1. 1. 1. 1. 1. 1. 0.]\n",
      " [0. 1. 9. 1. 1. 1. 1. 1. 1. 0.]\n",
      " [0. 1. 1. 9. 1. 1. 1. 1. 1. 0.]\n",
      " [0. 1. 1. 1. 9. 1. 1. 1. 1. 0.]\n",
      " [0. 1. 1. 1. 1. 9. 1. 1. 1. 0.]\n",
      " [0. 1. 1. 1. 1. 1. 9. 1. 1. 0.]\n",
      " [0. 1. 1. 1. 1. 1. 1. 9. 1. 0.]\n",
      " [0. 1. 1. 1. 1. 1. 1. 1. 9. 0.]\n",
      " [0. 0. 0. 0. 0. 0. 0. 0. 0. 9.]]\n"
     ]
    }
   ],
   "source": [
    "c[1:-1,1:-1]=f\n",
    "print(c)"
   ]
  },
  {
   "cell_type": "code",
   "execution_count": 32,
   "id": "9c2643d3",
   "metadata": {},
   "outputs": [
    {
     "name": "stdout",
     "output_type": "stream",
     "text": [
      "[[9. 0. 0. 0. 0. 0.]\n",
      " [0. 9. 0. 0. 0. 0.]\n",
      " [0. 0. 9. 0. 0. 0.]\n",
      " [0. 0. 0. 9. 0. 0.]\n",
      " [0. 0. 0. 0. 9. 0.]\n",
      " [0. 0. 0. 0. 0. 9.]]\n"
     ]
    }
   ],
   "source": [
    "g=np.identity(6)*9\n",
    "print(g)"
   ]
  },
  {
   "cell_type": "code",
   "execution_count": 33,
   "id": "6d33d147",
   "metadata": {},
   "outputs": [
    {
     "name": "stdout",
     "output_type": "stream",
     "text": [
      "[[9. 0. 0. 0. 0. 0. 0. 0. 0. 0.]\n",
      " [0. 9. 1. 1. 1. 1. 1. 1. 1. 0.]\n",
      " [0. 1. 9. 0. 0. 0. 0. 0. 1. 0.]\n",
      " [0. 1. 0. 9. 0. 0. 0. 0. 1. 0.]\n",
      " [0. 1. 0. 0. 9. 0. 0. 0. 1. 0.]\n",
      " [0. 1. 0. 0. 0. 9. 0. 0. 1. 0.]\n",
      " [0. 1. 0. 0. 0. 0. 9. 0. 1. 0.]\n",
      " [0. 1. 0. 0. 0. 0. 0. 9. 1. 0.]\n",
      " [0. 1. 1. 1. 1. 1. 1. 1. 9. 0.]\n",
      " [0. 0. 0. 0. 0. 0. 0. 0. 0. 9.]]\n"
     ]
    }
   ],
   "source": [
    "c[2:-2,2:-2]=g\n",
    "print(c)"
   ]
  },
  {
   "cell_type": "code",
   "execution_count": 34,
   "id": "3186549f",
   "metadata": {},
   "outputs": [
    {
     "name": "stdout",
     "output_type": "stream",
     "text": [
      "[[2. 2. 2. 2.]\n",
      " [2. 2. 2. 2.]\n",
      " [2. 2. 2. 2.]\n",
      " [2. 2. 2. 2.]]\n"
     ]
    }
   ],
   "source": [
    "h=np.ones((4,4))*2\n",
    "print (h)"
   ]
  },
  {
   "cell_type": "code",
   "execution_count": 35,
   "id": "7b9ca127",
   "metadata": {},
   "outputs": [
    {
     "name": "stdout",
     "output_type": "stream",
     "text": [
      "[[7. 0. 0. 0.]\n",
      " [0. 7. 0. 0.]\n",
      " [0. 0. 7. 0.]\n",
      " [0. 0. 0. 7.]]\n"
     ]
    }
   ],
   "source": [
    "i=np.identity(4)*7\n",
    "print(i)"
   ]
  },
  {
   "cell_type": "code",
   "execution_count": 36,
   "id": "226ccac3",
   "metadata": {},
   "outputs": [
    {
     "name": "stdout",
     "output_type": "stream",
     "text": [
      "[[9. 2. 2. 2.]\n",
      " [2. 9. 2. 2.]\n",
      " [2. 2. 9. 2.]\n",
      " [2. 2. 2. 9.]]\n"
     ]
    }
   ],
   "source": [
    "j=h+i\n",
    "print(j)"
   ]
  },
  {
   "cell_type": "code",
   "execution_count": 37,
   "id": "00a07629",
   "metadata": {},
   "outputs": [
    {
     "name": "stdout",
     "output_type": "stream",
     "text": [
      "[[9. 0. 0. 0. 0. 0. 0. 0. 0. 0.]\n",
      " [0. 9. 1. 1. 1. 1. 1. 1. 1. 0.]\n",
      " [0. 1. 9. 0. 0. 0. 0. 0. 1. 0.]\n",
      " [0. 1. 0. 9. 2. 2. 2. 0. 1. 0.]\n",
      " [0. 1. 0. 2. 9. 2. 2. 0. 1. 0.]\n",
      " [0. 1. 0. 2. 2. 9. 2. 0. 1. 0.]\n",
      " [0. 1. 0. 2. 2. 2. 9. 0. 1. 0.]\n",
      " [0. 1. 0. 0. 0. 0. 0. 9. 1. 0.]\n",
      " [0. 1. 1. 1. 1. 1. 1. 1. 9. 0.]\n",
      " [0. 0. 0. 0. 0. 0. 0. 0. 0. 9.]]\n"
     ]
    }
   ],
   "source": [
    "c[3:-3,3:-3]=j\n",
    "print(c)"
   ]
  },
  {
   "cell_type": "code",
   "execution_count": 38,
   "id": "e4983c61",
   "metadata": {},
   "outputs": [
    {
     "name": "stdout",
     "output_type": "stream",
     "text": [
      "[[9. 0.]\n",
      " [0. 9.]]\n"
     ]
    }
   ],
   "source": [
    "k=np.identity(2)*9\n",
    "print (k)"
   ]
  },
  {
   "cell_type": "code",
   "execution_count": 39,
   "id": "01d01a4f",
   "metadata": {},
   "outputs": [
    {
     "name": "stdout",
     "output_type": "stream",
     "text": [
      "[[9. 0. 0. 0. 0. 0. 0. 0. 0. 0.]\n",
      " [0. 9. 1. 1. 1. 1. 1. 1. 1. 0.]\n",
      " [0. 1. 9. 0. 0. 0. 0. 0. 1. 0.]\n",
      " [0. 1. 0. 9. 2. 2. 2. 0. 1. 0.]\n",
      " [0. 1. 0. 2. 9. 0. 2. 0. 1. 0.]\n",
      " [0. 1. 0. 2. 0. 9. 2. 0. 1. 0.]\n",
      " [0. 1. 0. 2. 2. 2. 9. 0. 1. 0.]\n",
      " [0. 1. 0. 0. 0. 0. 0. 9. 1. 0.]\n",
      " [0. 1. 1. 1. 1. 1. 1. 1. 9. 0.]\n",
      " [0. 0. 0. 0. 0. 0. 0. 0. 0. 9.]]\n"
     ]
    }
   ],
   "source": [
    "c[4:-4,4:-4]=k\n",
    "print (c)"
   ]
  },
  {
   "cell_type": "markdown",
   "id": "987ee648",
   "metadata": {},
   "source": [
    "### 5.20.4 Copy pada Numpy"
   ]
  },
  {
   "cell_type": "code",
   "execution_count": 40,
   "id": "cd7fd78c",
   "metadata": {},
   "outputs": [
    {
     "name": "stdout",
     "output_type": "stream",
     "text": [
      "[ 2  3  5  7 11]\n"
     ]
    }
   ],
   "source": [
    "a=np.array([2,3,5,7,11])\n",
    "print (a)"
   ]
  },
  {
   "cell_type": "code",
   "execution_count": 41,
   "id": "a3a4d2dd",
   "metadata": {},
   "outputs": [
    {
     "name": "stdout",
     "output_type": "stream",
     "text": [
      "[ 2  3  5  7 11]\n"
     ]
    }
   ],
   "source": [
    "b=a\n",
    "print(b)"
   ]
  },
  {
   "cell_type": "code",
   "execution_count": 42,
   "id": "c5ab2a80",
   "metadata": {},
   "outputs": [
    {
     "name": "stdout",
     "output_type": "stream",
     "text": [
      "[ 2  3  5  8 11]\n"
     ]
    }
   ],
   "source": [
    "b[3]=8\n",
    "print(b)"
   ]
  },
  {
   "cell_type": "code",
   "execution_count": 43,
   "id": "644d5557",
   "metadata": {},
   "outputs": [
    {
     "name": "stdout",
     "output_type": "stream",
     "text": [
      "[ 2  3  5  8 11]\n"
     ]
    }
   ],
   "source": [
    "print (a)"
   ]
  },
  {
   "cell_type": "code",
   "execution_count": 44,
   "id": "0a04bc57",
   "metadata": {},
   "outputs": [
    {
     "name": "stdout",
     "output_type": "stream",
     "text": [
      "[ 2  3  5  7 11]\n"
     ]
    }
   ],
   "source": [
    "c=np.array([2,3,5,7,11])\n",
    "print(c)"
   ]
  },
  {
   "cell_type": "code",
   "execution_count": 45,
   "id": "4e267fd4",
   "metadata": {},
   "outputs": [
    {
     "name": "stdout",
     "output_type": "stream",
     "text": [
      "[ 2  3  5  7 11]\n"
     ]
    }
   ],
   "source": [
    "d=c.copy()\n",
    "print(d)"
   ]
  },
  {
   "cell_type": "code",
   "execution_count": 46,
   "id": "2c5c4cef",
   "metadata": {},
   "outputs": [
    {
     "name": "stdout",
     "output_type": "stream",
     "text": [
      "[ 2  8  5  7 11]\n"
     ]
    }
   ],
   "source": [
    "d[1]=8\n",
    "print(d)"
   ]
  },
  {
   "cell_type": "code",
   "execution_count": 47,
   "id": "cbf14158",
   "metadata": {},
   "outputs": [
    {
     "name": "stdout",
     "output_type": "stream",
     "text": [
      "[ 2  3  5  7 11]\n"
     ]
    }
   ],
   "source": [
    "print(c)"
   ]
  },
  {
   "cell_type": "markdown",
   "id": "05e0aac5",
   "metadata": {},
   "source": [
    "### 5.20.5 Operasi Matematika pada Numpy"
   ]
  },
  {
   "cell_type": "code",
   "execution_count": 48,
   "id": "5b546929",
   "metadata": {},
   "outputs": [
    {
     "data": {
      "text/plain": [
       "array([ 5,  6,  8, 11, 14])"
      ]
     },
     "execution_count": 48,
     "metadata": {},
     "output_type": "execute_result"
    }
   ],
   "source": [
    "a+3"
   ]
  },
  {
   "cell_type": "code",
   "execution_count": 49,
   "id": "eb617d2a",
   "metadata": {},
   "outputs": [
    {
     "data": {
      "text/plain": [
       "array([-1,  0,  2,  5,  8])"
      ]
     },
     "execution_count": 49,
     "metadata": {},
     "output_type": "execute_result"
    }
   ],
   "source": [
    "a-3"
   ]
  },
  {
   "cell_type": "code",
   "execution_count": 50,
   "id": "aded0d17",
   "metadata": {},
   "outputs": [
    {
     "data": {
      "text/plain": [
       "array([ 6,  9, 15, 24, 33])"
      ]
     },
     "execution_count": 50,
     "metadata": {},
     "output_type": "execute_result"
    }
   ],
   "source": [
    "a*3"
   ]
  },
  {
   "cell_type": "code",
   "execution_count": 51,
   "id": "69e4c34f",
   "metadata": {},
   "outputs": [
    {
     "data": {
      "text/plain": [
       "array([0.66666667, 1.        , 1.66666667, 2.66666667, 3.66666667])"
      ]
     },
     "execution_count": 51,
     "metadata": {},
     "output_type": "execute_result"
    }
   ],
   "source": [
    "a/3"
   ]
  },
  {
   "cell_type": "code",
   "execution_count": 52,
   "id": "a8044a0d",
   "metadata": {},
   "outputs": [
    {
     "data": {
      "text/plain": [
       "array([   8,   27,  125,  512, 1331], dtype=int32)"
      ]
     },
     "execution_count": 52,
     "metadata": {},
     "output_type": "execute_result"
    }
   ],
   "source": [
    "a**3"
   ]
  },
  {
   "cell_type": "code",
   "execution_count": 53,
   "id": "8c8f57fa",
   "metadata": {},
   "outputs": [
    {
     "name": "stdout",
     "output_type": "stream",
     "text": [
      "[1 2 3 4 5]\n"
     ]
    }
   ],
   "source": [
    "b=np.array([1,2,3,4,5])\n",
    "print(b)"
   ]
  },
  {
   "cell_type": "code",
   "execution_count": 54,
   "id": "6c6d4186",
   "metadata": {},
   "outputs": [
    {
     "data": {
      "text/plain": [
       "array([ 3,  5,  8, 12, 16])"
      ]
     },
     "execution_count": 54,
     "metadata": {},
     "output_type": "execute_result"
    }
   ],
   "source": [
    "a+b"
   ]
  },
  {
   "cell_type": "code",
   "execution_count": 55,
   "id": "2add5abf",
   "metadata": {},
   "outputs": [
    {
     "data": {
      "text/plain": [
       "array([1, 1, 2, 4, 6])"
      ]
     },
     "execution_count": 55,
     "metadata": {},
     "output_type": "execute_result"
    }
   ],
   "source": [
    "a-b"
   ]
  },
  {
   "cell_type": "code",
   "execution_count": 56,
   "id": "2e2e6d14",
   "metadata": {},
   "outputs": [
    {
     "data": {
      "text/plain": [
       "array([ 2,  6, 15, 32, 55])"
      ]
     },
     "execution_count": 56,
     "metadata": {},
     "output_type": "execute_result"
    }
   ],
   "source": [
    "a*b"
   ]
  },
  {
   "cell_type": "code",
   "execution_count": 57,
   "id": "0c7ebb2a",
   "metadata": {},
   "outputs": [
    {
     "data": {
      "text/plain": [
       "array([2.        , 1.5       , 1.66666667, 2.        , 2.2       ])"
      ]
     },
     "execution_count": 57,
     "metadata": {},
     "output_type": "execute_result"
    }
   ],
   "source": [
    "a/b"
   ]
  },
  {
   "cell_type": "code",
   "execution_count": 58,
   "id": "6e9a7fbf",
   "metadata": {},
   "outputs": [
    {
     "data": {
      "text/plain": [
       "array([       1,        8,      243,    65536, 48828125], dtype=int32)"
      ]
     },
     "execution_count": 58,
     "metadata": {},
     "output_type": "execute_result"
    }
   ],
   "source": [
    "b**a"
   ]
  },
  {
   "cell_type": "code",
   "execution_count": 59,
   "id": "e53476d2",
   "metadata": {},
   "outputs": [
    {
     "data": {
      "text/plain": [
       "array([-0.41614684, -0.9899925 ,  0.28366219, -0.14550003,  0.0044257 ])"
      ]
     },
     "execution_count": 59,
     "metadata": {},
     "output_type": "execute_result"
    }
   ],
   "source": [
    "np.cos(a)"
   ]
  },
  {
   "cell_type": "code",
   "execution_count": 60,
   "id": "06b6f929",
   "metadata": {},
   "outputs": [
    {
     "data": {
      "text/plain": [
       "array([ 0.90929743,  0.14112001, -0.95892427,  0.98935825, -0.99999021])"
      ]
     },
     "execution_count": 60,
     "metadata": {},
     "output_type": "execute_result"
    }
   ],
   "source": [
    "np.sin(a)"
   ]
  },
  {
   "cell_type": "code",
   "execution_count": 61,
   "id": "3104b2d6",
   "metadata": {},
   "outputs": [
    {
     "data": {
      "text/plain": [
       "array([-2.18503986e+00, -1.42546543e-01, -3.38051501e+00, -6.79971146e+00,\n",
       "       -2.25950846e+02])"
      ]
     },
     "execution_count": 61,
     "metadata": {},
     "output_type": "execute_result"
    }
   ],
   "source": [
    "np.tan(a)"
   ]
  },
  {
   "cell_type": "code",
   "execution_count": 62,
   "id": "887bab27",
   "metadata": {},
   "outputs": [
    {
     "data": {
      "text/plain": [
       "array([3.62686041e+00, 1.00178749e+01, 7.42032106e+01, 1.49047883e+03,\n",
       "       2.99370708e+04])"
      ]
     },
     "execution_count": 62,
     "metadata": {},
     "output_type": "execute_result"
    }
   ],
   "source": [
    "np.sinh(a)"
   ]
  },
  {
   "cell_type": "code",
   "execution_count": 63,
   "id": "e45ec128",
   "metadata": {},
   "outputs": [
    {
     "data": {
      "text/plain": [
       "array([3.76219569e+00, 1.00676620e+01, 7.42099485e+01, 1.49047916e+03,\n",
       "       2.99370709e+04])"
      ]
     },
     "execution_count": 63,
     "metadata": {},
     "output_type": "execute_result"
    }
   ],
   "source": [
    "np.cosh(a)"
   ]
  },
  {
   "cell_type": "code",
   "execution_count": 64,
   "id": "a30b5a3e",
   "metadata": {},
   "outputs": [
    {
     "data": {
      "text/plain": [
       "array([0.96402758, 0.99505475, 0.9999092 , 0.99999977, 1.        ])"
      ]
     },
     "execution_count": 64,
     "metadata": {},
     "output_type": "execute_result"
    }
   ],
   "source": [
    "np.tanh(a)"
   ]
  },
  {
   "cell_type": "code",
   "execution_count": 65,
   "id": "da520ed0",
   "metadata": {},
   "outputs": [
    {
     "data": {
      "text/plain": [
       "array([1.41421356, 1.73205081, 2.23606798, 2.82842712, 3.31662479])"
      ]
     },
     "execution_count": 65,
     "metadata": {},
     "output_type": "execute_result"
    }
   ],
   "source": [
    "np.sqrt(a)"
   ]
  },
  {
   "cell_type": "markdown",
   "id": "895c1845",
   "metadata": {},
   "source": [
    "### 5.20.6 Perkalian Matriks pada Numpy"
   ]
  },
  {
   "cell_type": "code",
   "execution_count": 66,
   "id": "f4255b36",
   "metadata": {},
   "outputs": [
    {
     "name": "stdout",
     "output_type": "stream",
     "text": [
      "[[1 2 3 4]\n",
      " [1 3 5 7]]\n"
     ]
    }
   ],
   "source": [
    "a=np.array([[1,2,3,4],[1,3,5,7]])\n",
    "print(a)"
   ]
  },
  {
   "cell_type": "code",
   "execution_count": 67,
   "id": "7500fd11",
   "metadata": {},
   "outputs": [
    {
     "name": "stdout",
     "output_type": "stream",
     "text": [
      "[[ 2  4  6  8]\n",
      " [ 5 10 15 20]]\n"
     ]
    }
   ],
   "source": [
    "b=np.array([[2,4,6,8],[5,10,15,20]])\n",
    "print(b)"
   ]
  },
  {
   "cell_type": "code",
   "execution_count": 68,
   "id": "b7f9cd4d",
   "metadata": {},
   "outputs": [
    {
     "name": "stdout",
     "output_type": "stream",
     "text": [
      "[[  2   8  18  32]\n",
      " [  5  30  75 140]]\n"
     ]
    }
   ],
   "source": [
    "c=a*b\n",
    "print(c)"
   ]
  },
  {
   "cell_type": "code",
   "execution_count": 69,
   "id": "adbc71ee",
   "metadata": {},
   "outputs": [
    {
     "ename": "ValueError",
     "evalue": "matmul: Input operand 1 has a mismatch in its core dimension 0, with gufunc signature (n?,k),(k,m?)->(n?,m?) (size 2 is different from 4)",
     "output_type": "error",
     "traceback": [
      "\u001b[1;31m---------------------------------------------------------------------------\u001b[0m",
      "\u001b[1;31mValueError\u001b[0m                                Traceback (most recent call last)",
      "\u001b[1;32m~\\AppData\\Local\\Temp/ipykernel_8436/3641246953.py\u001b[0m in \u001b[0;36m<module>\u001b[1;34m\u001b[0m\n\u001b[1;32m----> 1\u001b[1;33m \u001b[0md\u001b[0m\u001b[1;33m=\u001b[0m\u001b[0mnp\u001b[0m\u001b[1;33m.\u001b[0m\u001b[0mmatmul\u001b[0m\u001b[1;33m(\u001b[0m\u001b[0ma\u001b[0m\u001b[1;33m,\u001b[0m\u001b[0mb\u001b[0m\u001b[1;33m)\u001b[0m\u001b[1;33m\u001b[0m\u001b[1;33m\u001b[0m\u001b[0m\n\u001b[0m\u001b[0;32m      2\u001b[0m \u001b[0mprint\u001b[0m \u001b[1;33m(\u001b[0m\u001b[0md\u001b[0m\u001b[1;33m)\u001b[0m\u001b[1;33m\u001b[0m\u001b[1;33m\u001b[0m\u001b[0m\n",
      "\u001b[1;31mValueError\u001b[0m: matmul: Input operand 1 has a mismatch in its core dimension 0, with gufunc signature (n?,k),(k,m?)->(n?,m?) (size 2 is different from 4)"
     ]
    }
   ],
   "source": [
    "d=np.matmul(a,b)\n",
    "print (d)"
   ]
  },
  {
   "cell_type": "code",
   "execution_count": 70,
   "id": "a86b315a",
   "metadata": {},
   "outputs": [
    {
     "name": "stdout",
     "output_type": "stream",
     "text": [
      "[[ 9 11]\n",
      " [13 15]\n",
      " [17 19]\n",
      " [21 23]]\n"
     ]
    }
   ],
   "source": [
    "e=np.array([[9,11],[13,15],[17,19],[21,23]])\n",
    "print(e)"
   ]
  },
  {
   "cell_type": "code",
   "execution_count": 71,
   "id": "8d5eace0",
   "metadata": {},
   "outputs": [
    {
     "name": "stdout",
     "output_type": "stream",
     "text": [
      "[[ 9 11]\n",
      " [13 15]\n",
      " [17 19]\n",
      " [21 23]]\n"
     ]
    }
   ],
   "source": [
    "#matmul, ordo matriksnya harus axb bxa \n",
    "f=np.matmul(a,e)\n",
    "print(e)"
   ]
  },
  {
   "cell_type": "code",
   "execution_count": 72,
   "id": "d96a0847",
   "metadata": {},
   "outputs": [
    {
     "ename": "ValueError",
     "evalue": "operands could not be broadcast together with shapes (2,4) (4,2) ",
     "output_type": "error",
     "traceback": [
      "\u001b[1;31m---------------------------------------------------------------------------\u001b[0m",
      "\u001b[1;31mValueError\u001b[0m                                Traceback (most recent call last)",
      "\u001b[1;32m~\\AppData\\Local\\Temp/ipykernel_8436/1254465307.py\u001b[0m in \u001b[0;36m<module>\u001b[1;34m\u001b[0m\n\u001b[1;32m----> 1\u001b[1;33m \u001b[0mg\u001b[0m\u001b[1;33m=\u001b[0m\u001b[0ma\u001b[0m\u001b[1;33m*\u001b[0m\u001b[0me\u001b[0m\u001b[1;33m\u001b[0m\u001b[1;33m\u001b[0m\u001b[0m\n\u001b[0m",
      "\u001b[1;31mValueError\u001b[0m: operands could not be broadcast together with shapes (2,4) (4,2) "
     ]
    }
   ],
   "source": [
    "g=a*e"
   ]
  },
  {
   "cell_type": "markdown",
   "id": "40a8a6fa",
   "metadata": {},
   "source": [
    "### 5.20.7 Min, Max, dan Sum pada Numpy"
   ]
  },
  {
   "cell_type": "code",
   "execution_count": 73,
   "id": "44b56e34",
   "metadata": {},
   "outputs": [
    {
     "name": "stdout",
     "output_type": "stream",
     "text": [
      "[[0 2 4 5]\n",
      " [1 2 3 4]\n",
      " [3 6 7 9]]\n"
     ]
    }
   ],
   "source": [
    "a=np.array([[0,2,4,5],[1,2,3,4],[3,6,7,9]])\n",
    "print (a)"
   ]
  },
  {
   "cell_type": "code",
   "execution_count": 74,
   "id": "c867b205",
   "metadata": {},
   "outputs": [
    {
     "name": "stdout",
     "output_type": "stream",
     "text": [
      "0\n"
     ]
    }
   ],
   "source": [
    "b=np.min(a)\n",
    "print (b)"
   ]
  },
  {
   "cell_type": "code",
   "execution_count": 75,
   "id": "f75547fe",
   "metadata": {},
   "outputs": [
    {
     "name": "stdout",
     "output_type": "stream",
     "text": [
      "[0 2 3 4]\n"
     ]
    }
   ],
   "source": [
    "#axis=0, kolom\n",
    "c=np.min(a,axis=0)\n",
    "print(c)"
   ]
  },
  {
   "cell_type": "code",
   "execution_count": 76,
   "id": "c2203309",
   "metadata": {},
   "outputs": [
    {
     "name": "stdout",
     "output_type": "stream",
     "text": [
      "[0 1 3]\n"
     ]
    }
   ],
   "source": [
    "#axis=1, baris\n",
    "d=np.min(a,axis=1)\n",
    "print(d)"
   ]
  },
  {
   "cell_type": "code",
   "execution_count": 77,
   "id": "ea3307fe",
   "metadata": {},
   "outputs": [
    {
     "name": "stdout",
     "output_type": "stream",
     "text": [
      "9\n"
     ]
    }
   ],
   "source": [
    "e=np.max(a)\n",
    "print(e)"
   ]
  },
  {
   "cell_type": "code",
   "execution_count": 78,
   "id": "20dc9286",
   "metadata": {},
   "outputs": [
    {
     "name": "stdout",
     "output_type": "stream",
     "text": [
      "[3 6 7 9]\n"
     ]
    }
   ],
   "source": [
    "f=np.max(a,axis=0)\n",
    "print(f)"
   ]
  },
  {
   "cell_type": "code",
   "execution_count": 79,
   "id": "e9d3bd48",
   "metadata": {},
   "outputs": [
    {
     "name": "stdout",
     "output_type": "stream",
     "text": [
      "[5 4 9]\n"
     ]
    }
   ],
   "source": [
    "g=np.max(a,axis=1)\n",
    "print(g)"
   ]
  },
  {
   "cell_type": "code",
   "execution_count": 80,
   "id": "2b20d986",
   "metadata": {},
   "outputs": [
    {
     "name": "stdout",
     "output_type": "stream",
     "text": [
      "46\n"
     ]
    }
   ],
   "source": [
    "h=np.sum(a)\n",
    "print(h)"
   ]
  },
  {
   "cell_type": "code",
   "execution_count": 81,
   "id": "49bff2e8",
   "metadata": {},
   "outputs": [
    {
     "name": "stdout",
     "output_type": "stream",
     "text": [
      "[ 4 10 14 18]\n"
     ]
    }
   ],
   "source": [
    "i=np.sum(a,axis=0)\n",
    "print (i)"
   ]
  },
  {
   "cell_type": "code",
   "execution_count": 82,
   "id": "89f8b090",
   "metadata": {},
   "outputs": [
    {
     "name": "stdout",
     "output_type": "stream",
     "text": [
      "[11 10 25]\n"
     ]
    }
   ],
   "source": [
    "j=np.sum(a,axis=1)\n",
    "print(j)"
   ]
  },
  {
   "cell_type": "markdown",
   "id": "e14f044a",
   "metadata": {},
   "source": [
    "# 5.21 Pandas"
   ]
  },
  {
   "cell_type": "markdown",
   "id": "bffee260",
   "metadata": {},
   "source": [
    "untuk data analisis"
   ]
  },
  {
   "cell_type": "code",
   "execution_count": 83,
   "id": "6cc9a4cb",
   "metadata": {},
   "outputs": [],
   "source": [
    "import pandas as pd"
   ]
  },
  {
   "cell_type": "markdown",
   "id": "526996f3",
   "metadata": {},
   "source": [
    "### 5.21.1 Membaca File Data pada Pandas"
   ]
  },
  {
   "cell_type": "code",
   "execution_count": 84,
   "id": "10a63db4",
   "metadata": {},
   "outputs": [
    {
     "name": "stdout",
     "output_type": "stream",
     "text": [
      "    No.              Nama Tanggal Lahir Jenis Kelamin Pekerjaan   Gaji  \\\n",
      "0     1        Putu Diana    1995-01-14     Perempuan    dokter   5000   \n",
      "1     2         Made Andi    1994-02-15     Laki-laki   perawat   4000   \n",
      "2     3      Komang Lukis    1993-03-16     Laki-laki     bidan   4000   \n",
      "3     4    Ketut Koncreng    1992-04-17     Perempuan     buruh   3000   \n",
      "4     5       Wayan Bagus    1991-05-18     Laki-laki    dagang  10000   \n",
      "5     6       Kadek Bocok    1990-03-19     Laki-laki     supir   6000   \n",
      "6     7      Nyoman Jegeg    1989-06-20     Perempuan     artis   3000   \n",
      "7     8        Ketut Lama    1988-07-21     Laki-laki     supir   4000   \n",
      "8     9           Luh Ani    1987-08-22     Perempuan    dagang   5000   \n",
      "9    10       Made Sengap    1986-09-23     Laki-laki     supir   3500   \n",
      "10   11        Made Santi    1995-01-01     Perempuan    dokter   6000   \n",
      "11   12    Luh Madeinbali    1994-01-02          None   perawat   7000   \n",
      "12   13  Ketut Kusumadewi    1990-01-03     Perempuan     bidan   8000   \n",
      "13   14       Komang Dewi    1993-02-05          None    dokter  10000   \n",
      "14   15    Kadek Dewiyani    1991-06-15     Perempuan     buruh  11000   \n",
      "15   16     Luh Santidewi    1991-07-15          None     artis   7000   \n",
      "16   17       Putu Medewi    1992-06-16     Perempuan     buruh   3500   \n",
      "17   18     Nyoman Madewi    1994-07-13     Perempuan    dagang   1500   \n",
      "18   19       Kadek Pekak    1992-05-14     Laki-laki     buruh   2500   \n",
      "19   20       Made Sengap    1991-06-15     Laki-laki     supir   4500   \n",
      "\n",
      "    Tabungan Menikah  Jumlah Anak  \n",
      "0     100000   tidak            0  \n",
      "1     150000      ya            4  \n",
      "2     200000      ya            3  \n",
      "3        500      ya            2  \n",
      "4     500000   tidak            0  \n",
      "5       1000   tidak            0  \n",
      "6      50000   tidak            0  \n",
      "7       2000      ya            1  \n",
      "8      50000      ya            2  \n",
      "9     700000      ya            2  \n",
      "10     20000   tidak            0  \n",
      "11       500      ya            4  \n",
      "12     10000   tidak            0  \n",
      "13     25000      ya            2  \n",
      "14     35000   tidak            0  \n",
      "15      7000      ya            3  \n",
      "16      5000   tidak            0  \n",
      "17     75000      ya            6  \n",
      "18      9000   tidak            0  \n",
      "19     15000      ya            5  \n"
     ]
    }
   ],
   "source": [
    "data_csv=pd.read_csv('data_palsu.csv')\n",
    "print(data_csv)"
   ]
  },
  {
   "cell_type": "code",
   "execution_count": 85,
   "id": "9ac2cac9",
   "metadata": {},
   "outputs": [
    {
     "name": "stdout",
     "output_type": "stream",
     "text": [
      "    No.              Nama Tanggal Lahir Jenis Kelamin Pekerjaan   Gaji  \\\n",
      "0     1        Putu Diana    1995-01-14     Perempuan    dokter   5000   \n",
      "1     2         Made Andi    1994-02-15     Laki-laki   perawat   4000   \n",
      "2     3      Komang Lukis    1993-03-16     Laki-laki     bidan   4000   \n",
      "3     4    Ketut Koncreng    1992-04-17     Perempuan     buruh   3000   \n",
      "4     5       Wayan Bagus    1991-05-18     Laki-laki    dagang  10000   \n",
      "5     6       Kadek Bocok    1990-03-19     Laki-laki     supir   6000   \n",
      "6     7      Nyoman Jegeg    1989-06-20     Perempuan     artis   3000   \n",
      "7     8        Ketut Lama    1988-07-21     Laki-laki     supir   4000   \n",
      "8     9           Luh Ani    1987-08-22     Perempuan    dagang   5000   \n",
      "9    10       Made Sengap    1986-09-23     Laki-laki     supir   3500   \n",
      "10   11        Made Santi    1995-01-01     Perempuan    dokter   6000   \n",
      "11   12    Luh Madeinbali    1994-01-02          None   perawat   7000   \n",
      "12   13  Ketut Kusumadewi    1990-01-03     Perempuan     bidan   8000   \n",
      "13   14       Komang Dewi    1993-02-05          None    dokter  10000   \n",
      "14   15    Kadek Dewiyani    1991-06-15     Perempuan     buruh  11000   \n",
      "15   16     Luh Santidewi    1991-07-15          None     artis   7000   \n",
      "16   17       Putu Medewi    1992-06-16     Perempuan     buruh   3500   \n",
      "17   18     Nyoman Madewi    1994-07-13     Perempuan    dagang   1500   \n",
      "18   19       Kadek Pekak    1992-05-14     Laki-laki     buruh   2500   \n",
      "19   20       Made Sengap    1991-06-15     Laki-laki     supir   4500   \n",
      "\n",
      "    Tabungan Menikah  Jumlah Anak  \n",
      "0     100000   tidak            0  \n",
      "1     150000      ya            4  \n",
      "2     200000      ya            3  \n",
      "3        500      ya            2  \n",
      "4     500000   tidak            0  \n",
      "5       1000   tidak            0  \n",
      "6      50000   tidak            0  \n",
      "7       2000      ya            1  \n",
      "8      50000      ya            2  \n",
      "9     700000      ya            2  \n",
      "10     20000   tidak            0  \n",
      "11       500      ya            4  \n",
      "12     10000   tidak            0  \n",
      "13     25000      ya            2  \n",
      "14     35000   tidak            0  \n",
      "15      7000      ya            3  \n",
      "16      5000   tidak            0  \n",
      "17     75000      ya            6  \n",
      "18      9000   tidak            0  \n",
      "19     15000      ya            5  \n"
     ]
    }
   ],
   "source": [
    "data_xlsx=pd.read_excel('data_palsu.xlsx')\n",
    "print (data_xlsx)"
   ]
  },
  {
   "cell_type": "code",
   "execution_count": 86,
   "id": "05087c4b",
   "metadata": {},
   "outputs": [
    {
     "name": "stdout",
     "output_type": "stream",
     "text": [
      "    No.              Nama Tanggal Lahir Jenis Kelamin Pekerjaan   Gaji  \\\n",
      "0     1        Putu Diana    1995-01-14     Perempuan    dokter   5000   \n",
      "1     2         Made Andi    1994-02-15     Laki-laki   perawat   4000   \n",
      "2     3      Komang Lukis    1993-03-16     Laki-laki     bidan   4000   \n",
      "3     4    Ketut Koncreng    1992-04-17     Perempuan     buruh   3000   \n",
      "4     5       Wayan Bagus    1991-05-18     Laki-laki    dagang  10000   \n",
      "5     6       Kadek Bocok    1990-03-19     Laki-laki     supir   6000   \n",
      "6     7      Nyoman Jegeg    1989-06-20     Perempuan     artis   3000   \n",
      "7     8        Ketut Lama    1988-07-21     Laki-laki     supir   4000   \n",
      "8     9           Luh Ani    1987-08-22     Perempuan    dagang   5000   \n",
      "9    10       Made Sengap    1986-09-23     Laki-laki     supir   3500   \n",
      "10   11        Made Santi    1995-01-01     Perempuan    dokter   6000   \n",
      "11   12    Luh Madeinbali    1994-01-02          None   perawat   7000   \n",
      "12   13  Ketut Kusumadewi    1990-01-03     Perempuan     bidan   8000   \n",
      "13   14       Komang Dewi    1993-02-05          None    dokter  10000   \n",
      "14   15    Kadek Dewiyani    1991-06-15     Perempuan     buruh  11000   \n",
      "15   16     Luh Santidewi    1991-07-15          None     artis   7000   \n",
      "16   17       Putu Medewi    1992-06-16     Perempuan     buruh   3500   \n",
      "17   18     Nyoman Madewi    1994-07-13     Perempuan    dagang   1500   \n",
      "18   19       Kadek Pekak    1992-05-14     Laki-laki     buruh   2500   \n",
      "19   20       Made Sengap    1991-06-15     Laki-laki     supir   4500   \n",
      "\n",
      "    Tabungan Menikah  Jumlah Anak  \n",
      "0     100000   tidak            0  \n",
      "1     150000      ya            4  \n",
      "2     200000      ya            3  \n",
      "3        500      ya            2  \n",
      "4     500000   tidak            0  \n",
      "5       1000   tidak            0  \n",
      "6      50000   tidak            0  \n",
      "7       2000      ya            1  \n",
      "8      50000      ya            2  \n",
      "9     700000      ya            2  \n",
      "10     20000   tidak            0  \n",
      "11       500      ya            4  \n",
      "12     10000   tidak            0  \n",
      "13     25000      ya            2  \n",
      "14     35000   tidak            0  \n",
      "15      7000      ya            3  \n",
      "16      5000   tidak            0  \n",
      "17     75000      ya            6  \n",
      "18      9000   tidak            0  \n",
      "19     15000      ya            5  \n"
     ]
    }
   ],
   "source": [
    "data_txt=pd.read_csv('data_palsu.txt')\n",
    "print(data_txt)"
   ]
  },
  {
   "cell_type": "markdown",
   "id": "95a6c0f5",
   "metadata": {},
   "source": [
    "### 5.21.2 Properti pada Pandas"
   ]
  },
  {
   "cell_type": "code",
   "execution_count": 87,
   "id": "0201b112",
   "metadata": {},
   "outputs": [
    {
     "name": "stdout",
     "output_type": "stream",
     "text": [
      "    No.              Nama Tanggal Lahir Jenis Kelamin Pekerjaan   Gaji  \\\n",
      "0     1        Putu Diana    1995-01-14     Perempuan    dokter   5000   \n",
      "1     2         Made Andi    1994-02-15     Laki-laki   perawat   4000   \n",
      "2     3      Komang Lukis    1993-03-16     Laki-laki     bidan   4000   \n",
      "3     4    Ketut Koncreng    1992-04-17     Perempuan     buruh   3000   \n",
      "4     5       Wayan Bagus    1991-05-18     Laki-laki    dagang  10000   \n",
      "5     6       Kadek Bocok    1990-03-19     Laki-laki     supir   6000   \n",
      "6     7      Nyoman Jegeg    1989-06-20     Perempuan     artis   3000   \n",
      "7     8        Ketut Lama    1988-07-21     Laki-laki     supir   4000   \n",
      "8     9           Luh Ani    1987-08-22     Perempuan    dagang   5000   \n",
      "9    10       Made Sengap    1986-09-23     Laki-laki     supir   3500   \n",
      "10   11        Made Santi    1995-01-01     Perempuan    dokter   6000   \n",
      "11   12    Luh Madeinbali    1994-01-02          None   perawat   7000   \n",
      "12   13  Ketut Kusumadewi    1990-01-03     Perempuan     bidan   8000   \n",
      "13   14       Komang Dewi    1993-02-05          None    dokter  10000   \n",
      "14   15    Kadek Dewiyani    1991-06-15     Perempuan     buruh  11000   \n",
      "15   16     Luh Santidewi    1991-07-15          None     artis   7000   \n",
      "16   17       Putu Medewi    1992-06-16     Perempuan     buruh   3500   \n",
      "17   18     Nyoman Madewi    1994-07-13     Perempuan    dagang   1500   \n",
      "18   19       Kadek Pekak    1992-05-14     Laki-laki     buruh   2500   \n",
      "19   20       Made Sengap    1991-06-15     Laki-laki     supir   4500   \n",
      "\n",
      "    Tabungan Menikah  Jumlah Anak  \n",
      "0     100000   tidak            0  \n",
      "1     150000      ya            4  \n",
      "2     200000      ya            3  \n",
      "3        500      ya            2  \n",
      "4     500000   tidak            0  \n",
      "5       1000   tidak            0  \n",
      "6      50000   tidak            0  \n",
      "7       2000      ya            1  \n",
      "8      50000      ya            2  \n",
      "9     700000      ya            2  \n",
      "10     20000   tidak            0  \n",
      "11       500      ya            4  \n",
      "12     10000   tidak            0  \n",
      "13     25000      ya            2  \n",
      "14     35000   tidak            0  \n",
      "15      7000      ya            3  \n",
      "16      5000   tidak            0  \n",
      "17     75000      ya            6  \n",
      "18      9000   tidak            0  \n",
      "19     15000      ya            5  \n"
     ]
    }
   ],
   "source": [
    "dt=data_txt=pd.read_csv('data_palsu.txt')\n",
    "print(dt)"
   ]
  },
  {
   "cell_type": "code",
   "execution_count": 88,
   "id": "de02d7d8",
   "metadata": {},
   "outputs": [
    {
     "name": "stdout",
     "output_type": "stream",
     "text": [
      "   No.            Nama Tanggal Lahir Jenis Kelamin Pekerjaan  Gaji  Tabungan  \\\n",
      "0    1      Putu Diana    1995-01-14     Perempuan    dokter  5000    100000   \n",
      "1    2       Made Andi    1994-02-15     Laki-laki   perawat  4000    150000   \n",
      "2    3    Komang Lukis    1993-03-16     Laki-laki     bidan  4000    200000   \n",
      "3    4  Ketut Koncreng    1992-04-17     Perempuan     buruh  3000       500   \n",
      "\n",
      "  Menikah  Jumlah Anak  \n",
      "0   tidak            0  \n",
      "1      ya            4  \n",
      "2      ya            3  \n",
      "3      ya            2  \n"
     ]
    }
   ],
   "source": [
    "print(dt.head(4))"
   ]
  },
  {
   "cell_type": "code",
   "execution_count": 89,
   "id": "ca7b64d9",
   "metadata": {},
   "outputs": [
    {
     "name": "stdout",
     "output_type": "stream",
     "text": [
      "Index(['No.', 'Nama', 'Tanggal Lahir', 'Jenis Kelamin', 'Pekerjaan', 'Gaji',\n",
      "       'Tabungan', 'Menikah', 'Jumlah Anak'],\n",
      "      dtype='object')\n"
     ]
    }
   ],
   "source": [
    "print(dt.columns)"
   ]
  },
  {
   "cell_type": "code",
   "execution_count": 90,
   "id": "1ddbcae2",
   "metadata": {},
   "outputs": [
    {
     "name": "stdout",
     "output_type": "stream",
     "text": [
      "0           Putu Diana\n",
      "1            Made Andi\n",
      "2         Komang Lukis\n",
      "3       Ketut Koncreng\n",
      "4          Wayan Bagus\n",
      "5          Kadek Bocok\n",
      "6         Nyoman Jegeg\n",
      "7           Ketut Lama\n",
      "8              Luh Ani\n",
      "9          Made Sengap\n",
      "10          Made Santi\n",
      "11      Luh Madeinbali\n",
      "12    Ketut Kusumadewi\n",
      "13         Komang Dewi\n",
      "14      Kadek Dewiyani\n",
      "15       Luh Santidewi\n",
      "16         Putu Medewi\n",
      "17       Nyoman Madewi\n",
      "18         Kadek Pekak\n",
      "19         Made Sengap\n",
      "Name: Nama, dtype: object\n"
     ]
    }
   ],
   "source": [
    "print(dt['Nama'])"
   ]
  },
  {
   "cell_type": "code",
   "execution_count": 91,
   "id": "2ce89bc6",
   "metadata": {},
   "outputs": [
    {
     "name": "stdout",
     "output_type": "stream",
     "text": [
      "Putu Diana\n"
     ]
    }
   ],
   "source": [
    "print(dt['Nama'][0])"
   ]
  },
  {
   "cell_type": "code",
   "execution_count": 92,
   "id": "4e07c245",
   "metadata": {},
   "outputs": [
    {
     "name": "stdout",
     "output_type": "stream",
     "text": [
      "1         Made Andi\n",
      "2      Komang Lukis\n",
      "3    Ketut Koncreng\n",
      "4       Wayan Bagus\n",
      "Name: Nama, dtype: object\n"
     ]
    }
   ],
   "source": [
    "print(dt['Nama'][1:5])"
   ]
  },
  {
   "cell_type": "code",
   "execution_count": 93,
   "id": "6b929705",
   "metadata": {},
   "outputs": [
    {
     "name": "stdout",
     "output_type": "stream",
     "text": [
      "             Nama Tanggal Lahir\n",
      "1       Made Andi    1994-02-15\n",
      "2    Komang Lukis    1993-03-16\n",
      "3  Ketut Koncreng    1992-04-17\n",
      "4     Wayan Bagus    1991-05-18\n"
     ]
    }
   ],
   "source": [
    "print(dt[['Nama','Tanggal Lahir']][1:5])"
   ]
  },
  {
   "cell_type": "code",
   "execution_count": 94,
   "id": "1bf84dd4",
   "metadata": {},
   "outputs": [
    {
     "name": "stdout",
     "output_type": "stream",
     "text": [
      "No.                       2\n",
      "Nama              Made Andi\n",
      "Tanggal Lahir    1994-02-15\n",
      "Jenis Kelamin     Laki-laki\n",
      "Pekerjaan           perawat\n",
      "Gaji                   4000\n",
      "Tabungan             150000\n",
      "Menikah                  ya\n",
      "Jumlah Anak               4\n",
      "Name: 1, dtype: object\n"
     ]
    }
   ],
   "source": [
    "print(dt.iloc[1])"
   ]
  },
  {
   "cell_type": "code",
   "execution_count": 95,
   "id": "2cd83cb4",
   "metadata": {},
   "outputs": [
    {
     "name": "stdout",
     "output_type": "stream",
     "text": [
      "   No.            Nama Tanggal Lahir Jenis Kelamin Pekerjaan   Gaji  Tabungan  \\\n",
      "1    2       Made Andi    1994-02-15     Laki-laki   perawat   4000    150000   \n",
      "2    3    Komang Lukis    1993-03-16     Laki-laki     bidan   4000    200000   \n",
      "3    4  Ketut Koncreng    1992-04-17     Perempuan     buruh   3000       500   \n",
      "4    5     Wayan Bagus    1991-05-18     Laki-laki    dagang  10000    500000   \n",
      "\n",
      "  Menikah  Jumlah Anak  \n",
      "1      ya            4  \n",
      "2      ya            3  \n",
      "3      ya            2  \n",
      "4   tidak            0  \n"
     ]
    }
   ],
   "source": [
    "print(dt.iloc[1:5])"
   ]
  },
  {
   "cell_type": "code",
   "execution_count": 96,
   "id": "8bec3aff",
   "metadata": {},
   "outputs": [
    {
     "name": "stdout",
     "output_type": "stream",
     "text": [
      "    No.          Nama Tanggal Lahir Jenis Kelamin Pekerjaan   Gaji  Tabungan  \\\n",
      "1     2     Made Andi    1994-02-15     Laki-laki   perawat   4000    150000   \n",
      "2     3  Komang Lukis    1993-03-16     Laki-laki     bidan   4000    200000   \n",
      "4     5   Wayan Bagus    1991-05-18     Laki-laki    dagang  10000    500000   \n",
      "5     6   Kadek Bocok    1990-03-19     Laki-laki     supir   6000      1000   \n",
      "7     8    Ketut Lama    1988-07-21     Laki-laki     supir   4000      2000   \n",
      "9    10   Made Sengap    1986-09-23     Laki-laki     supir   3500    700000   \n",
      "18   19   Kadek Pekak    1992-05-14     Laki-laki     buruh   2500      9000   \n",
      "19   20   Made Sengap    1991-06-15     Laki-laki     supir   4500     15000   \n",
      "\n",
      "   Menikah  Jumlah Anak  \n",
      "1       ya            4  \n",
      "2       ya            3  \n",
      "4    tidak            0  \n",
      "5    tidak            0  \n",
      "7       ya            1  \n",
      "9       ya            2  \n",
      "18   tidak            0  \n",
      "19      ya            5  \n"
     ]
    }
   ],
   "source": [
    "print(dt.loc[dt['Jenis Kelamin']=='Laki-laki'])"
   ]
  },
  {
   "cell_type": "code",
   "execution_count": 97,
   "id": "2a6e4265",
   "metadata": {},
   "outputs": [
    {
     "name": "stdout",
     "output_type": "stream",
     "text": [
      "    No.              Nama Tanggal Lahir Jenis Kelamin Pekerjaan   Gaji  \\\n",
      "0     1        Putu Diana    1995-01-14     Perempuan    dokter   5000   \n",
      "3     4    Ketut Koncreng    1992-04-17     Perempuan     buruh   3000   \n",
      "6     7      Nyoman Jegeg    1989-06-20     Perempuan     artis   3000   \n",
      "8     9           Luh Ani    1987-08-22     Perempuan    dagang   5000   \n",
      "10   11        Made Santi    1995-01-01     Perempuan    dokter   6000   \n",
      "12   13  Ketut Kusumadewi    1990-01-03     Perempuan     bidan   8000   \n",
      "14   15    Kadek Dewiyani    1991-06-15     Perempuan     buruh  11000   \n",
      "16   17       Putu Medewi    1992-06-16     Perempuan     buruh   3500   \n",
      "17   18     Nyoman Madewi    1994-07-13     Perempuan    dagang   1500   \n",
      "\n",
      "    Tabungan Menikah  Jumlah Anak  \n",
      "0     100000   tidak            0  \n",
      "3        500      ya            2  \n",
      "6      50000   tidak            0  \n",
      "8      50000      ya            2  \n",
      "10     20000   tidak            0  \n",
      "12     10000   tidak            0  \n",
      "14     35000   tidak            0  \n",
      "16      5000   tidak            0  \n",
      "17     75000      ya            6  \n"
     ]
    }
   ],
   "source": [
    "print(dt.loc[dt['Jenis Kelamin']=='Perempuan'])"
   ]
  },
  {
   "cell_type": "markdown",
   "id": "b9e00062",
   "metadata": {},
   "source": [
    "### 5.21.3 Mengurutkan data pada Pandas"
   ]
  },
  {
   "cell_type": "code",
   "execution_count": 98,
   "id": "4f448176",
   "metadata": {},
   "outputs": [
    {
     "data": {
      "text/html": [
       "<div>\n",
       "<style scoped>\n",
       "    .dataframe tbody tr th:only-of-type {\n",
       "        vertical-align: middle;\n",
       "    }\n",
       "\n",
       "    .dataframe tbody tr th {\n",
       "        vertical-align: top;\n",
       "    }\n",
       "\n",
       "    .dataframe thead th {\n",
       "        text-align: right;\n",
       "    }\n",
       "</style>\n",
       "<table border=\"1\" class=\"dataframe\">\n",
       "  <thead>\n",
       "    <tr style=\"text-align: right;\">\n",
       "      <th></th>\n",
       "      <th>No.</th>\n",
       "      <th>Nama</th>\n",
       "      <th>Tanggal Lahir</th>\n",
       "      <th>Jenis Kelamin</th>\n",
       "      <th>Pekerjaan</th>\n",
       "      <th>Gaji</th>\n",
       "      <th>Tabungan</th>\n",
       "      <th>Menikah</th>\n",
       "      <th>Jumlah Anak</th>\n",
       "    </tr>\n",
       "  </thead>\n",
       "  <tbody>\n",
       "    <tr>\n",
       "      <th>5</th>\n",
       "      <td>6</td>\n",
       "      <td>Kadek Bocok</td>\n",
       "      <td>1990-03-19</td>\n",
       "      <td>Laki-laki</td>\n",
       "      <td>supir</td>\n",
       "      <td>6000</td>\n",
       "      <td>1000</td>\n",
       "      <td>tidak</td>\n",
       "      <td>0</td>\n",
       "    </tr>\n",
       "    <tr>\n",
       "      <th>14</th>\n",
       "      <td>15</td>\n",
       "      <td>Kadek Dewiyani</td>\n",
       "      <td>1991-06-15</td>\n",
       "      <td>Perempuan</td>\n",
       "      <td>buruh</td>\n",
       "      <td>11000</td>\n",
       "      <td>35000</td>\n",
       "      <td>tidak</td>\n",
       "      <td>0</td>\n",
       "    </tr>\n",
       "    <tr>\n",
       "      <th>18</th>\n",
       "      <td>19</td>\n",
       "      <td>Kadek Pekak</td>\n",
       "      <td>1992-05-14</td>\n",
       "      <td>Laki-laki</td>\n",
       "      <td>buruh</td>\n",
       "      <td>2500</td>\n",
       "      <td>9000</td>\n",
       "      <td>tidak</td>\n",
       "      <td>0</td>\n",
       "    </tr>\n",
       "    <tr>\n",
       "      <th>3</th>\n",
       "      <td>4</td>\n",
       "      <td>Ketut Koncreng</td>\n",
       "      <td>1992-04-17</td>\n",
       "      <td>Perempuan</td>\n",
       "      <td>buruh</td>\n",
       "      <td>3000</td>\n",
       "      <td>500</td>\n",
       "      <td>ya</td>\n",
       "      <td>2</td>\n",
       "    </tr>\n",
       "    <tr>\n",
       "      <th>12</th>\n",
       "      <td>13</td>\n",
       "      <td>Ketut Kusumadewi</td>\n",
       "      <td>1990-01-03</td>\n",
       "      <td>Perempuan</td>\n",
       "      <td>bidan</td>\n",
       "      <td>8000</td>\n",
       "      <td>10000</td>\n",
       "      <td>tidak</td>\n",
       "      <td>0</td>\n",
       "    </tr>\n",
       "    <tr>\n",
       "      <th>7</th>\n",
       "      <td>8</td>\n",
       "      <td>Ketut Lama</td>\n",
       "      <td>1988-07-21</td>\n",
       "      <td>Laki-laki</td>\n",
       "      <td>supir</td>\n",
       "      <td>4000</td>\n",
       "      <td>2000</td>\n",
       "      <td>ya</td>\n",
       "      <td>1</td>\n",
       "    </tr>\n",
       "    <tr>\n",
       "      <th>13</th>\n",
       "      <td>14</td>\n",
       "      <td>Komang Dewi</td>\n",
       "      <td>1993-02-05</td>\n",
       "      <td>None</td>\n",
       "      <td>dokter</td>\n",
       "      <td>10000</td>\n",
       "      <td>25000</td>\n",
       "      <td>ya</td>\n",
       "      <td>2</td>\n",
       "    </tr>\n",
       "    <tr>\n",
       "      <th>2</th>\n",
       "      <td>3</td>\n",
       "      <td>Komang Lukis</td>\n",
       "      <td>1993-03-16</td>\n",
       "      <td>Laki-laki</td>\n",
       "      <td>bidan</td>\n",
       "      <td>4000</td>\n",
       "      <td>200000</td>\n",
       "      <td>ya</td>\n",
       "      <td>3</td>\n",
       "    </tr>\n",
       "    <tr>\n",
       "      <th>8</th>\n",
       "      <td>9</td>\n",
       "      <td>Luh Ani</td>\n",
       "      <td>1987-08-22</td>\n",
       "      <td>Perempuan</td>\n",
       "      <td>dagang</td>\n",
       "      <td>5000</td>\n",
       "      <td>50000</td>\n",
       "      <td>ya</td>\n",
       "      <td>2</td>\n",
       "    </tr>\n",
       "    <tr>\n",
       "      <th>11</th>\n",
       "      <td>12</td>\n",
       "      <td>Luh Madeinbali</td>\n",
       "      <td>1994-01-02</td>\n",
       "      <td>None</td>\n",
       "      <td>perawat</td>\n",
       "      <td>7000</td>\n",
       "      <td>500</td>\n",
       "      <td>ya</td>\n",
       "      <td>4</td>\n",
       "    </tr>\n",
       "    <tr>\n",
       "      <th>15</th>\n",
       "      <td>16</td>\n",
       "      <td>Luh Santidewi</td>\n",
       "      <td>1991-07-15</td>\n",
       "      <td>None</td>\n",
       "      <td>artis</td>\n",
       "      <td>7000</td>\n",
       "      <td>7000</td>\n",
       "      <td>ya</td>\n",
       "      <td>3</td>\n",
       "    </tr>\n",
       "    <tr>\n",
       "      <th>1</th>\n",
       "      <td>2</td>\n",
       "      <td>Made Andi</td>\n",
       "      <td>1994-02-15</td>\n",
       "      <td>Laki-laki</td>\n",
       "      <td>perawat</td>\n",
       "      <td>4000</td>\n",
       "      <td>150000</td>\n",
       "      <td>ya</td>\n",
       "      <td>4</td>\n",
       "    </tr>\n",
       "    <tr>\n",
       "      <th>10</th>\n",
       "      <td>11</td>\n",
       "      <td>Made Santi</td>\n",
       "      <td>1995-01-01</td>\n",
       "      <td>Perempuan</td>\n",
       "      <td>dokter</td>\n",
       "      <td>6000</td>\n",
       "      <td>20000</td>\n",
       "      <td>tidak</td>\n",
       "      <td>0</td>\n",
       "    </tr>\n",
       "    <tr>\n",
       "      <th>9</th>\n",
       "      <td>10</td>\n",
       "      <td>Made Sengap</td>\n",
       "      <td>1986-09-23</td>\n",
       "      <td>Laki-laki</td>\n",
       "      <td>supir</td>\n",
       "      <td>3500</td>\n",
       "      <td>700000</td>\n",
       "      <td>ya</td>\n",
       "      <td>2</td>\n",
       "    </tr>\n",
       "    <tr>\n",
       "      <th>19</th>\n",
       "      <td>20</td>\n",
       "      <td>Made Sengap</td>\n",
       "      <td>1991-06-15</td>\n",
       "      <td>Laki-laki</td>\n",
       "      <td>supir</td>\n",
       "      <td>4500</td>\n",
       "      <td>15000</td>\n",
       "      <td>ya</td>\n",
       "      <td>5</td>\n",
       "    </tr>\n",
       "    <tr>\n",
       "      <th>6</th>\n",
       "      <td>7</td>\n",
       "      <td>Nyoman Jegeg</td>\n",
       "      <td>1989-06-20</td>\n",
       "      <td>Perempuan</td>\n",
       "      <td>artis</td>\n",
       "      <td>3000</td>\n",
       "      <td>50000</td>\n",
       "      <td>tidak</td>\n",
       "      <td>0</td>\n",
       "    </tr>\n",
       "    <tr>\n",
       "      <th>17</th>\n",
       "      <td>18</td>\n",
       "      <td>Nyoman Madewi</td>\n",
       "      <td>1994-07-13</td>\n",
       "      <td>Perempuan</td>\n",
       "      <td>dagang</td>\n",
       "      <td>1500</td>\n",
       "      <td>75000</td>\n",
       "      <td>ya</td>\n",
       "      <td>6</td>\n",
       "    </tr>\n",
       "    <tr>\n",
       "      <th>0</th>\n",
       "      <td>1</td>\n",
       "      <td>Putu Diana</td>\n",
       "      <td>1995-01-14</td>\n",
       "      <td>Perempuan</td>\n",
       "      <td>dokter</td>\n",
       "      <td>5000</td>\n",
       "      <td>100000</td>\n",
       "      <td>tidak</td>\n",
       "      <td>0</td>\n",
       "    </tr>\n",
       "    <tr>\n",
       "      <th>16</th>\n",
       "      <td>17</td>\n",
       "      <td>Putu Medewi</td>\n",
       "      <td>1992-06-16</td>\n",
       "      <td>Perempuan</td>\n",
       "      <td>buruh</td>\n",
       "      <td>3500</td>\n",
       "      <td>5000</td>\n",
       "      <td>tidak</td>\n",
       "      <td>0</td>\n",
       "    </tr>\n",
       "    <tr>\n",
       "      <th>4</th>\n",
       "      <td>5</td>\n",
       "      <td>Wayan Bagus</td>\n",
       "      <td>1991-05-18</td>\n",
       "      <td>Laki-laki</td>\n",
       "      <td>dagang</td>\n",
       "      <td>10000</td>\n",
       "      <td>500000</td>\n",
       "      <td>tidak</td>\n",
       "      <td>0</td>\n",
       "    </tr>\n",
       "  </tbody>\n",
       "</table>\n",
       "</div>"
      ],
      "text/plain": [
       "    No.              Nama Tanggal Lahir Jenis Kelamin Pekerjaan   Gaji  \\\n",
       "5     6       Kadek Bocok    1990-03-19     Laki-laki     supir   6000   \n",
       "14   15    Kadek Dewiyani    1991-06-15     Perempuan     buruh  11000   \n",
       "18   19       Kadek Pekak    1992-05-14     Laki-laki     buruh   2500   \n",
       "3     4    Ketut Koncreng    1992-04-17     Perempuan     buruh   3000   \n",
       "12   13  Ketut Kusumadewi    1990-01-03     Perempuan     bidan   8000   \n",
       "7     8        Ketut Lama    1988-07-21     Laki-laki     supir   4000   \n",
       "13   14       Komang Dewi    1993-02-05          None    dokter  10000   \n",
       "2     3      Komang Lukis    1993-03-16     Laki-laki     bidan   4000   \n",
       "8     9           Luh Ani    1987-08-22     Perempuan    dagang   5000   \n",
       "11   12    Luh Madeinbali    1994-01-02          None   perawat   7000   \n",
       "15   16     Luh Santidewi    1991-07-15          None     artis   7000   \n",
       "1     2         Made Andi    1994-02-15     Laki-laki   perawat   4000   \n",
       "10   11        Made Santi    1995-01-01     Perempuan    dokter   6000   \n",
       "9    10       Made Sengap    1986-09-23     Laki-laki     supir   3500   \n",
       "19   20       Made Sengap    1991-06-15     Laki-laki     supir   4500   \n",
       "6     7      Nyoman Jegeg    1989-06-20     Perempuan     artis   3000   \n",
       "17   18     Nyoman Madewi    1994-07-13     Perempuan    dagang   1500   \n",
       "0     1        Putu Diana    1995-01-14     Perempuan    dokter   5000   \n",
       "16   17       Putu Medewi    1992-06-16     Perempuan     buruh   3500   \n",
       "4     5       Wayan Bagus    1991-05-18     Laki-laki    dagang  10000   \n",
       "\n",
       "    Tabungan Menikah  Jumlah Anak  \n",
       "5       1000   tidak            0  \n",
       "14     35000   tidak            0  \n",
       "18      9000   tidak            0  \n",
       "3        500      ya            2  \n",
       "12     10000   tidak            0  \n",
       "7       2000      ya            1  \n",
       "13     25000      ya            2  \n",
       "2     200000      ya            3  \n",
       "8      50000      ya            2  \n",
       "11       500      ya            4  \n",
       "15      7000      ya            3  \n",
       "1     150000      ya            4  \n",
       "10     20000   tidak            0  \n",
       "9     700000      ya            2  \n",
       "19     15000      ya            5  \n",
       "6      50000   tidak            0  \n",
       "17     75000      ya            6  \n",
       "0     100000   tidak            0  \n",
       "16      5000   tidak            0  \n",
       "4     500000   tidak            0  "
      ]
     },
     "execution_count": 98,
     "metadata": {},
     "output_type": "execute_result"
    }
   ],
   "source": [
    "dt.sort_values('Nama')"
   ]
  },
  {
   "cell_type": "code",
   "execution_count": 99,
   "id": "c161a8b4",
   "metadata": {},
   "outputs": [
    {
     "data": {
      "text/html": [
       "<div>\n",
       "<style scoped>\n",
       "    .dataframe tbody tr th:only-of-type {\n",
       "        vertical-align: middle;\n",
       "    }\n",
       "\n",
       "    .dataframe tbody tr th {\n",
       "        vertical-align: top;\n",
       "    }\n",
       "\n",
       "    .dataframe thead th {\n",
       "        text-align: right;\n",
       "    }\n",
       "</style>\n",
       "<table border=\"1\" class=\"dataframe\">\n",
       "  <thead>\n",
       "    <tr style=\"text-align: right;\">\n",
       "      <th></th>\n",
       "      <th>No.</th>\n",
       "      <th>Nama</th>\n",
       "      <th>Tanggal Lahir</th>\n",
       "      <th>Jenis Kelamin</th>\n",
       "      <th>Pekerjaan</th>\n",
       "      <th>Gaji</th>\n",
       "      <th>Tabungan</th>\n",
       "      <th>Menikah</th>\n",
       "      <th>Jumlah Anak</th>\n",
       "    </tr>\n",
       "  </thead>\n",
       "  <tbody>\n",
       "    <tr>\n",
       "      <th>4</th>\n",
       "      <td>5</td>\n",
       "      <td>Wayan Bagus</td>\n",
       "      <td>1991-05-18</td>\n",
       "      <td>Laki-laki</td>\n",
       "      <td>dagang</td>\n",
       "      <td>10000</td>\n",
       "      <td>500000</td>\n",
       "      <td>tidak</td>\n",
       "      <td>0</td>\n",
       "    </tr>\n",
       "    <tr>\n",
       "      <th>16</th>\n",
       "      <td>17</td>\n",
       "      <td>Putu Medewi</td>\n",
       "      <td>1992-06-16</td>\n",
       "      <td>Perempuan</td>\n",
       "      <td>buruh</td>\n",
       "      <td>3500</td>\n",
       "      <td>5000</td>\n",
       "      <td>tidak</td>\n",
       "      <td>0</td>\n",
       "    </tr>\n",
       "    <tr>\n",
       "      <th>0</th>\n",
       "      <td>1</td>\n",
       "      <td>Putu Diana</td>\n",
       "      <td>1995-01-14</td>\n",
       "      <td>Perempuan</td>\n",
       "      <td>dokter</td>\n",
       "      <td>5000</td>\n",
       "      <td>100000</td>\n",
       "      <td>tidak</td>\n",
       "      <td>0</td>\n",
       "    </tr>\n",
       "    <tr>\n",
       "      <th>17</th>\n",
       "      <td>18</td>\n",
       "      <td>Nyoman Madewi</td>\n",
       "      <td>1994-07-13</td>\n",
       "      <td>Perempuan</td>\n",
       "      <td>dagang</td>\n",
       "      <td>1500</td>\n",
       "      <td>75000</td>\n",
       "      <td>ya</td>\n",
       "      <td>6</td>\n",
       "    </tr>\n",
       "    <tr>\n",
       "      <th>6</th>\n",
       "      <td>7</td>\n",
       "      <td>Nyoman Jegeg</td>\n",
       "      <td>1989-06-20</td>\n",
       "      <td>Perempuan</td>\n",
       "      <td>artis</td>\n",
       "      <td>3000</td>\n",
       "      <td>50000</td>\n",
       "      <td>tidak</td>\n",
       "      <td>0</td>\n",
       "    </tr>\n",
       "    <tr>\n",
       "      <th>9</th>\n",
       "      <td>10</td>\n",
       "      <td>Made Sengap</td>\n",
       "      <td>1986-09-23</td>\n",
       "      <td>Laki-laki</td>\n",
       "      <td>supir</td>\n",
       "      <td>3500</td>\n",
       "      <td>700000</td>\n",
       "      <td>ya</td>\n",
       "      <td>2</td>\n",
       "    </tr>\n",
       "    <tr>\n",
       "      <th>19</th>\n",
       "      <td>20</td>\n",
       "      <td>Made Sengap</td>\n",
       "      <td>1991-06-15</td>\n",
       "      <td>Laki-laki</td>\n",
       "      <td>supir</td>\n",
       "      <td>4500</td>\n",
       "      <td>15000</td>\n",
       "      <td>ya</td>\n",
       "      <td>5</td>\n",
       "    </tr>\n",
       "    <tr>\n",
       "      <th>10</th>\n",
       "      <td>11</td>\n",
       "      <td>Made Santi</td>\n",
       "      <td>1995-01-01</td>\n",
       "      <td>Perempuan</td>\n",
       "      <td>dokter</td>\n",
       "      <td>6000</td>\n",
       "      <td>20000</td>\n",
       "      <td>tidak</td>\n",
       "      <td>0</td>\n",
       "    </tr>\n",
       "    <tr>\n",
       "      <th>1</th>\n",
       "      <td>2</td>\n",
       "      <td>Made Andi</td>\n",
       "      <td>1994-02-15</td>\n",
       "      <td>Laki-laki</td>\n",
       "      <td>perawat</td>\n",
       "      <td>4000</td>\n",
       "      <td>150000</td>\n",
       "      <td>ya</td>\n",
       "      <td>4</td>\n",
       "    </tr>\n",
       "    <tr>\n",
       "      <th>15</th>\n",
       "      <td>16</td>\n",
       "      <td>Luh Santidewi</td>\n",
       "      <td>1991-07-15</td>\n",
       "      <td>None</td>\n",
       "      <td>artis</td>\n",
       "      <td>7000</td>\n",
       "      <td>7000</td>\n",
       "      <td>ya</td>\n",
       "      <td>3</td>\n",
       "    </tr>\n",
       "    <tr>\n",
       "      <th>11</th>\n",
       "      <td>12</td>\n",
       "      <td>Luh Madeinbali</td>\n",
       "      <td>1994-01-02</td>\n",
       "      <td>None</td>\n",
       "      <td>perawat</td>\n",
       "      <td>7000</td>\n",
       "      <td>500</td>\n",
       "      <td>ya</td>\n",
       "      <td>4</td>\n",
       "    </tr>\n",
       "    <tr>\n",
       "      <th>8</th>\n",
       "      <td>9</td>\n",
       "      <td>Luh Ani</td>\n",
       "      <td>1987-08-22</td>\n",
       "      <td>Perempuan</td>\n",
       "      <td>dagang</td>\n",
       "      <td>5000</td>\n",
       "      <td>50000</td>\n",
       "      <td>ya</td>\n",
       "      <td>2</td>\n",
       "    </tr>\n",
       "    <tr>\n",
       "      <th>2</th>\n",
       "      <td>3</td>\n",
       "      <td>Komang Lukis</td>\n",
       "      <td>1993-03-16</td>\n",
       "      <td>Laki-laki</td>\n",
       "      <td>bidan</td>\n",
       "      <td>4000</td>\n",
       "      <td>200000</td>\n",
       "      <td>ya</td>\n",
       "      <td>3</td>\n",
       "    </tr>\n",
       "    <tr>\n",
       "      <th>13</th>\n",
       "      <td>14</td>\n",
       "      <td>Komang Dewi</td>\n",
       "      <td>1993-02-05</td>\n",
       "      <td>None</td>\n",
       "      <td>dokter</td>\n",
       "      <td>10000</td>\n",
       "      <td>25000</td>\n",
       "      <td>ya</td>\n",
       "      <td>2</td>\n",
       "    </tr>\n",
       "    <tr>\n",
       "      <th>7</th>\n",
       "      <td>8</td>\n",
       "      <td>Ketut Lama</td>\n",
       "      <td>1988-07-21</td>\n",
       "      <td>Laki-laki</td>\n",
       "      <td>supir</td>\n",
       "      <td>4000</td>\n",
       "      <td>2000</td>\n",
       "      <td>ya</td>\n",
       "      <td>1</td>\n",
       "    </tr>\n",
       "    <tr>\n",
       "      <th>12</th>\n",
       "      <td>13</td>\n",
       "      <td>Ketut Kusumadewi</td>\n",
       "      <td>1990-01-03</td>\n",
       "      <td>Perempuan</td>\n",
       "      <td>bidan</td>\n",
       "      <td>8000</td>\n",
       "      <td>10000</td>\n",
       "      <td>tidak</td>\n",
       "      <td>0</td>\n",
       "    </tr>\n",
       "    <tr>\n",
       "      <th>3</th>\n",
       "      <td>4</td>\n",
       "      <td>Ketut Koncreng</td>\n",
       "      <td>1992-04-17</td>\n",
       "      <td>Perempuan</td>\n",
       "      <td>buruh</td>\n",
       "      <td>3000</td>\n",
       "      <td>500</td>\n",
       "      <td>ya</td>\n",
       "      <td>2</td>\n",
       "    </tr>\n",
       "    <tr>\n",
       "      <th>18</th>\n",
       "      <td>19</td>\n",
       "      <td>Kadek Pekak</td>\n",
       "      <td>1992-05-14</td>\n",
       "      <td>Laki-laki</td>\n",
       "      <td>buruh</td>\n",
       "      <td>2500</td>\n",
       "      <td>9000</td>\n",
       "      <td>tidak</td>\n",
       "      <td>0</td>\n",
       "    </tr>\n",
       "    <tr>\n",
       "      <th>14</th>\n",
       "      <td>15</td>\n",
       "      <td>Kadek Dewiyani</td>\n",
       "      <td>1991-06-15</td>\n",
       "      <td>Perempuan</td>\n",
       "      <td>buruh</td>\n",
       "      <td>11000</td>\n",
       "      <td>35000</td>\n",
       "      <td>tidak</td>\n",
       "      <td>0</td>\n",
       "    </tr>\n",
       "    <tr>\n",
       "      <th>5</th>\n",
       "      <td>6</td>\n",
       "      <td>Kadek Bocok</td>\n",
       "      <td>1990-03-19</td>\n",
       "      <td>Laki-laki</td>\n",
       "      <td>supir</td>\n",
       "      <td>6000</td>\n",
       "      <td>1000</td>\n",
       "      <td>tidak</td>\n",
       "      <td>0</td>\n",
       "    </tr>\n",
       "  </tbody>\n",
       "</table>\n",
       "</div>"
      ],
      "text/plain": [
       "    No.              Nama Tanggal Lahir Jenis Kelamin Pekerjaan   Gaji  \\\n",
       "4     5       Wayan Bagus    1991-05-18     Laki-laki    dagang  10000   \n",
       "16   17       Putu Medewi    1992-06-16     Perempuan     buruh   3500   \n",
       "0     1        Putu Diana    1995-01-14     Perempuan    dokter   5000   \n",
       "17   18     Nyoman Madewi    1994-07-13     Perempuan    dagang   1500   \n",
       "6     7      Nyoman Jegeg    1989-06-20     Perempuan     artis   3000   \n",
       "9    10       Made Sengap    1986-09-23     Laki-laki     supir   3500   \n",
       "19   20       Made Sengap    1991-06-15     Laki-laki     supir   4500   \n",
       "10   11        Made Santi    1995-01-01     Perempuan    dokter   6000   \n",
       "1     2         Made Andi    1994-02-15     Laki-laki   perawat   4000   \n",
       "15   16     Luh Santidewi    1991-07-15          None     artis   7000   \n",
       "11   12    Luh Madeinbali    1994-01-02          None   perawat   7000   \n",
       "8     9           Luh Ani    1987-08-22     Perempuan    dagang   5000   \n",
       "2     3      Komang Lukis    1993-03-16     Laki-laki     bidan   4000   \n",
       "13   14       Komang Dewi    1993-02-05          None    dokter  10000   \n",
       "7     8        Ketut Lama    1988-07-21     Laki-laki     supir   4000   \n",
       "12   13  Ketut Kusumadewi    1990-01-03     Perempuan     bidan   8000   \n",
       "3     4    Ketut Koncreng    1992-04-17     Perempuan     buruh   3000   \n",
       "18   19       Kadek Pekak    1992-05-14     Laki-laki     buruh   2500   \n",
       "14   15    Kadek Dewiyani    1991-06-15     Perempuan     buruh  11000   \n",
       "5     6       Kadek Bocok    1990-03-19     Laki-laki     supir   6000   \n",
       "\n",
       "    Tabungan Menikah  Jumlah Anak  \n",
       "4     500000   tidak            0  \n",
       "16      5000   tidak            0  \n",
       "0     100000   tidak            0  \n",
       "17     75000      ya            6  \n",
       "6      50000   tidak            0  \n",
       "9     700000      ya            2  \n",
       "19     15000      ya            5  \n",
       "10     20000   tidak            0  \n",
       "1     150000      ya            4  \n",
       "15      7000      ya            3  \n",
       "11       500      ya            4  \n",
       "8      50000      ya            2  \n",
       "2     200000      ya            3  \n",
       "13     25000      ya            2  \n",
       "7       2000      ya            1  \n",
       "12     10000   tidak            0  \n",
       "3        500      ya            2  \n",
       "18      9000   tidak            0  \n",
       "14     35000   tidak            0  \n",
       "5       1000   tidak            0  "
      ]
     },
     "execution_count": 99,
     "metadata": {},
     "output_type": "execute_result"
    }
   ],
   "source": [
    "dt.sort_values('Nama', ascending=False)"
   ]
  },
  {
   "cell_type": "code",
   "execution_count": 100,
   "id": "7797a13f",
   "metadata": {},
   "outputs": [
    {
     "data": {
      "text/html": [
       "<div>\n",
       "<style scoped>\n",
       "    .dataframe tbody tr th:only-of-type {\n",
       "        vertical-align: middle;\n",
       "    }\n",
       "\n",
       "    .dataframe tbody tr th {\n",
       "        vertical-align: top;\n",
       "    }\n",
       "\n",
       "    .dataframe thead th {\n",
       "        text-align: right;\n",
       "    }\n",
       "</style>\n",
       "<table border=\"1\" class=\"dataframe\">\n",
       "  <thead>\n",
       "    <tr style=\"text-align: right;\">\n",
       "      <th></th>\n",
       "      <th>No.</th>\n",
       "      <th>Nama</th>\n",
       "      <th>Tanggal Lahir</th>\n",
       "      <th>Jenis Kelamin</th>\n",
       "      <th>Pekerjaan</th>\n",
       "      <th>Gaji</th>\n",
       "      <th>Tabungan</th>\n",
       "      <th>Menikah</th>\n",
       "      <th>Jumlah Anak</th>\n",
       "    </tr>\n",
       "  </thead>\n",
       "  <tbody>\n",
       "    <tr>\n",
       "      <th>2</th>\n",
       "      <td>3</td>\n",
       "      <td>Komang Lukis</td>\n",
       "      <td>1993-03-16</td>\n",
       "      <td>Laki-laki</td>\n",
       "      <td>bidan</td>\n",
       "      <td>4000</td>\n",
       "      <td>200000</td>\n",
       "      <td>ya</td>\n",
       "      <td>3</td>\n",
       "    </tr>\n",
       "    <tr>\n",
       "      <th>18</th>\n",
       "      <td>19</td>\n",
       "      <td>Kadek Pekak</td>\n",
       "      <td>1992-05-14</td>\n",
       "      <td>Laki-laki</td>\n",
       "      <td>buruh</td>\n",
       "      <td>2500</td>\n",
       "      <td>9000</td>\n",
       "      <td>tidak</td>\n",
       "      <td>0</td>\n",
       "    </tr>\n",
       "    <tr>\n",
       "      <th>4</th>\n",
       "      <td>5</td>\n",
       "      <td>Wayan Bagus</td>\n",
       "      <td>1991-05-18</td>\n",
       "      <td>Laki-laki</td>\n",
       "      <td>dagang</td>\n",
       "      <td>10000</td>\n",
       "      <td>500000</td>\n",
       "      <td>tidak</td>\n",
       "      <td>0</td>\n",
       "    </tr>\n",
       "    <tr>\n",
       "      <th>1</th>\n",
       "      <td>2</td>\n",
       "      <td>Made Andi</td>\n",
       "      <td>1994-02-15</td>\n",
       "      <td>Laki-laki</td>\n",
       "      <td>perawat</td>\n",
       "      <td>4000</td>\n",
       "      <td>150000</td>\n",
       "      <td>ya</td>\n",
       "      <td>4</td>\n",
       "    </tr>\n",
       "    <tr>\n",
       "      <th>5</th>\n",
       "      <td>6</td>\n",
       "      <td>Kadek Bocok</td>\n",
       "      <td>1990-03-19</td>\n",
       "      <td>Laki-laki</td>\n",
       "      <td>supir</td>\n",
       "      <td>6000</td>\n",
       "      <td>1000</td>\n",
       "      <td>tidak</td>\n",
       "      <td>0</td>\n",
       "    </tr>\n",
       "    <tr>\n",
       "      <th>7</th>\n",
       "      <td>8</td>\n",
       "      <td>Ketut Lama</td>\n",
       "      <td>1988-07-21</td>\n",
       "      <td>Laki-laki</td>\n",
       "      <td>supir</td>\n",
       "      <td>4000</td>\n",
       "      <td>2000</td>\n",
       "      <td>ya</td>\n",
       "      <td>1</td>\n",
       "    </tr>\n",
       "    <tr>\n",
       "      <th>9</th>\n",
       "      <td>10</td>\n",
       "      <td>Made Sengap</td>\n",
       "      <td>1986-09-23</td>\n",
       "      <td>Laki-laki</td>\n",
       "      <td>supir</td>\n",
       "      <td>3500</td>\n",
       "      <td>700000</td>\n",
       "      <td>ya</td>\n",
       "      <td>2</td>\n",
       "    </tr>\n",
       "    <tr>\n",
       "      <th>19</th>\n",
       "      <td>20</td>\n",
       "      <td>Made Sengap</td>\n",
       "      <td>1991-06-15</td>\n",
       "      <td>Laki-laki</td>\n",
       "      <td>supir</td>\n",
       "      <td>4500</td>\n",
       "      <td>15000</td>\n",
       "      <td>ya</td>\n",
       "      <td>5</td>\n",
       "    </tr>\n",
       "    <tr>\n",
       "      <th>15</th>\n",
       "      <td>16</td>\n",
       "      <td>Luh Santidewi</td>\n",
       "      <td>1991-07-15</td>\n",
       "      <td>None</td>\n",
       "      <td>artis</td>\n",
       "      <td>7000</td>\n",
       "      <td>7000</td>\n",
       "      <td>ya</td>\n",
       "      <td>3</td>\n",
       "    </tr>\n",
       "    <tr>\n",
       "      <th>13</th>\n",
       "      <td>14</td>\n",
       "      <td>Komang Dewi</td>\n",
       "      <td>1993-02-05</td>\n",
       "      <td>None</td>\n",
       "      <td>dokter</td>\n",
       "      <td>10000</td>\n",
       "      <td>25000</td>\n",
       "      <td>ya</td>\n",
       "      <td>2</td>\n",
       "    </tr>\n",
       "    <tr>\n",
       "      <th>11</th>\n",
       "      <td>12</td>\n",
       "      <td>Luh Madeinbali</td>\n",
       "      <td>1994-01-02</td>\n",
       "      <td>None</td>\n",
       "      <td>perawat</td>\n",
       "      <td>7000</td>\n",
       "      <td>500</td>\n",
       "      <td>ya</td>\n",
       "      <td>4</td>\n",
       "    </tr>\n",
       "    <tr>\n",
       "      <th>6</th>\n",
       "      <td>7</td>\n",
       "      <td>Nyoman Jegeg</td>\n",
       "      <td>1989-06-20</td>\n",
       "      <td>Perempuan</td>\n",
       "      <td>artis</td>\n",
       "      <td>3000</td>\n",
       "      <td>50000</td>\n",
       "      <td>tidak</td>\n",
       "      <td>0</td>\n",
       "    </tr>\n",
       "    <tr>\n",
       "      <th>12</th>\n",
       "      <td>13</td>\n",
       "      <td>Ketut Kusumadewi</td>\n",
       "      <td>1990-01-03</td>\n",
       "      <td>Perempuan</td>\n",
       "      <td>bidan</td>\n",
       "      <td>8000</td>\n",
       "      <td>10000</td>\n",
       "      <td>tidak</td>\n",
       "      <td>0</td>\n",
       "    </tr>\n",
       "    <tr>\n",
       "      <th>3</th>\n",
       "      <td>4</td>\n",
       "      <td>Ketut Koncreng</td>\n",
       "      <td>1992-04-17</td>\n",
       "      <td>Perempuan</td>\n",
       "      <td>buruh</td>\n",
       "      <td>3000</td>\n",
       "      <td>500</td>\n",
       "      <td>ya</td>\n",
       "      <td>2</td>\n",
       "    </tr>\n",
       "    <tr>\n",
       "      <th>14</th>\n",
       "      <td>15</td>\n",
       "      <td>Kadek Dewiyani</td>\n",
       "      <td>1991-06-15</td>\n",
       "      <td>Perempuan</td>\n",
       "      <td>buruh</td>\n",
       "      <td>11000</td>\n",
       "      <td>35000</td>\n",
       "      <td>tidak</td>\n",
       "      <td>0</td>\n",
       "    </tr>\n",
       "    <tr>\n",
       "      <th>16</th>\n",
       "      <td>17</td>\n",
       "      <td>Putu Medewi</td>\n",
       "      <td>1992-06-16</td>\n",
       "      <td>Perempuan</td>\n",
       "      <td>buruh</td>\n",
       "      <td>3500</td>\n",
       "      <td>5000</td>\n",
       "      <td>tidak</td>\n",
       "      <td>0</td>\n",
       "    </tr>\n",
       "    <tr>\n",
       "      <th>8</th>\n",
       "      <td>9</td>\n",
       "      <td>Luh Ani</td>\n",
       "      <td>1987-08-22</td>\n",
       "      <td>Perempuan</td>\n",
       "      <td>dagang</td>\n",
       "      <td>5000</td>\n",
       "      <td>50000</td>\n",
       "      <td>ya</td>\n",
       "      <td>2</td>\n",
       "    </tr>\n",
       "    <tr>\n",
       "      <th>17</th>\n",
       "      <td>18</td>\n",
       "      <td>Nyoman Madewi</td>\n",
       "      <td>1994-07-13</td>\n",
       "      <td>Perempuan</td>\n",
       "      <td>dagang</td>\n",
       "      <td>1500</td>\n",
       "      <td>75000</td>\n",
       "      <td>ya</td>\n",
       "      <td>6</td>\n",
       "    </tr>\n",
       "    <tr>\n",
       "      <th>0</th>\n",
       "      <td>1</td>\n",
       "      <td>Putu Diana</td>\n",
       "      <td>1995-01-14</td>\n",
       "      <td>Perempuan</td>\n",
       "      <td>dokter</td>\n",
       "      <td>5000</td>\n",
       "      <td>100000</td>\n",
       "      <td>tidak</td>\n",
       "      <td>0</td>\n",
       "    </tr>\n",
       "    <tr>\n",
       "      <th>10</th>\n",
       "      <td>11</td>\n",
       "      <td>Made Santi</td>\n",
       "      <td>1995-01-01</td>\n",
       "      <td>Perempuan</td>\n",
       "      <td>dokter</td>\n",
       "      <td>6000</td>\n",
       "      <td>20000</td>\n",
       "      <td>tidak</td>\n",
       "      <td>0</td>\n",
       "    </tr>\n",
       "  </tbody>\n",
       "</table>\n",
       "</div>"
      ],
      "text/plain": [
       "    No.              Nama Tanggal Lahir Jenis Kelamin Pekerjaan   Gaji  \\\n",
       "2     3      Komang Lukis    1993-03-16     Laki-laki     bidan   4000   \n",
       "18   19       Kadek Pekak    1992-05-14     Laki-laki     buruh   2500   \n",
       "4     5       Wayan Bagus    1991-05-18     Laki-laki    dagang  10000   \n",
       "1     2         Made Andi    1994-02-15     Laki-laki   perawat   4000   \n",
       "5     6       Kadek Bocok    1990-03-19     Laki-laki     supir   6000   \n",
       "7     8        Ketut Lama    1988-07-21     Laki-laki     supir   4000   \n",
       "9    10       Made Sengap    1986-09-23     Laki-laki     supir   3500   \n",
       "19   20       Made Sengap    1991-06-15     Laki-laki     supir   4500   \n",
       "15   16     Luh Santidewi    1991-07-15          None     artis   7000   \n",
       "13   14       Komang Dewi    1993-02-05          None    dokter  10000   \n",
       "11   12    Luh Madeinbali    1994-01-02          None   perawat   7000   \n",
       "6     7      Nyoman Jegeg    1989-06-20     Perempuan     artis   3000   \n",
       "12   13  Ketut Kusumadewi    1990-01-03     Perempuan     bidan   8000   \n",
       "3     4    Ketut Koncreng    1992-04-17     Perempuan     buruh   3000   \n",
       "14   15    Kadek Dewiyani    1991-06-15     Perempuan     buruh  11000   \n",
       "16   17       Putu Medewi    1992-06-16     Perempuan     buruh   3500   \n",
       "8     9           Luh Ani    1987-08-22     Perempuan    dagang   5000   \n",
       "17   18     Nyoman Madewi    1994-07-13     Perempuan    dagang   1500   \n",
       "0     1        Putu Diana    1995-01-14     Perempuan    dokter   5000   \n",
       "10   11        Made Santi    1995-01-01     Perempuan    dokter   6000   \n",
       "\n",
       "    Tabungan Menikah  Jumlah Anak  \n",
       "2     200000      ya            3  \n",
       "18      9000   tidak            0  \n",
       "4     500000   tidak            0  \n",
       "1     150000      ya            4  \n",
       "5       1000   tidak            0  \n",
       "7       2000      ya            1  \n",
       "9     700000      ya            2  \n",
       "19     15000      ya            5  \n",
       "15      7000      ya            3  \n",
       "13     25000      ya            2  \n",
       "11       500      ya            4  \n",
       "6      50000   tidak            0  \n",
       "12     10000   tidak            0  \n",
       "3        500      ya            2  \n",
       "14     35000   tidak            0  \n",
       "16      5000   tidak            0  \n",
       "8      50000      ya            2  \n",
       "17     75000      ya            6  \n",
       "0     100000   tidak            0  \n",
       "10     20000   tidak            0  "
      ]
     },
     "execution_count": 100,
     "metadata": {},
     "output_type": "execute_result"
    }
   ],
   "source": [
    "dt.sort_values(['Jenis Kelamin','Pekerjaan'])"
   ]
  },
  {
   "cell_type": "markdown",
   "id": "3dbfa702",
   "metadata": {},
   "source": [
    "### 5.21.4 Mengubah Data pada Pandas"
   ]
  },
  {
   "cell_type": "code",
   "execution_count": 101,
   "id": "c63fff18",
   "metadata": {},
   "outputs": [
    {
     "name": "stdout",
     "output_type": "stream",
     "text": [
      "    No.              Nama Tanggal Lahir Jenis Kelamin Pekerjaan   Gaji  \\\n",
      "0     1        Putu Diana    1995-01-14     Perempuan    dokter   5000   \n",
      "1     2         Made Andi    1994-02-15     Laki-laki   perawat   4000   \n",
      "2     3      Komang Lukis    1993-03-16     Laki-laki     bidan   4000   \n",
      "3     4    Ketut Koncreng    1992-04-17     Perempuan     buruh   3000   \n",
      "4     5       Wayan Bagus    1991-05-18     Laki-laki    dagang  10000   \n",
      "5     6       Kadek Bocok    1990-03-19     Laki-laki     supir   6000   \n",
      "6     7      Nyoman Jegeg    1989-06-20     Perempuan     artis   3000   \n",
      "7     8        Ketut Lama    1988-07-21     Laki-laki     supir   4000   \n",
      "8     9           Luh Ani    1987-08-22     Perempuan    dagang   5000   \n",
      "9    10       Made Sengap    1986-09-23     Laki-laki     supir   3500   \n",
      "10   11        Made Santi    1995-01-01     Perempuan    dokter   6000   \n",
      "11   12    Luh Madeinbali    1994-01-02          None   perawat   7000   \n",
      "12   13  Ketut Kusumadewi    1990-01-03     Perempuan     bidan   8000   \n",
      "13   14       Komang Dewi    1993-02-05          None    dokter  10000   \n",
      "14   15    Kadek Dewiyani    1991-06-15     Perempuan     buruh  11000   \n",
      "15   16     Luh Santidewi    1991-07-15          None     artis   7000   \n",
      "16   17       Putu Medewi    1992-06-16     Perempuan     buruh   3500   \n",
      "17   18     Nyoman Madewi    1994-07-13     Perempuan    dagang   1500   \n",
      "18   19       Kadek Pekak    1992-05-14     Laki-laki     buruh   2500   \n",
      "19   20       Made Sengap    1991-06-15     Laki-laki     supir   4500   \n",
      "\n",
      "    Tabungan Menikah  Jumlah Anak  Gaji Setahun  \n",
      "0     100000   tidak            0         60000  \n",
      "1     150000      ya            4         48000  \n",
      "2     200000      ya            3         48000  \n",
      "3        500      ya            2         36000  \n",
      "4     500000   tidak            0        120000  \n",
      "5       1000   tidak            0         72000  \n",
      "6      50000   tidak            0         36000  \n",
      "7       2000      ya            1         48000  \n",
      "8      50000      ya            2         60000  \n",
      "9     700000      ya            2         42000  \n",
      "10     20000   tidak            0         72000  \n",
      "11       500      ya            4         84000  \n",
      "12     10000   tidak            0         96000  \n",
      "13     25000      ya            2        120000  \n",
      "14     35000   tidak            0        132000  \n",
      "15      7000      ya            3         84000  \n",
      "16      5000   tidak            0         42000  \n",
      "17     75000      ya            6         18000  \n",
      "18      9000   tidak            0         30000  \n",
      "19     15000      ya            5         54000  \n"
     ]
    }
   ],
   "source": [
    "dt['Gaji Setahun']=12*dt['Gaji']\n",
    "print(dt)"
   ]
  },
  {
   "cell_type": "code",
   "execution_count": 102,
   "id": "bbd806fc",
   "metadata": {},
   "outputs": [
    {
     "name": "stdout",
     "output_type": "stream",
     "text": [
      "    No.              Nama Tanggal Lahir Jenis Kelamin Pekerjaan   Gaji  \\\n",
      "0     1        Putu Diana    1995-01-14     Perempuan    dokter   5000   \n",
      "1     2         Made Andi    1994-02-15     Laki-laki   perawat   4000   \n",
      "2     3      Komang Lukis    1993-03-16     Laki-laki     bidan   4000   \n",
      "3     4    Ketut Koncreng    1992-04-17     Perempuan     buruh   3000   \n",
      "4     5       Wayan Bagus    1991-05-18     Laki-laki    dagang  10000   \n",
      "5     6       Kadek Bocok    1990-03-19     Laki-laki     supir   6000   \n",
      "6     7      Nyoman Jegeg    1989-06-20     Perempuan     artis   3000   \n",
      "7     8        Ketut Lama    1988-07-21     Laki-laki     supir   4000   \n",
      "8     9           Luh Ani    1987-08-22     Perempuan    dagang   5000   \n",
      "9    10       Made Sengap    1986-09-23     Laki-laki     supir   3500   \n",
      "10   11        Made Santi    1995-01-01     Perempuan    dokter   6000   \n",
      "11   12    Luh Madeinbali    1994-01-02          None   perawat   7000   \n",
      "12   13  Ketut Kusumadewi    1990-01-03     Perempuan     bidan   8000   \n",
      "13   14       Komang Dewi    1993-02-05          None    dokter  10000   \n",
      "14   15    Kadek Dewiyani    1991-06-15     Perempuan     buruh  11000   \n",
      "15   16     Luh Santidewi    1991-07-15          None     artis   7000   \n",
      "16   17       Putu Medewi    1992-06-16     Perempuan     buruh   3500   \n",
      "17   18     Nyoman Madewi    1994-07-13     Perempuan    dagang   1500   \n",
      "18   19       Kadek Pekak    1992-05-14     Laki-laki     buruh   2500   \n",
      "19   20       Made Sengap    1991-06-15     Laki-laki     supir   4500   \n",
      "\n",
      "    Tabungan Menikah  Jumlah Anak  \n",
      "0     100000   tidak            0  \n",
      "1     150000      ya            4  \n",
      "2     200000      ya            3  \n",
      "3        500      ya            2  \n",
      "4     500000   tidak            0  \n",
      "5       1000   tidak            0  \n",
      "6      50000   tidak            0  \n",
      "7       2000      ya            1  \n",
      "8      50000      ya            2  \n",
      "9     700000      ya            2  \n",
      "10     20000   tidak            0  \n",
      "11       500      ya            4  \n",
      "12     10000   tidak            0  \n",
      "13     25000      ya            2  \n",
      "14     35000   tidak            0  \n",
      "15      7000      ya            3  \n",
      "16      5000   tidak            0  \n",
      "17     75000      ya            6  \n",
      "18      9000   tidak            0  \n",
      "19     15000      ya            5  \n"
     ]
    }
   ],
   "source": [
    "dt=dt.drop(columns=['Gaji Setahun'])\n",
    "print(dt)"
   ]
  },
  {
   "cell_type": "code",
   "execution_count": 103,
   "id": "a4cef37a",
   "metadata": {},
   "outputs": [
    {
     "name": "stdout",
     "output_type": "stream",
     "text": [
      "    No.              Nama Tanggal Lahir Jenis Kelamin Pekerjaan    Gaji  \\\n",
      "0     1        Putu Diana    1995-01-14     Perempuan    dokter  100000   \n",
      "1     2         Made Andi    1994-02-15     Laki-laki   perawat  150000   \n",
      "2     3      Komang Lukis    1993-03-16     Laki-laki     bidan  200000   \n",
      "3     4    Ketut Koncreng    1992-04-17     Perempuan     buruh     500   \n",
      "4     5       Wayan Bagus    1991-05-18     Laki-laki    dagang  500000   \n",
      "5     6       Kadek Bocok    1990-03-19     Laki-laki     supir    1000   \n",
      "6     7      Nyoman Jegeg    1989-06-20     Perempuan     artis   50000   \n",
      "7     8        Ketut Lama    1988-07-21     Laki-laki     supir    2000   \n",
      "8     9           Luh Ani    1987-08-22     Perempuan    dagang   50000   \n",
      "9    10       Made Sengap    1986-09-23     Laki-laki     supir  700000   \n",
      "10   11        Made Santi    1995-01-01     Perempuan    dokter   20000   \n",
      "11   12    Luh Madeinbali    1994-01-02          None   perawat     500   \n",
      "12   13  Ketut Kusumadewi    1990-01-03     Perempuan     bidan   10000   \n",
      "13   14       Komang Dewi    1993-02-05          None    dokter   25000   \n",
      "14   15    Kadek Dewiyani    1991-06-15     Perempuan     buruh   35000   \n",
      "15   16     Luh Santidewi    1991-07-15          None     artis    7000   \n",
      "16   17       Putu Medewi    1992-06-16     Perempuan     buruh    5000   \n",
      "17   18     Nyoman Madewi    1994-07-13     Perempuan    dagang   75000   \n",
      "18   19       Kadek Pekak    1992-05-14     Laki-laki     buruh    9000   \n",
      "19   20       Made Sengap    1991-06-15     Laki-laki     supir   15000   \n",
      "\n",
      "    Tabungan Menikah  Jumlah Anak  Jumlah Uang  \n",
      "0     100000   tidak            0       100000  \n",
      "1     150000      ya            4       150000  \n",
      "2     200000      ya            3       200000  \n",
      "3        500      ya            2          500  \n",
      "4     500000   tidak            0       500000  \n",
      "5       1000   tidak            0         1000  \n",
      "6      50000   tidak            0        50000  \n",
      "7       2000      ya            1         2000  \n",
      "8      50000      ya            2        50000  \n",
      "9     700000      ya            2       700000  \n",
      "10     20000   tidak            0        20000  \n",
      "11       500      ya            4          500  \n",
      "12     10000   tidak            0        10000  \n",
      "13     25000      ya            2        25000  \n",
      "14     35000   tidak            0        35000  \n",
      "15      7000      ya            3         7000  \n",
      "16      5000   tidak            0         5000  \n",
      "17     75000      ya            6        75000  \n",
      "18      9000   tidak            0         9000  \n",
      "19     15000      ya            5        15000  \n"
     ]
    }
   ],
   "source": [
    "dt['Jumlah Uang']=dt['Gaji']=dt['Tabungan']\n",
    "print(dt)"
   ]
  },
  {
   "cell_type": "code",
   "execution_count": 104,
   "id": "48d2dc04",
   "metadata": {},
   "outputs": [
    {
     "name": "stdout",
     "output_type": "stream",
     "text": [
      "    No.              Nama Tanggal Lahir Jenis Kelamin Pekerjaan    Gaji  \\\n",
      "0     1        Putu Diana    1995-01-14     Perempuan    dokter  100000   \n",
      "1     2         Made Andi    1994-02-15     Laki-laki   perawat  150000   \n",
      "2     3      Komang Lukis    1993-03-16     Laki-laki     bidan  200000   \n",
      "3     4    Ketut Koncreng    1992-04-17     Perempuan     buruh     500   \n",
      "4     5       Wayan Bagus    1991-05-18     Laki-laki    dagang  500000   \n",
      "5     6       Kadek Bocok    1990-03-19     Laki-laki     supir    1000   \n",
      "6     7      Nyoman Jegeg    1989-06-20     Perempuan     artis   50000   \n",
      "7     8        Ketut Lama    1988-07-21     Laki-laki     supir    2000   \n",
      "8     9           Luh Ani    1987-08-22     Perempuan    dagang   50000   \n",
      "9    10       Made Sengap    1986-09-23     Laki-laki     supir  700000   \n",
      "10   11        Made Santi    1995-01-01     Perempuan    dokter   20000   \n",
      "11   12    Luh Madeinbali    1994-01-02          None   perawat     500   \n",
      "12   13  Ketut Kusumadewi    1990-01-03     Perempuan     bidan   10000   \n",
      "13   14       Komang Dewi    1993-02-05          None    dokter   25000   \n",
      "14   15    Kadek Dewiyani    1991-06-15     Perempuan     buruh   35000   \n",
      "15   16     Luh Santidewi    1991-07-15          None     artis    7000   \n",
      "16   17       Putu Medewi    1992-06-16     Perempuan     buruh    5000   \n",
      "17   18     Nyoman Madewi    1994-07-13     Perempuan    dagang   75000   \n",
      "18   19       Kadek Pekak    1992-05-14     Laki-laki     buruh    9000   \n",
      "19   20       Made Sengap    1991-06-15     Laki-laki     supir   15000   \n",
      "\n",
      "    Tabungan Menikah  Jumlah Anak  \n",
      "0     100000   tidak            0  \n",
      "1     150000      ya            4  \n",
      "2     200000      ya            3  \n",
      "3        500      ya            2  \n",
      "4     500000   tidak            0  \n",
      "5       1000   tidak            0  \n",
      "6      50000   tidak            0  \n",
      "7       2000      ya            1  \n",
      "8      50000      ya            2  \n",
      "9     700000      ya            2  \n",
      "10     20000   tidak            0  \n",
      "11       500      ya            4  \n",
      "12     10000   tidak            0  \n",
      "13     25000      ya            2  \n",
      "14     35000   tidak            0  \n",
      "15      7000      ya            3  \n",
      "16      5000   tidak            0  \n",
      "17     75000      ya            6  \n",
      "18      9000   tidak            0  \n",
      "19     15000      ya            5  \n"
     ]
    }
   ],
   "source": [
    "dt=dt.drop(columns=['Jumlah Uang'])\n",
    "print(dt)"
   ]
  },
  {
   "cell_type": "code",
   "execution_count": 105,
   "id": "1a73990d",
   "metadata": {},
   "outputs": [
    {
     "name": "stdout",
     "output_type": "stream",
     "text": [
      "    No.              Nama Tanggal Lahir Jenis Kelamin Pekerjaan    Gaji  \\\n",
      "0     1        Putu Diana    1995-01-14     Perempuan    dokter  100000   \n",
      "1     2         Made Andi    1994-02-15     Laki-laki   perawat  150000   \n",
      "2     3      Komang Lukis    1993-03-16     Laki-laki     bidan  200000   \n",
      "3     4    Ketut Koncreng    1992-04-17     Perempuan     buruh     500   \n",
      "4     5       Wayan Bagus    1991-05-18     Laki-laki    dagang  500000   \n",
      "5     6       Kadek Bocok    1990-03-19     Laki-laki     supir    1000   \n",
      "6     7      Nyoman Jegeg    1989-06-20     Perempuan     artis   50000   \n",
      "7     8        Ketut Lama    1988-07-21     Laki-laki     supir    2000   \n",
      "8     9           Luh Ani    1987-08-22     Perempuan    dagang   50000   \n",
      "9    10       Made Sengap    1986-09-23     Laki-laki     supir  700000   \n",
      "10   11        Made Santi    1995-01-01     Perempuan    dokter   20000   \n",
      "11   12    Luh Madeinbali    1994-01-02          None   perawat     500   \n",
      "12   13  Ketut Kusumadewi    1990-01-03     Perempuan     bidan   10000   \n",
      "13   14       Komang Dewi    1993-02-05          None    dokter   25000   \n",
      "14   15    Kadek Dewiyani    1991-06-15     Perempuan     buruh   35000   \n",
      "15   16     Luh Santidewi    1991-07-15          None     artis    7000   \n",
      "16   17       Putu Medewi    1992-06-16     Perempuan     buruh    5000   \n",
      "17   18     Nyoman Madewi    1994-07-13     Perempuan    dagang   75000   \n",
      "18   19       Kadek Pekak    1992-05-14     Laki-laki     buruh    9000   \n",
      "19   20       Made Sengap    1991-06-15     Laki-laki     supir   15000   \n",
      "\n",
      "    Tabungan Menikah  Jumlah Anak  Jumlah Uang  \n",
      "0     100000   tidak            0       200000  \n",
      "1     150000      ya            4       300000  \n",
      "2     200000      ya            3       400000  \n",
      "3        500      ya            2         1000  \n",
      "4     500000   tidak            0      1000000  \n",
      "5       1000   tidak            0         2000  \n",
      "6      50000   tidak            0       100000  \n",
      "7       2000      ya            1         4000  \n",
      "8      50000      ya            2       100000  \n",
      "9     700000      ya            2      1400000  \n",
      "10     20000   tidak            0        40000  \n",
      "11       500      ya            4         1000  \n",
      "12     10000   tidak            0        20000  \n",
      "13     25000      ya            2        50000  \n",
      "14     35000   tidak            0        70000  \n",
      "15      7000      ya            3        14000  \n",
      "16      5000   tidak            0        10000  \n",
      "17     75000      ya            6       150000  \n",
      "18      9000   tidak            0        18000  \n",
      "19     15000      ya            5        30000  \n"
     ]
    }
   ],
   "source": [
    "dt['Jumlah Uang']=dt.iloc[:,5:7].sum(axis=1)\n",
    "print(dt)"
   ]
  },
  {
   "cell_type": "code",
   "execution_count": 106,
   "id": "bdb1bf8a",
   "metadata": {},
   "outputs": [
    {
     "name": "stdout",
     "output_type": "stream",
     "text": [
      "    No.              Nama Tanggal Lahir Jenis Kelamin Pekerjaan    Gaji  \\\n",
      "0     1        Putu Diana    1995-01-14     Perempuan    dokter  100000   \n",
      "1     2         Made Andi    1994-02-15     Laki-laki   perawat  150000   \n",
      "2     3      Komang Lukis    1993-03-16     Laki-laki     bidan  200000   \n",
      "3     4    Ketut Koncreng    1992-04-17     Perempuan     buruh     500   \n",
      "4     5       Wayan Bagus    1991-05-18     Laki-laki    dagang  500000   \n",
      "5     6       Kadek Bocok    1990-03-19     Laki-laki     supir    1000   \n",
      "6     7      Nyoman Jegeg    1989-06-20     Perempuan     artis   50000   \n",
      "7     8        Ketut Lama    1988-07-21     Laki-laki     supir    2000   \n",
      "8     9           Luh Ani    1987-08-22     Perempuan    dagang   50000   \n",
      "9    10       Made Sengap    1986-09-23     Laki-laki     supir  700000   \n",
      "10   11        Made Santi    1995-01-01     Perempuan    dokter   20000   \n",
      "11   12    Luh Madeinbali    1994-01-02     Perempuan   perawat     500   \n",
      "12   13  Ketut Kusumadewi    1990-01-03     Perempuan     bidan   10000   \n",
      "13   14       Komang Dewi    1993-02-05     Perempuan    dokter   25000   \n",
      "14   15    Kadek Dewiyani    1991-06-15     Perempuan     buruh   35000   \n",
      "15   16     Luh Santidewi    1991-07-15     Perempuan     artis    7000   \n",
      "16   17       Putu Medewi    1992-06-16     Perempuan     buruh    5000   \n",
      "17   18     Nyoman Madewi    1994-07-13     Perempuan    dagang   75000   \n",
      "18   19       Kadek Pekak    1992-05-14     Laki-laki     buruh    9000   \n",
      "19   20       Made Sengap    1991-06-15     Laki-laki     supir   15000   \n",
      "\n",
      "    Tabungan Menikah  Jumlah Anak  Jumlah Uang  \n",
      "0     100000   tidak            0       200000  \n",
      "1     150000      ya            4       300000  \n",
      "2     200000      ya            3       400000  \n",
      "3        500      ya            2         1000  \n",
      "4     500000   tidak            0      1000000  \n",
      "5       1000   tidak            0         2000  \n",
      "6      50000   tidak            0       100000  \n",
      "7       2000      ya            1         4000  \n",
      "8      50000      ya            2       100000  \n",
      "9     700000      ya            2      1400000  \n",
      "10     20000   tidak            0        40000  \n",
      "11       500      ya            4         1000  \n",
      "12     10000   tidak            0        20000  \n",
      "13     25000      ya            2        50000  \n",
      "14     35000   tidak            0        70000  \n",
      "15      7000      ya            3        14000  \n",
      "16      5000   tidak            0        10000  \n",
      "17     75000      ya            6       150000  \n",
      "18      9000   tidak            0        18000  \n",
      "19     15000      ya            5        30000  \n"
     ]
    }
   ],
   "source": [
    "dt['Jenis Kelamin']=dt['Jenis Kelamin'].replace(['None'],'Perempuan')\n",
    "print(dt)"
   ]
  },
  {
   "cell_type": "markdown",
   "id": "cec4ff26",
   "metadata": {},
   "source": [
    "### 5.21.5 Menyimpan Data Menggunakan Pandas"
   ]
  },
  {
   "cell_type": "code",
   "execution_count": 107,
   "id": "16abb767",
   "metadata": {},
   "outputs": [],
   "source": [
    "dt.to_csv('data_palsu_baru.txt',index=False, sep='\\t')"
   ]
  },
  {
   "cell_type": "code",
   "execution_count": 108,
   "id": "d3e2d714",
   "metadata": {},
   "outputs": [],
   "source": [
    "dt.to_csv('data_palsu_baru.csv', index=False)"
   ]
  },
  {
   "cell_type": "code",
   "execution_count": 109,
   "id": "f459e50c",
   "metadata": {},
   "outputs": [],
   "source": [
    "dt.to_excel('data_palsu_baru.xlsx', index=False)"
   ]
  },
  {
   "cell_type": "code",
   "execution_count": 110,
   "id": "b4ee6a07",
   "metadata": {},
   "outputs": [
    {
     "name": "stdout",
     "output_type": "stream",
     "text": [
      "   No.\\tNama\\tTanggal Lahir\\tJenis Kelamin\\tPekerjaan\\tGaji\\tTabungan\\tMenikah\\tJumlah Anak\\tJumlah Uang\n",
      "0   1\\tPutu Diana\\t1995-01-14\\tPerempuan\\tdokter\\t...                                                   \n",
      "1   2\\tMade Andi\\t1994-02-15\\tLaki-laki\\tperawat\\t...                                                   \n",
      "2   3\\tKomang Lukis\\t1993-03-16\\tLaki-laki\\tbidan\\...                                                   \n",
      "3   4\\tKetut Koncreng\\t1992-04-17\\tPerempuan\\tburu...                                                   \n",
      "4   5\\tWayan Bagus\\t1991-05-18\\tLaki-laki\\tdagang\\...                                                   \n",
      "5   6\\tKadek Bocok\\t1990-03-19\\tLaki-laki\\tsupir\\t...                                                   \n",
      "6   7\\tNyoman Jegeg\\t1989-06-20\\tPerempuan\\tartis\\...                                                   \n",
      "7   8\\tKetut Lama\\t1988-07-21\\tLaki-laki\\tsupir\\t2...                                                   \n",
      "8   9\\tLuh Ani\\t1987-08-22\\tPerempuan\\tdagang\\t500...                                                   \n",
      "9   10\\tMade Sengap\\t1986-09-23\\tLaki-laki\\tsupir\\...                                                   \n",
      "10  11\\tMade Santi\\t1995-01-01\\tPerempuan\\tdokter\\...                                                   \n",
      "11  12\\tLuh Madeinbali\\t1994-01-02\\tPerempuan\\tper...                                                   \n",
      "12  13\\tKetut Kusumadewi\\t1990-01-03\\tPerempuan\\tb...                                                   \n",
      "13  14\\tKomang Dewi\\t1993-02-05\\tPerempuan\\tdokter...                                                   \n",
      "14  15\\tKadek Dewiyani\\t1991-06-15\\tPerempuan\\tbur...                                                   \n",
      "15  16\\tLuh Santidewi\\t1991-07-15\\tPerempuan\\tarti...                                                   \n",
      "16  17\\tPutu Medewi\\t1992-06-16\\tPerempuan\\tburuh\\...                                                   \n",
      "17  18\\tNyoman Madewi\\t1994-07-13\\tPerempuan\\tdaga...                                                   \n",
      "18  19\\tKadek Pekak\\t1992-05-14\\tLaki-laki\\tburuh\\...                                                   \n",
      "19  20\\tMade Sengap\\t1991-06-15\\tLaki-laki\\tsupir\\...                                                   \n"
     ]
    }
   ],
   "source": [
    "data=pd.read_csv('data_palsu_baru.txt')\n",
    "print(data)"
   ]
  },
  {
   "cell_type": "code",
   "execution_count": 111,
   "id": "778f2dae",
   "metadata": {},
   "outputs": [
    {
     "name": "stdout",
     "output_type": "stream",
     "text": [
      "    No.              Nama Tanggal Lahir Jenis Kelamin Pekerjaan    Gaji  \\\n",
      "0     1        Putu Diana    1995-01-14     Perempuan    dokter  100000   \n",
      "1     2         Made Andi    1994-02-15     Laki-laki   perawat  150000   \n",
      "2     3      Komang Lukis    1993-03-16     Laki-laki     bidan  200000   \n",
      "3     4    Ketut Koncreng    1992-04-17     Perempuan     buruh     500   \n",
      "4     5       Wayan Bagus    1991-05-18     Laki-laki    dagang  500000   \n",
      "5     6       Kadek Bocok    1990-03-19     Laki-laki     supir    1000   \n",
      "6     7      Nyoman Jegeg    1989-06-20     Perempuan     artis   50000   \n",
      "7     8        Ketut Lama    1988-07-21     Laki-laki     supir    2000   \n",
      "8     9           Luh Ani    1987-08-22     Perempuan    dagang   50000   \n",
      "9    10       Made Sengap    1986-09-23     Laki-laki     supir  700000   \n",
      "10   11        Made Santi    1995-01-01     Perempuan    dokter   20000   \n",
      "11   12    Luh Madeinbali    1994-01-02     Perempuan   perawat     500   \n",
      "12   13  Ketut Kusumadewi    1990-01-03     Perempuan     bidan   10000   \n",
      "13   14       Komang Dewi    1993-02-05     Perempuan    dokter   25000   \n",
      "14   15    Kadek Dewiyani    1991-06-15     Perempuan     buruh   35000   \n",
      "15   16     Luh Santidewi    1991-07-15     Perempuan     artis    7000   \n",
      "16   17       Putu Medewi    1992-06-16     Perempuan     buruh    5000   \n",
      "17   18     Nyoman Madewi    1994-07-13     Perempuan    dagang   75000   \n",
      "18   19       Kadek Pekak    1992-05-14     Laki-laki     buruh    9000   \n",
      "19   20       Made Sengap    1991-06-15     Laki-laki     supir   15000   \n",
      "\n",
      "    Tabungan Menikah  Jumlah Anak  Jumlah Uang  \n",
      "0     100000   tidak            0       200000  \n",
      "1     150000      ya            4       300000  \n",
      "2     200000      ya            3       400000  \n",
      "3        500      ya            2         1000  \n",
      "4     500000   tidak            0      1000000  \n",
      "5       1000   tidak            0         2000  \n",
      "6      50000   tidak            0       100000  \n",
      "7       2000      ya            1         4000  \n",
      "8      50000      ya            2       100000  \n",
      "9     700000      ya            2      1400000  \n",
      "10     20000   tidak            0        40000  \n",
      "11       500      ya            4         1000  \n",
      "12     10000   tidak            0        20000  \n",
      "13     25000      ya            2        50000  \n",
      "14     35000   tidak            0        70000  \n",
      "15      7000      ya            3        14000  \n",
      "16      5000   tidak            0        10000  \n",
      "17     75000      ya            6       150000  \n",
      "18      9000   tidak            0        18000  \n",
      "19     15000      ya            5        30000  \n"
     ]
    }
   ],
   "source": [
    "data2=pd.read_csv('data_palsu_baru.txt', delimiter='\\t')\n",
    "print(data2)"
   ]
  },
  {
   "cell_type": "markdown",
   "id": "1ac7e3b9",
   "metadata": {},
   "source": [
    "### 5.21.6 Menyaring Data Menggunakan Pandas"
   ]
  },
  {
   "cell_type": "code",
   "execution_count": 112,
   "id": "c3f71c00",
   "metadata": {},
   "outputs": [
    {
     "data": {
      "text/html": [
       "<div>\n",
       "<style scoped>\n",
       "    .dataframe tbody tr th:only-of-type {\n",
       "        vertical-align: middle;\n",
       "    }\n",
       "\n",
       "    .dataframe tbody tr th {\n",
       "        vertical-align: top;\n",
       "    }\n",
       "\n",
       "    .dataframe thead th {\n",
       "        text-align: right;\n",
       "    }\n",
       "</style>\n",
       "<table border=\"1\" class=\"dataframe\">\n",
       "  <thead>\n",
       "    <tr style=\"text-align: right;\">\n",
       "      <th></th>\n",
       "      <th>No.</th>\n",
       "      <th>Nama</th>\n",
       "      <th>Tanggal Lahir</th>\n",
       "      <th>Jenis Kelamin</th>\n",
       "      <th>Pekerjaan</th>\n",
       "      <th>Gaji</th>\n",
       "      <th>Tabungan</th>\n",
       "      <th>Menikah</th>\n",
       "      <th>Jumlah Anak</th>\n",
       "      <th>Jumlah Uang</th>\n",
       "    </tr>\n",
       "  </thead>\n",
       "  <tbody>\n",
       "    <tr>\n",
       "      <th>1</th>\n",
       "      <td>2</td>\n",
       "      <td>Made Andi</td>\n",
       "      <td>1994-02-15</td>\n",
       "      <td>Laki-laki</td>\n",
       "      <td>perawat</td>\n",
       "      <td>150000</td>\n",
       "      <td>150000</td>\n",
       "      <td>ya</td>\n",
       "      <td>4</td>\n",
       "      <td>300000</td>\n",
       "    </tr>\n",
       "    <tr>\n",
       "      <th>2</th>\n",
       "      <td>3</td>\n",
       "      <td>Komang Lukis</td>\n",
       "      <td>1993-03-16</td>\n",
       "      <td>Laki-laki</td>\n",
       "      <td>bidan</td>\n",
       "      <td>200000</td>\n",
       "      <td>200000</td>\n",
       "      <td>ya</td>\n",
       "      <td>3</td>\n",
       "      <td>400000</td>\n",
       "    </tr>\n",
       "    <tr>\n",
       "      <th>4</th>\n",
       "      <td>5</td>\n",
       "      <td>Wayan Bagus</td>\n",
       "      <td>1991-05-18</td>\n",
       "      <td>Laki-laki</td>\n",
       "      <td>dagang</td>\n",
       "      <td>500000</td>\n",
       "      <td>500000</td>\n",
       "      <td>tidak</td>\n",
       "      <td>0</td>\n",
       "      <td>1000000</td>\n",
       "    </tr>\n",
       "    <tr>\n",
       "      <th>5</th>\n",
       "      <td>6</td>\n",
       "      <td>Kadek Bocok</td>\n",
       "      <td>1990-03-19</td>\n",
       "      <td>Laki-laki</td>\n",
       "      <td>supir</td>\n",
       "      <td>1000</td>\n",
       "      <td>1000</td>\n",
       "      <td>tidak</td>\n",
       "      <td>0</td>\n",
       "      <td>2000</td>\n",
       "    </tr>\n",
       "    <tr>\n",
       "      <th>7</th>\n",
       "      <td>8</td>\n",
       "      <td>Ketut Lama</td>\n",
       "      <td>1988-07-21</td>\n",
       "      <td>Laki-laki</td>\n",
       "      <td>supir</td>\n",
       "      <td>2000</td>\n",
       "      <td>2000</td>\n",
       "      <td>ya</td>\n",
       "      <td>1</td>\n",
       "      <td>4000</td>\n",
       "    </tr>\n",
       "    <tr>\n",
       "      <th>9</th>\n",
       "      <td>10</td>\n",
       "      <td>Made Sengap</td>\n",
       "      <td>1986-09-23</td>\n",
       "      <td>Laki-laki</td>\n",
       "      <td>supir</td>\n",
       "      <td>700000</td>\n",
       "      <td>700000</td>\n",
       "      <td>ya</td>\n",
       "      <td>2</td>\n",
       "      <td>1400000</td>\n",
       "    </tr>\n",
       "    <tr>\n",
       "      <th>18</th>\n",
       "      <td>19</td>\n",
       "      <td>Kadek Pekak</td>\n",
       "      <td>1992-05-14</td>\n",
       "      <td>Laki-laki</td>\n",
       "      <td>buruh</td>\n",
       "      <td>9000</td>\n",
       "      <td>9000</td>\n",
       "      <td>tidak</td>\n",
       "      <td>0</td>\n",
       "      <td>18000</td>\n",
       "    </tr>\n",
       "    <tr>\n",
       "      <th>19</th>\n",
       "      <td>20</td>\n",
       "      <td>Made Sengap</td>\n",
       "      <td>1991-06-15</td>\n",
       "      <td>Laki-laki</td>\n",
       "      <td>supir</td>\n",
       "      <td>15000</td>\n",
       "      <td>15000</td>\n",
       "      <td>ya</td>\n",
       "      <td>5</td>\n",
       "      <td>30000</td>\n",
       "    </tr>\n",
       "  </tbody>\n",
       "</table>\n",
       "</div>"
      ],
      "text/plain": [
       "    No.          Nama Tanggal Lahir Jenis Kelamin Pekerjaan    Gaji  Tabungan  \\\n",
       "1     2     Made Andi    1994-02-15     Laki-laki   perawat  150000    150000   \n",
       "2     3  Komang Lukis    1993-03-16     Laki-laki     bidan  200000    200000   \n",
       "4     5   Wayan Bagus    1991-05-18     Laki-laki    dagang  500000    500000   \n",
       "5     6   Kadek Bocok    1990-03-19     Laki-laki     supir    1000      1000   \n",
       "7     8    Ketut Lama    1988-07-21     Laki-laki     supir    2000      2000   \n",
       "9    10   Made Sengap    1986-09-23     Laki-laki     supir  700000    700000   \n",
       "18   19   Kadek Pekak    1992-05-14     Laki-laki     buruh    9000      9000   \n",
       "19   20   Made Sengap    1991-06-15     Laki-laki     supir   15000     15000   \n",
       "\n",
       "   Menikah  Jumlah Anak  Jumlah Uang  \n",
       "1       ya            4       300000  \n",
       "2       ya            3       400000  \n",
       "4    tidak            0      1000000  \n",
       "5    tidak            0         2000  \n",
       "7       ya            1         4000  \n",
       "9       ya            2      1400000  \n",
       "18   tidak            0        18000  \n",
       "19      ya            5        30000  "
      ]
     },
     "execution_count": 112,
     "metadata": {},
     "output_type": "execute_result"
    }
   ],
   "source": [
    "dt.loc[dt['Jenis Kelamin']=='Laki-laki']"
   ]
  },
  {
   "cell_type": "code",
   "execution_count": 113,
   "id": "a919d55c",
   "metadata": {},
   "outputs": [
    {
     "data": {
      "text/html": [
       "<div>\n",
       "<style scoped>\n",
       "    .dataframe tbody tr th:only-of-type {\n",
       "        vertical-align: middle;\n",
       "    }\n",
       "\n",
       "    .dataframe tbody tr th {\n",
       "        vertical-align: top;\n",
       "    }\n",
       "\n",
       "    .dataframe thead th {\n",
       "        text-align: right;\n",
       "    }\n",
       "</style>\n",
       "<table border=\"1\" class=\"dataframe\">\n",
       "  <thead>\n",
       "    <tr style=\"text-align: right;\">\n",
       "      <th></th>\n",
       "      <th>No.</th>\n",
       "      <th>Nama</th>\n",
       "      <th>Tanggal Lahir</th>\n",
       "      <th>Jenis Kelamin</th>\n",
       "      <th>Pekerjaan</th>\n",
       "      <th>Gaji</th>\n",
       "      <th>Tabungan</th>\n",
       "      <th>Menikah</th>\n",
       "      <th>Jumlah Anak</th>\n",
       "      <th>Jumlah Uang</th>\n",
       "    </tr>\n",
       "  </thead>\n",
       "  <tbody>\n",
       "    <tr>\n",
       "      <th>5</th>\n",
       "      <td>6</td>\n",
       "      <td>Kadek Bocok</td>\n",
       "      <td>1990-03-19</td>\n",
       "      <td>Laki-laki</td>\n",
       "      <td>supir</td>\n",
       "      <td>1000</td>\n",
       "      <td>1000</td>\n",
       "      <td>tidak</td>\n",
       "      <td>0</td>\n",
       "      <td>2000</td>\n",
       "    </tr>\n",
       "    <tr>\n",
       "      <th>7</th>\n",
       "      <td>8</td>\n",
       "      <td>Ketut Lama</td>\n",
       "      <td>1988-07-21</td>\n",
       "      <td>Laki-laki</td>\n",
       "      <td>supir</td>\n",
       "      <td>2000</td>\n",
       "      <td>2000</td>\n",
       "      <td>ya</td>\n",
       "      <td>1</td>\n",
       "      <td>4000</td>\n",
       "    </tr>\n",
       "    <tr>\n",
       "      <th>9</th>\n",
       "      <td>10</td>\n",
       "      <td>Made Sengap</td>\n",
       "      <td>1986-09-23</td>\n",
       "      <td>Laki-laki</td>\n",
       "      <td>supir</td>\n",
       "      <td>700000</td>\n",
       "      <td>700000</td>\n",
       "      <td>ya</td>\n",
       "      <td>2</td>\n",
       "      <td>1400000</td>\n",
       "    </tr>\n",
       "    <tr>\n",
       "      <th>19</th>\n",
       "      <td>20</td>\n",
       "      <td>Made Sengap</td>\n",
       "      <td>1991-06-15</td>\n",
       "      <td>Laki-laki</td>\n",
       "      <td>supir</td>\n",
       "      <td>15000</td>\n",
       "      <td>15000</td>\n",
       "      <td>ya</td>\n",
       "      <td>5</td>\n",
       "      <td>30000</td>\n",
       "    </tr>\n",
       "  </tbody>\n",
       "</table>\n",
       "</div>"
      ],
      "text/plain": [
       "    No.         Nama Tanggal Lahir Jenis Kelamin Pekerjaan    Gaji  Tabungan  \\\n",
       "5     6  Kadek Bocok    1990-03-19     Laki-laki     supir    1000      1000   \n",
       "7     8   Ketut Lama    1988-07-21     Laki-laki     supir    2000      2000   \n",
       "9    10  Made Sengap    1986-09-23     Laki-laki     supir  700000    700000   \n",
       "19   20  Made Sengap    1991-06-15     Laki-laki     supir   15000     15000   \n",
       "\n",
       "   Menikah  Jumlah Anak  Jumlah Uang  \n",
       "5    tidak            0         2000  \n",
       "7       ya            1         4000  \n",
       "9       ya            2      1400000  \n",
       "19      ya            5        30000  "
      ]
     },
     "execution_count": 113,
     "metadata": {},
     "output_type": "execute_result"
    }
   ],
   "source": [
    "dt.loc[(dt['Jenis Kelamin']=='Laki-laki')&(dt['Pekerjaan']=='supir')]"
   ]
  },
  {
   "cell_type": "code",
   "execution_count": 114,
   "id": "adf5c325",
   "metadata": {},
   "outputs": [
    {
     "data": {
      "text/html": [
       "<div>\n",
       "<style scoped>\n",
       "    .dataframe tbody tr th:only-of-type {\n",
       "        vertical-align: middle;\n",
       "    }\n",
       "\n",
       "    .dataframe tbody tr th {\n",
       "        vertical-align: top;\n",
       "    }\n",
       "\n",
       "    .dataframe thead th {\n",
       "        text-align: right;\n",
       "    }\n",
       "</style>\n",
       "<table border=\"1\" class=\"dataframe\">\n",
       "  <thead>\n",
       "    <tr style=\"text-align: right;\">\n",
       "      <th></th>\n",
       "      <th>No.</th>\n",
       "      <th>Nama</th>\n",
       "      <th>Tanggal Lahir</th>\n",
       "      <th>Jenis Kelamin</th>\n",
       "      <th>Pekerjaan</th>\n",
       "      <th>Gaji</th>\n",
       "      <th>Tabungan</th>\n",
       "      <th>Menikah</th>\n",
       "      <th>Jumlah Anak</th>\n",
       "      <th>Jumlah Uang</th>\n",
       "    </tr>\n",
       "  </thead>\n",
       "  <tbody>\n",
       "    <tr>\n",
       "      <th>9</th>\n",
       "      <td>10</td>\n",
       "      <td>Made Sengap</td>\n",
       "      <td>1986-09-23</td>\n",
       "      <td>Laki-laki</td>\n",
       "      <td>supir</td>\n",
       "      <td>700000</td>\n",
       "      <td>700000</td>\n",
       "      <td>ya</td>\n",
       "      <td>2</td>\n",
       "      <td>1400000</td>\n",
       "    </tr>\n",
       "    <tr>\n",
       "      <th>19</th>\n",
       "      <td>20</td>\n",
       "      <td>Made Sengap</td>\n",
       "      <td>1991-06-15</td>\n",
       "      <td>Laki-laki</td>\n",
       "      <td>supir</td>\n",
       "      <td>15000</td>\n",
       "      <td>15000</td>\n",
       "      <td>ya</td>\n",
       "      <td>5</td>\n",
       "      <td>30000</td>\n",
       "    </tr>\n",
       "  </tbody>\n",
       "</table>\n",
       "</div>"
      ],
      "text/plain": [
       "    No.         Nama Tanggal Lahir Jenis Kelamin Pekerjaan    Gaji  Tabungan  \\\n",
       "9    10  Made Sengap    1986-09-23     Laki-laki     supir  700000    700000   \n",
       "19   20  Made Sengap    1991-06-15     Laki-laki     supir   15000     15000   \n",
       "\n",
       "   Menikah  Jumlah Anak  Jumlah Uang  \n",
       "9       ya            2      1400000  \n",
       "19      ya            5        30000  "
      ]
     },
     "execution_count": 114,
     "metadata": {},
     "output_type": "execute_result"
    }
   ],
   "source": [
    "dt.loc[(dt['Jenis Kelamin']=='Laki-laki')&\n",
    "       (dt['Pekerjaan']=='supir')&\n",
    "       (dt['Jumlah Uang']>6500)]"
   ]
  },
  {
   "cell_type": "code",
   "execution_count": 115,
   "id": "e92f4225",
   "metadata": {},
   "outputs": [
    {
     "data": {
      "text/html": [
       "<div>\n",
       "<style scoped>\n",
       "    .dataframe tbody tr th:only-of-type {\n",
       "        vertical-align: middle;\n",
       "    }\n",
       "\n",
       "    .dataframe tbody tr th {\n",
       "        vertical-align: top;\n",
       "    }\n",
       "\n",
       "    .dataframe thead th {\n",
       "        text-align: right;\n",
       "    }\n",
       "</style>\n",
       "<table border=\"1\" class=\"dataframe\">\n",
       "  <thead>\n",
       "    <tr style=\"text-align: right;\">\n",
       "      <th></th>\n",
       "      <th>No.</th>\n",
       "      <th>Nama</th>\n",
       "      <th>Tanggal Lahir</th>\n",
       "      <th>Jenis Kelamin</th>\n",
       "      <th>Pekerjaan</th>\n",
       "      <th>Gaji</th>\n",
       "      <th>Tabungan</th>\n",
       "      <th>Menikah</th>\n",
       "      <th>Jumlah Anak</th>\n",
       "      <th>Jumlah Uang</th>\n",
       "    </tr>\n",
       "  </thead>\n",
       "  <tbody>\n",
       "    <tr>\n",
       "      <th>1</th>\n",
       "      <td>2</td>\n",
       "      <td>Made Andi</td>\n",
       "      <td>1994-02-15</td>\n",
       "      <td>Laki-laki</td>\n",
       "      <td>perawat</td>\n",
       "      <td>150000</td>\n",
       "      <td>150000</td>\n",
       "      <td>ya</td>\n",
       "      <td>4</td>\n",
       "      <td>300000</td>\n",
       "    </tr>\n",
       "    <tr>\n",
       "      <th>9</th>\n",
       "      <td>10</td>\n",
       "      <td>Made Sengap</td>\n",
       "      <td>1986-09-23</td>\n",
       "      <td>Laki-laki</td>\n",
       "      <td>supir</td>\n",
       "      <td>700000</td>\n",
       "      <td>700000</td>\n",
       "      <td>ya</td>\n",
       "      <td>2</td>\n",
       "      <td>1400000</td>\n",
       "    </tr>\n",
       "    <tr>\n",
       "      <th>10</th>\n",
       "      <td>11</td>\n",
       "      <td>Made Santi</td>\n",
       "      <td>1995-01-01</td>\n",
       "      <td>Perempuan</td>\n",
       "      <td>dokter</td>\n",
       "      <td>20000</td>\n",
       "      <td>20000</td>\n",
       "      <td>tidak</td>\n",
       "      <td>0</td>\n",
       "      <td>40000</td>\n",
       "    </tr>\n",
       "    <tr>\n",
       "      <th>11</th>\n",
       "      <td>12</td>\n",
       "      <td>Luh Madeinbali</td>\n",
       "      <td>1994-01-02</td>\n",
       "      <td>Perempuan</td>\n",
       "      <td>perawat</td>\n",
       "      <td>500</td>\n",
       "      <td>500</td>\n",
       "      <td>ya</td>\n",
       "      <td>4</td>\n",
       "      <td>1000</td>\n",
       "    </tr>\n",
       "    <tr>\n",
       "      <th>17</th>\n",
       "      <td>18</td>\n",
       "      <td>Nyoman Madewi</td>\n",
       "      <td>1994-07-13</td>\n",
       "      <td>Perempuan</td>\n",
       "      <td>dagang</td>\n",
       "      <td>75000</td>\n",
       "      <td>75000</td>\n",
       "      <td>ya</td>\n",
       "      <td>6</td>\n",
       "      <td>150000</td>\n",
       "    </tr>\n",
       "    <tr>\n",
       "      <th>19</th>\n",
       "      <td>20</td>\n",
       "      <td>Made Sengap</td>\n",
       "      <td>1991-06-15</td>\n",
       "      <td>Laki-laki</td>\n",
       "      <td>supir</td>\n",
       "      <td>15000</td>\n",
       "      <td>15000</td>\n",
       "      <td>ya</td>\n",
       "      <td>5</td>\n",
       "      <td>30000</td>\n",
       "    </tr>\n",
       "  </tbody>\n",
       "</table>\n",
       "</div>"
      ],
      "text/plain": [
       "    No.            Nama Tanggal Lahir Jenis Kelamin Pekerjaan    Gaji  \\\n",
       "1     2       Made Andi    1994-02-15     Laki-laki   perawat  150000   \n",
       "9    10     Made Sengap    1986-09-23     Laki-laki     supir  700000   \n",
       "10   11      Made Santi    1995-01-01     Perempuan    dokter   20000   \n",
       "11   12  Luh Madeinbali    1994-01-02     Perempuan   perawat     500   \n",
       "17   18   Nyoman Madewi    1994-07-13     Perempuan    dagang   75000   \n",
       "19   20     Made Sengap    1991-06-15     Laki-laki     supir   15000   \n",
       "\n",
       "    Tabungan Menikah  Jumlah Anak  Jumlah Uang  \n",
       "1     150000      ya            4       300000  \n",
       "9     700000      ya            2      1400000  \n",
       "10     20000   tidak            0        40000  \n",
       "11       500      ya            4         1000  \n",
       "17     75000      ya            6       150000  \n",
       "19     15000      ya            5        30000  "
      ]
     },
     "execution_count": 115,
     "metadata": {},
     "output_type": "execute_result"
    }
   ],
   "source": [
    "dt.loc[dt['Nama'].str.contains('Made')]"
   ]
  },
  {
   "cell_type": "code",
   "execution_count": 116,
   "id": "9ed35031",
   "metadata": {},
   "outputs": [
    {
     "data": {
      "text/html": [
       "<div>\n",
       "<style scoped>\n",
       "    .dataframe tbody tr th:only-of-type {\n",
       "        vertical-align: middle;\n",
       "    }\n",
       "\n",
       "    .dataframe tbody tr th {\n",
       "        vertical-align: top;\n",
       "    }\n",
       "\n",
       "    .dataframe thead th {\n",
       "        text-align: right;\n",
       "    }\n",
       "</style>\n",
       "<table border=\"1\" class=\"dataframe\">\n",
       "  <thead>\n",
       "    <tr style=\"text-align: right;\">\n",
       "      <th></th>\n",
       "      <th>No.</th>\n",
       "      <th>Nama</th>\n",
       "      <th>Tanggal Lahir</th>\n",
       "      <th>Jenis Kelamin</th>\n",
       "      <th>Pekerjaan</th>\n",
       "      <th>Gaji</th>\n",
       "      <th>Tabungan</th>\n",
       "      <th>Menikah</th>\n",
       "      <th>Jumlah Anak</th>\n",
       "      <th>Jumlah Uang</th>\n",
       "    </tr>\n",
       "  </thead>\n",
       "  <tbody>\n",
       "    <tr>\n",
       "      <th>0</th>\n",
       "      <td>1</td>\n",
       "      <td>Putu Diana</td>\n",
       "      <td>1995-01-14</td>\n",
       "      <td>Perempuan</td>\n",
       "      <td>dokter</td>\n",
       "      <td>100000</td>\n",
       "      <td>100000</td>\n",
       "      <td>tidak</td>\n",
       "      <td>0</td>\n",
       "      <td>200000</td>\n",
       "    </tr>\n",
       "    <tr>\n",
       "      <th>2</th>\n",
       "      <td>3</td>\n",
       "      <td>Komang Lukis</td>\n",
       "      <td>1993-03-16</td>\n",
       "      <td>Laki-laki</td>\n",
       "      <td>bidan</td>\n",
       "      <td>200000</td>\n",
       "      <td>200000</td>\n",
       "      <td>ya</td>\n",
       "      <td>3</td>\n",
       "      <td>400000</td>\n",
       "    </tr>\n",
       "    <tr>\n",
       "      <th>3</th>\n",
       "      <td>4</td>\n",
       "      <td>Ketut Koncreng</td>\n",
       "      <td>1992-04-17</td>\n",
       "      <td>Perempuan</td>\n",
       "      <td>buruh</td>\n",
       "      <td>500</td>\n",
       "      <td>500</td>\n",
       "      <td>ya</td>\n",
       "      <td>2</td>\n",
       "      <td>1000</td>\n",
       "    </tr>\n",
       "    <tr>\n",
       "      <th>4</th>\n",
       "      <td>5</td>\n",
       "      <td>Wayan Bagus</td>\n",
       "      <td>1991-05-18</td>\n",
       "      <td>Laki-laki</td>\n",
       "      <td>dagang</td>\n",
       "      <td>500000</td>\n",
       "      <td>500000</td>\n",
       "      <td>tidak</td>\n",
       "      <td>0</td>\n",
       "      <td>1000000</td>\n",
       "    </tr>\n",
       "    <tr>\n",
       "      <th>5</th>\n",
       "      <td>6</td>\n",
       "      <td>Kadek Bocok</td>\n",
       "      <td>1990-03-19</td>\n",
       "      <td>Laki-laki</td>\n",
       "      <td>supir</td>\n",
       "      <td>1000</td>\n",
       "      <td>1000</td>\n",
       "      <td>tidak</td>\n",
       "      <td>0</td>\n",
       "      <td>2000</td>\n",
       "    </tr>\n",
       "    <tr>\n",
       "      <th>6</th>\n",
       "      <td>7</td>\n",
       "      <td>Nyoman Jegeg</td>\n",
       "      <td>1989-06-20</td>\n",
       "      <td>Perempuan</td>\n",
       "      <td>artis</td>\n",
       "      <td>50000</td>\n",
       "      <td>50000</td>\n",
       "      <td>tidak</td>\n",
       "      <td>0</td>\n",
       "      <td>100000</td>\n",
       "    </tr>\n",
       "    <tr>\n",
       "      <th>7</th>\n",
       "      <td>8</td>\n",
       "      <td>Ketut Lama</td>\n",
       "      <td>1988-07-21</td>\n",
       "      <td>Laki-laki</td>\n",
       "      <td>supir</td>\n",
       "      <td>2000</td>\n",
       "      <td>2000</td>\n",
       "      <td>ya</td>\n",
       "      <td>1</td>\n",
       "      <td>4000</td>\n",
       "    </tr>\n",
       "    <tr>\n",
       "      <th>8</th>\n",
       "      <td>9</td>\n",
       "      <td>Luh Ani</td>\n",
       "      <td>1987-08-22</td>\n",
       "      <td>Perempuan</td>\n",
       "      <td>dagang</td>\n",
       "      <td>50000</td>\n",
       "      <td>50000</td>\n",
       "      <td>ya</td>\n",
       "      <td>2</td>\n",
       "      <td>100000</td>\n",
       "    </tr>\n",
       "    <tr>\n",
       "      <th>12</th>\n",
       "      <td>13</td>\n",
       "      <td>Ketut Kusumadewi</td>\n",
       "      <td>1990-01-03</td>\n",
       "      <td>Perempuan</td>\n",
       "      <td>bidan</td>\n",
       "      <td>10000</td>\n",
       "      <td>10000</td>\n",
       "      <td>tidak</td>\n",
       "      <td>0</td>\n",
       "      <td>20000</td>\n",
       "    </tr>\n",
       "    <tr>\n",
       "      <th>13</th>\n",
       "      <td>14</td>\n",
       "      <td>Komang Dewi</td>\n",
       "      <td>1993-02-05</td>\n",
       "      <td>Perempuan</td>\n",
       "      <td>dokter</td>\n",
       "      <td>25000</td>\n",
       "      <td>25000</td>\n",
       "      <td>ya</td>\n",
       "      <td>2</td>\n",
       "      <td>50000</td>\n",
       "    </tr>\n",
       "    <tr>\n",
       "      <th>14</th>\n",
       "      <td>15</td>\n",
       "      <td>Kadek Dewiyani</td>\n",
       "      <td>1991-06-15</td>\n",
       "      <td>Perempuan</td>\n",
       "      <td>buruh</td>\n",
       "      <td>35000</td>\n",
       "      <td>35000</td>\n",
       "      <td>tidak</td>\n",
       "      <td>0</td>\n",
       "      <td>70000</td>\n",
       "    </tr>\n",
       "    <tr>\n",
       "      <th>15</th>\n",
       "      <td>16</td>\n",
       "      <td>Luh Santidewi</td>\n",
       "      <td>1991-07-15</td>\n",
       "      <td>Perempuan</td>\n",
       "      <td>artis</td>\n",
       "      <td>7000</td>\n",
       "      <td>7000</td>\n",
       "      <td>ya</td>\n",
       "      <td>3</td>\n",
       "      <td>14000</td>\n",
       "    </tr>\n",
       "    <tr>\n",
       "      <th>16</th>\n",
       "      <td>17</td>\n",
       "      <td>Putu Medewi</td>\n",
       "      <td>1992-06-16</td>\n",
       "      <td>Perempuan</td>\n",
       "      <td>buruh</td>\n",
       "      <td>5000</td>\n",
       "      <td>5000</td>\n",
       "      <td>tidak</td>\n",
       "      <td>0</td>\n",
       "      <td>10000</td>\n",
       "    </tr>\n",
       "    <tr>\n",
       "      <th>18</th>\n",
       "      <td>19</td>\n",
       "      <td>Kadek Pekak</td>\n",
       "      <td>1992-05-14</td>\n",
       "      <td>Laki-laki</td>\n",
       "      <td>buruh</td>\n",
       "      <td>9000</td>\n",
       "      <td>9000</td>\n",
       "      <td>tidak</td>\n",
       "      <td>0</td>\n",
       "      <td>18000</td>\n",
       "    </tr>\n",
       "  </tbody>\n",
       "</table>\n",
       "</div>"
      ],
      "text/plain": [
       "    No.              Nama Tanggal Lahir Jenis Kelamin Pekerjaan    Gaji  \\\n",
       "0     1        Putu Diana    1995-01-14     Perempuan    dokter  100000   \n",
       "2     3      Komang Lukis    1993-03-16     Laki-laki     bidan  200000   \n",
       "3     4    Ketut Koncreng    1992-04-17     Perempuan     buruh     500   \n",
       "4     5       Wayan Bagus    1991-05-18     Laki-laki    dagang  500000   \n",
       "5     6       Kadek Bocok    1990-03-19     Laki-laki     supir    1000   \n",
       "6     7      Nyoman Jegeg    1989-06-20     Perempuan     artis   50000   \n",
       "7     8        Ketut Lama    1988-07-21     Laki-laki     supir    2000   \n",
       "8     9           Luh Ani    1987-08-22     Perempuan    dagang   50000   \n",
       "12   13  Ketut Kusumadewi    1990-01-03     Perempuan     bidan   10000   \n",
       "13   14       Komang Dewi    1993-02-05     Perempuan    dokter   25000   \n",
       "14   15    Kadek Dewiyani    1991-06-15     Perempuan     buruh   35000   \n",
       "15   16     Luh Santidewi    1991-07-15     Perempuan     artis    7000   \n",
       "16   17       Putu Medewi    1992-06-16     Perempuan     buruh    5000   \n",
       "18   19       Kadek Pekak    1992-05-14     Laki-laki     buruh    9000   \n",
       "\n",
       "    Tabungan Menikah  Jumlah Anak  Jumlah Uang  \n",
       "0     100000   tidak            0       200000  \n",
       "2     200000      ya            3       400000  \n",
       "3        500      ya            2         1000  \n",
       "4     500000   tidak            0      1000000  \n",
       "5       1000   tidak            0         2000  \n",
       "6      50000   tidak            0       100000  \n",
       "7       2000      ya            1         4000  \n",
       "8      50000      ya            2       100000  \n",
       "12     10000   tidak            0        20000  \n",
       "13     25000      ya            2        50000  \n",
       "14     35000   tidak            0        70000  \n",
       "15      7000      ya            3        14000  \n",
       "16      5000   tidak            0        10000  \n",
       "18      9000   tidak            0        18000  "
      ]
     },
     "execution_count": 116,
     "metadata": {},
     "output_type": "execute_result"
    }
   ],
   "source": [
    "dt.loc[~dt['Nama'].str.contains('Made')]"
   ]
  },
  {
   "cell_type": "code",
   "execution_count": 117,
   "id": "7b31cb47",
   "metadata": {},
   "outputs": [],
   "source": [
    "import re"
   ]
  },
  {
   "cell_type": "code",
   "execution_count": 118,
   "id": "15437d97",
   "metadata": {},
   "outputs": [
    {
     "data": {
      "text/html": [
       "<div>\n",
       "<style scoped>\n",
       "    .dataframe tbody tr th:only-of-type {\n",
       "        vertical-align: middle;\n",
       "    }\n",
       "\n",
       "    .dataframe tbody tr th {\n",
       "        vertical-align: top;\n",
       "    }\n",
       "\n",
       "    .dataframe thead th {\n",
       "        text-align: right;\n",
       "    }\n",
       "</style>\n",
       "<table border=\"1\" class=\"dataframe\">\n",
       "  <thead>\n",
       "    <tr style=\"text-align: right;\">\n",
       "      <th></th>\n",
       "      <th>No.</th>\n",
       "      <th>Nama</th>\n",
       "      <th>Tanggal Lahir</th>\n",
       "      <th>Jenis Kelamin</th>\n",
       "      <th>Pekerjaan</th>\n",
       "      <th>Gaji</th>\n",
       "      <th>Tabungan</th>\n",
       "      <th>Menikah</th>\n",
       "      <th>Jumlah Anak</th>\n",
       "      <th>Jumlah Uang</th>\n",
       "    </tr>\n",
       "  </thead>\n",
       "  <tbody>\n",
       "    <tr>\n",
       "      <th>1</th>\n",
       "      <td>2</td>\n",
       "      <td>Made Andi</td>\n",
       "      <td>1994-02-15</td>\n",
       "      <td>Laki-laki</td>\n",
       "      <td>perawat</td>\n",
       "      <td>150000</td>\n",
       "      <td>150000</td>\n",
       "      <td>ya</td>\n",
       "      <td>4</td>\n",
       "      <td>300000</td>\n",
       "    </tr>\n",
       "    <tr>\n",
       "      <th>3</th>\n",
       "      <td>4</td>\n",
       "      <td>Ketut Koncreng</td>\n",
       "      <td>1992-04-17</td>\n",
       "      <td>Perempuan</td>\n",
       "      <td>buruh</td>\n",
       "      <td>500</td>\n",
       "      <td>500</td>\n",
       "      <td>ya</td>\n",
       "      <td>2</td>\n",
       "      <td>1000</td>\n",
       "    </tr>\n",
       "    <tr>\n",
       "      <th>7</th>\n",
       "      <td>8</td>\n",
       "      <td>Ketut Lama</td>\n",
       "      <td>1988-07-21</td>\n",
       "      <td>Laki-laki</td>\n",
       "      <td>supir</td>\n",
       "      <td>2000</td>\n",
       "      <td>2000</td>\n",
       "      <td>ya</td>\n",
       "      <td>1</td>\n",
       "      <td>4000</td>\n",
       "    </tr>\n",
       "    <tr>\n",
       "      <th>9</th>\n",
       "      <td>10</td>\n",
       "      <td>Made Sengap</td>\n",
       "      <td>1986-09-23</td>\n",
       "      <td>Laki-laki</td>\n",
       "      <td>supir</td>\n",
       "      <td>700000</td>\n",
       "      <td>700000</td>\n",
       "      <td>ya</td>\n",
       "      <td>2</td>\n",
       "      <td>1400000</td>\n",
       "    </tr>\n",
       "    <tr>\n",
       "      <th>10</th>\n",
       "      <td>11</td>\n",
       "      <td>Made Santi</td>\n",
       "      <td>1995-01-01</td>\n",
       "      <td>Perempuan</td>\n",
       "      <td>dokter</td>\n",
       "      <td>20000</td>\n",
       "      <td>20000</td>\n",
       "      <td>tidak</td>\n",
       "      <td>0</td>\n",
       "      <td>40000</td>\n",
       "    </tr>\n",
       "    <tr>\n",
       "      <th>11</th>\n",
       "      <td>12</td>\n",
       "      <td>Luh Madeinbali</td>\n",
       "      <td>1994-01-02</td>\n",
       "      <td>Perempuan</td>\n",
       "      <td>perawat</td>\n",
       "      <td>500</td>\n",
       "      <td>500</td>\n",
       "      <td>ya</td>\n",
       "      <td>4</td>\n",
       "      <td>1000</td>\n",
       "    </tr>\n",
       "    <tr>\n",
       "      <th>12</th>\n",
       "      <td>13</td>\n",
       "      <td>Ketut Kusumadewi</td>\n",
       "      <td>1990-01-03</td>\n",
       "      <td>Perempuan</td>\n",
       "      <td>bidan</td>\n",
       "      <td>10000</td>\n",
       "      <td>10000</td>\n",
       "      <td>tidak</td>\n",
       "      <td>0</td>\n",
       "      <td>20000</td>\n",
       "    </tr>\n",
       "    <tr>\n",
       "      <th>17</th>\n",
       "      <td>18</td>\n",
       "      <td>Nyoman Madewi</td>\n",
       "      <td>1994-07-13</td>\n",
       "      <td>Perempuan</td>\n",
       "      <td>dagang</td>\n",
       "      <td>75000</td>\n",
       "      <td>75000</td>\n",
       "      <td>ya</td>\n",
       "      <td>6</td>\n",
       "      <td>150000</td>\n",
       "    </tr>\n",
       "    <tr>\n",
       "      <th>19</th>\n",
       "      <td>20</td>\n",
       "      <td>Made Sengap</td>\n",
       "      <td>1991-06-15</td>\n",
       "      <td>Laki-laki</td>\n",
       "      <td>supir</td>\n",
       "      <td>15000</td>\n",
       "      <td>15000</td>\n",
       "      <td>ya</td>\n",
       "      <td>5</td>\n",
       "      <td>30000</td>\n",
       "    </tr>\n",
       "  </tbody>\n",
       "</table>\n",
       "</div>"
      ],
      "text/plain": [
       "    No.              Nama Tanggal Lahir Jenis Kelamin Pekerjaan    Gaji  \\\n",
       "1     2         Made Andi    1994-02-15     Laki-laki   perawat  150000   \n",
       "3     4    Ketut Koncreng    1992-04-17     Perempuan     buruh     500   \n",
       "7     8        Ketut Lama    1988-07-21     Laki-laki     supir    2000   \n",
       "9    10       Made Sengap    1986-09-23     Laki-laki     supir  700000   \n",
       "10   11        Made Santi    1995-01-01     Perempuan    dokter   20000   \n",
       "11   12    Luh Madeinbali    1994-01-02     Perempuan   perawat     500   \n",
       "12   13  Ketut Kusumadewi    1990-01-03     Perempuan     bidan   10000   \n",
       "17   18     Nyoman Madewi    1994-07-13     Perempuan    dagang   75000   \n",
       "19   20       Made Sengap    1991-06-15     Laki-laki     supir   15000   \n",
       "\n",
       "    Tabungan Menikah  Jumlah Anak  Jumlah Uang  \n",
       "1     150000      ya            4       300000  \n",
       "3        500      ya            2         1000  \n",
       "7       2000      ya            1         4000  \n",
       "9     700000      ya            2      1400000  \n",
       "10     20000   tidak            0        40000  \n",
       "11       500      ya            4         1000  \n",
       "12     10000   tidak            0        20000  \n",
       "17     75000      ya            6       150000  \n",
       "19     15000      ya            5        30000  "
      ]
     },
     "execution_count": 118,
     "metadata": {},
     "output_type": "execute_result"
    }
   ],
   "source": [
    "dt.loc[dt['Nama'].str.contains('Made|Ketut', regex=True)]"
   ]
  },
  {
   "cell_type": "code",
   "execution_count": 119,
   "id": "f2edcded",
   "metadata": {},
   "outputs": [
    {
     "data": {
      "text/html": [
       "<div>\n",
       "<style scoped>\n",
       "    .dataframe tbody tr th:only-of-type {\n",
       "        vertical-align: middle;\n",
       "    }\n",
       "\n",
       "    .dataframe tbody tr th {\n",
       "        vertical-align: top;\n",
       "    }\n",
       "\n",
       "    .dataframe thead th {\n",
       "        text-align: right;\n",
       "    }\n",
       "</style>\n",
       "<table border=\"1\" class=\"dataframe\">\n",
       "  <thead>\n",
       "    <tr style=\"text-align: right;\">\n",
       "      <th></th>\n",
       "      <th>No.</th>\n",
       "      <th>Nama</th>\n",
       "      <th>Tanggal Lahir</th>\n",
       "      <th>Jenis Kelamin</th>\n",
       "      <th>Pekerjaan</th>\n",
       "      <th>Gaji</th>\n",
       "      <th>Tabungan</th>\n",
       "      <th>Menikah</th>\n",
       "      <th>Jumlah Anak</th>\n",
       "      <th>Jumlah Uang</th>\n",
       "    </tr>\n",
       "  </thead>\n",
       "  <tbody>\n",
       "    <tr>\n",
       "      <th>1</th>\n",
       "      <td>2</td>\n",
       "      <td>Made Andi</td>\n",
       "      <td>1994-02-15</td>\n",
       "      <td>Laki-laki</td>\n",
       "      <td>perawat</td>\n",
       "      <td>150000</td>\n",
       "      <td>150000</td>\n",
       "      <td>ya</td>\n",
       "      <td>4</td>\n",
       "      <td>300000</td>\n",
       "    </tr>\n",
       "    <tr>\n",
       "      <th>3</th>\n",
       "      <td>4</td>\n",
       "      <td>Ketut Koncreng</td>\n",
       "      <td>1992-04-17</td>\n",
       "      <td>Perempuan</td>\n",
       "      <td>buruh</td>\n",
       "      <td>500</td>\n",
       "      <td>500</td>\n",
       "      <td>ya</td>\n",
       "      <td>2</td>\n",
       "      <td>1000</td>\n",
       "    </tr>\n",
       "    <tr>\n",
       "      <th>7</th>\n",
       "      <td>8</td>\n",
       "      <td>Ketut Lama</td>\n",
       "      <td>1988-07-21</td>\n",
       "      <td>Laki-laki</td>\n",
       "      <td>supir</td>\n",
       "      <td>2000</td>\n",
       "      <td>2000</td>\n",
       "      <td>ya</td>\n",
       "      <td>1</td>\n",
       "      <td>4000</td>\n",
       "    </tr>\n",
       "    <tr>\n",
       "      <th>9</th>\n",
       "      <td>10</td>\n",
       "      <td>Made Sengap</td>\n",
       "      <td>1986-09-23</td>\n",
       "      <td>Laki-laki</td>\n",
       "      <td>supir</td>\n",
       "      <td>700000</td>\n",
       "      <td>700000</td>\n",
       "      <td>ya</td>\n",
       "      <td>2</td>\n",
       "      <td>1400000</td>\n",
       "    </tr>\n",
       "    <tr>\n",
       "      <th>10</th>\n",
       "      <td>11</td>\n",
       "      <td>Made Santi</td>\n",
       "      <td>1995-01-01</td>\n",
       "      <td>Perempuan</td>\n",
       "      <td>dokter</td>\n",
       "      <td>20000</td>\n",
       "      <td>20000</td>\n",
       "      <td>tidak</td>\n",
       "      <td>0</td>\n",
       "      <td>40000</td>\n",
       "    </tr>\n",
       "    <tr>\n",
       "      <th>11</th>\n",
       "      <td>12</td>\n",
       "      <td>Luh Madeinbali</td>\n",
       "      <td>1994-01-02</td>\n",
       "      <td>Perempuan</td>\n",
       "      <td>perawat</td>\n",
       "      <td>500</td>\n",
       "      <td>500</td>\n",
       "      <td>ya</td>\n",
       "      <td>4</td>\n",
       "      <td>1000</td>\n",
       "    </tr>\n",
       "    <tr>\n",
       "      <th>12</th>\n",
       "      <td>13</td>\n",
       "      <td>Ketut Kusumadewi</td>\n",
       "      <td>1990-01-03</td>\n",
       "      <td>Perempuan</td>\n",
       "      <td>bidan</td>\n",
       "      <td>10000</td>\n",
       "      <td>10000</td>\n",
       "      <td>tidak</td>\n",
       "      <td>0</td>\n",
       "      <td>20000</td>\n",
       "    </tr>\n",
       "    <tr>\n",
       "      <th>17</th>\n",
       "      <td>18</td>\n",
       "      <td>Nyoman Madewi</td>\n",
       "      <td>1994-07-13</td>\n",
       "      <td>Perempuan</td>\n",
       "      <td>dagang</td>\n",
       "      <td>75000</td>\n",
       "      <td>75000</td>\n",
       "      <td>ya</td>\n",
       "      <td>6</td>\n",
       "      <td>150000</td>\n",
       "    </tr>\n",
       "    <tr>\n",
       "      <th>19</th>\n",
       "      <td>20</td>\n",
       "      <td>Made Sengap</td>\n",
       "      <td>1991-06-15</td>\n",
       "      <td>Laki-laki</td>\n",
       "      <td>supir</td>\n",
       "      <td>15000</td>\n",
       "      <td>15000</td>\n",
       "      <td>ya</td>\n",
       "      <td>5</td>\n",
       "      <td>30000</td>\n",
       "    </tr>\n",
       "  </tbody>\n",
       "</table>\n",
       "</div>"
      ],
      "text/plain": [
       "    No.              Nama Tanggal Lahir Jenis Kelamin Pekerjaan    Gaji  \\\n",
       "1     2         Made Andi    1994-02-15     Laki-laki   perawat  150000   \n",
       "3     4    Ketut Koncreng    1992-04-17     Perempuan     buruh     500   \n",
       "7     8        Ketut Lama    1988-07-21     Laki-laki     supir    2000   \n",
       "9    10       Made Sengap    1986-09-23     Laki-laki     supir  700000   \n",
       "10   11        Made Santi    1995-01-01     Perempuan    dokter   20000   \n",
       "11   12    Luh Madeinbali    1994-01-02     Perempuan   perawat     500   \n",
       "12   13  Ketut Kusumadewi    1990-01-03     Perempuan     bidan   10000   \n",
       "17   18     Nyoman Madewi    1994-07-13     Perempuan    dagang   75000   \n",
       "19   20       Made Sengap    1991-06-15     Laki-laki     supir   15000   \n",
       "\n",
       "    Tabungan Menikah  Jumlah Anak  Jumlah Uang  \n",
       "1     150000      ya            4       300000  \n",
       "3        500      ya            2         1000  \n",
       "7       2000      ya            1         4000  \n",
       "9     700000      ya            2      1400000  \n",
       "10     20000   tidak            0        40000  \n",
       "11       500      ya            4         1000  \n",
       "12     10000   tidak            0        20000  \n",
       "17     75000      ya            6       150000  \n",
       "19     15000      ya            5        30000  "
      ]
     },
     "execution_count": 119,
     "metadata": {},
     "output_type": "execute_result"
    }
   ],
   "source": [
    "dt.loc[dt['Nama'].str.contains('made|ketut',flags=re.I, regex=True)]"
   ]
  },
  {
   "cell_type": "markdown",
   "id": "1eeac102",
   "metadata": {},
   "source": [
    "### 5.21.7 Pengelompokan Data Menggunakan Pandas"
   ]
  },
  {
   "cell_type": "code",
   "execution_count": 120,
   "id": "99773de5",
   "metadata": {},
   "outputs": [
    {
     "data": {
      "text/html": [
       "<div>\n",
       "<style scoped>\n",
       "    .dataframe tbody tr th:only-of-type {\n",
       "        vertical-align: middle;\n",
       "    }\n",
       "\n",
       "    .dataframe tbody tr th {\n",
       "        vertical-align: top;\n",
       "    }\n",
       "\n",
       "    .dataframe thead th {\n",
       "        text-align: right;\n",
       "    }\n",
       "</style>\n",
       "<table border=\"1\" class=\"dataframe\">\n",
       "  <thead>\n",
       "    <tr style=\"text-align: right;\">\n",
       "      <th></th>\n",
       "      <th>No.</th>\n",
       "      <th>Gaji</th>\n",
       "      <th>Tabungan</th>\n",
       "      <th>Jumlah Anak</th>\n",
       "      <th>Jumlah Uang</th>\n",
       "    </tr>\n",
       "    <tr>\n",
       "      <th>Jenis Kelamin</th>\n",
       "      <th></th>\n",
       "      <th></th>\n",
       "      <th></th>\n",
       "      <th></th>\n",
       "      <th></th>\n",
       "    </tr>\n",
       "  </thead>\n",
       "  <tbody>\n",
       "    <tr>\n",
       "      <th>Laki-laki</th>\n",
       "      <td>9.125000</td>\n",
       "      <td>197125.0</td>\n",
       "      <td>197125.0</td>\n",
       "      <td>1.875000</td>\n",
       "      <td>394250.0</td>\n",
       "    </tr>\n",
       "    <tr>\n",
       "      <th>Perempuan</th>\n",
       "      <td>11.416667</td>\n",
       "      <td>31500.0</td>\n",
       "      <td>31500.0</td>\n",
       "      <td>1.583333</td>\n",
       "      <td>63000.0</td>\n",
       "    </tr>\n",
       "  </tbody>\n",
       "</table>\n",
       "</div>"
      ],
      "text/plain": [
       "                     No.      Gaji  Tabungan  Jumlah Anak  Jumlah Uang\n",
       "Jenis Kelamin                                                         \n",
       "Laki-laki       9.125000  197125.0  197125.0     1.875000     394250.0\n",
       "Perempuan      11.416667   31500.0   31500.0     1.583333      63000.0"
      ]
     },
     "execution_count": 120,
     "metadata": {},
     "output_type": "execute_result"
    }
   ],
   "source": [
    "dt.groupby(['Jenis Kelamin']).mean()"
   ]
  },
  {
   "cell_type": "code",
   "execution_count": 121,
   "id": "7d2fd5b0",
   "metadata": {},
   "outputs": [
    {
     "data": {
      "text/html": [
       "<div>\n",
       "<style scoped>\n",
       "    .dataframe tbody tr th:only-of-type {\n",
       "        vertical-align: middle;\n",
       "    }\n",
       "\n",
       "    .dataframe tbody tr th {\n",
       "        vertical-align: top;\n",
       "    }\n",
       "\n",
       "    .dataframe thead th {\n",
       "        text-align: right;\n",
       "    }\n",
       "</style>\n",
       "<table border=\"1\" class=\"dataframe\">\n",
       "  <thead>\n",
       "    <tr style=\"text-align: right;\">\n",
       "      <th></th>\n",
       "      <th>No.</th>\n",
       "      <th>Gaji</th>\n",
       "      <th>Tabungan</th>\n",
       "      <th>Jumlah Anak</th>\n",
       "      <th>Jumlah Uang</th>\n",
       "    </tr>\n",
       "    <tr>\n",
       "      <th>Jenis Kelamin</th>\n",
       "      <th></th>\n",
       "      <th></th>\n",
       "      <th></th>\n",
       "      <th></th>\n",
       "      <th></th>\n",
       "    </tr>\n",
       "  </thead>\n",
       "  <tbody>\n",
       "    <tr>\n",
       "      <th>Perempuan</th>\n",
       "      <td>11.416667</td>\n",
       "      <td>31500.0</td>\n",
       "      <td>31500.0</td>\n",
       "      <td>1.583333</td>\n",
       "      <td>63000.0</td>\n",
       "    </tr>\n",
       "    <tr>\n",
       "      <th>Laki-laki</th>\n",
       "      <td>9.125000</td>\n",
       "      <td>197125.0</td>\n",
       "      <td>197125.0</td>\n",
       "      <td>1.875000</td>\n",
       "      <td>394250.0</td>\n",
       "    </tr>\n",
       "  </tbody>\n",
       "</table>\n",
       "</div>"
      ],
      "text/plain": [
       "                     No.      Gaji  Tabungan  Jumlah Anak  Jumlah Uang\n",
       "Jenis Kelamin                                                         \n",
       "Perempuan      11.416667   31500.0   31500.0     1.583333      63000.0\n",
       "Laki-laki       9.125000  197125.0  197125.0     1.875000     394250.0"
      ]
     },
     "execution_count": 121,
     "metadata": {},
     "output_type": "execute_result"
    }
   ],
   "source": [
    "dt.groupby(['Jenis Kelamin']).mean().sort_values('Gaji',ascending=True)"
   ]
  },
  {
   "cell_type": "code",
   "execution_count": 122,
   "id": "b9fbf506",
   "metadata": {},
   "outputs": [
    {
     "data": {
      "text/html": [
       "<div>\n",
       "<style scoped>\n",
       "    .dataframe tbody tr th:only-of-type {\n",
       "        vertical-align: middle;\n",
       "    }\n",
       "\n",
       "    .dataframe tbody tr th {\n",
       "        vertical-align: top;\n",
       "    }\n",
       "\n",
       "    .dataframe thead th {\n",
       "        text-align: right;\n",
       "    }\n",
       "</style>\n",
       "<table border=\"1\" class=\"dataframe\">\n",
       "  <thead>\n",
       "    <tr style=\"text-align: right;\">\n",
       "      <th></th>\n",
       "      <th>No.</th>\n",
       "      <th>Gaji</th>\n",
       "      <th>Tabungan</th>\n",
       "      <th>Jumlah Anak</th>\n",
       "      <th>Jumlah Uang</th>\n",
       "    </tr>\n",
       "    <tr>\n",
       "      <th>Jenis Kelamin</th>\n",
       "      <th></th>\n",
       "      <th></th>\n",
       "      <th></th>\n",
       "      <th></th>\n",
       "      <th></th>\n",
       "    </tr>\n",
       "  </thead>\n",
       "  <tbody>\n",
       "    <tr>\n",
       "      <th>Laki-laki</th>\n",
       "      <td>73</td>\n",
       "      <td>1577000</td>\n",
       "      <td>1577000</td>\n",
       "      <td>15</td>\n",
       "      <td>3154000</td>\n",
       "    </tr>\n",
       "    <tr>\n",
       "      <th>Perempuan</th>\n",
       "      <td>137</td>\n",
       "      <td>378000</td>\n",
       "      <td>378000</td>\n",
       "      <td>19</td>\n",
       "      <td>756000</td>\n",
       "    </tr>\n",
       "  </tbody>\n",
       "</table>\n",
       "</div>"
      ],
      "text/plain": [
       "               No.     Gaji  Tabungan  Jumlah Anak  Jumlah Uang\n",
       "Jenis Kelamin                                                  \n",
       "Laki-laki       73  1577000   1577000           15      3154000\n",
       "Perempuan      137   378000    378000           19       756000"
      ]
     },
     "execution_count": 122,
     "metadata": {},
     "output_type": "execute_result"
    }
   ],
   "source": [
    "dt.groupby(['Jenis Kelamin']).sum()"
   ]
  },
  {
   "cell_type": "code",
   "execution_count": 123,
   "id": "8fbb9ed0",
   "metadata": {},
   "outputs": [
    {
     "data": {
      "text/html": [
       "<div>\n",
       "<style scoped>\n",
       "    .dataframe tbody tr th:only-of-type {\n",
       "        vertical-align: middle;\n",
       "    }\n",
       "\n",
       "    .dataframe tbody tr th {\n",
       "        vertical-align: top;\n",
       "    }\n",
       "\n",
       "    .dataframe thead th {\n",
       "        text-align: right;\n",
       "    }\n",
       "</style>\n",
       "<table border=\"1\" class=\"dataframe\">\n",
       "  <thead>\n",
       "    <tr style=\"text-align: right;\">\n",
       "      <th></th>\n",
       "      <th>No.</th>\n",
       "      <th>Nama</th>\n",
       "      <th>Tanggal Lahir</th>\n",
       "      <th>Pekerjaan</th>\n",
       "      <th>Gaji</th>\n",
       "      <th>Tabungan</th>\n",
       "      <th>Menikah</th>\n",
       "      <th>Jumlah Anak</th>\n",
       "      <th>Jumlah Uang</th>\n",
       "    </tr>\n",
       "    <tr>\n",
       "      <th>Jenis Kelamin</th>\n",
       "      <th></th>\n",
       "      <th></th>\n",
       "      <th></th>\n",
       "      <th></th>\n",
       "      <th></th>\n",
       "      <th></th>\n",
       "      <th></th>\n",
       "      <th></th>\n",
       "      <th></th>\n",
       "    </tr>\n",
       "  </thead>\n",
       "  <tbody>\n",
       "    <tr>\n",
       "      <th>Laki-laki</th>\n",
       "      <td>8</td>\n",
       "      <td>8</td>\n",
       "      <td>8</td>\n",
       "      <td>8</td>\n",
       "      <td>8</td>\n",
       "      <td>8</td>\n",
       "      <td>8</td>\n",
       "      <td>8</td>\n",
       "      <td>8</td>\n",
       "    </tr>\n",
       "    <tr>\n",
       "      <th>Perempuan</th>\n",
       "      <td>12</td>\n",
       "      <td>12</td>\n",
       "      <td>12</td>\n",
       "      <td>12</td>\n",
       "      <td>12</td>\n",
       "      <td>12</td>\n",
       "      <td>12</td>\n",
       "      <td>12</td>\n",
       "      <td>12</td>\n",
       "    </tr>\n",
       "  </tbody>\n",
       "</table>\n",
       "</div>"
      ],
      "text/plain": [
       "               No.  Nama  Tanggal Lahir  Pekerjaan  Gaji  Tabungan  Menikah  \\\n",
       "Jenis Kelamin                                                                 \n",
       "Laki-laki        8     8              8          8     8         8        8   \n",
       "Perempuan       12    12             12         12    12        12       12   \n",
       "\n",
       "               Jumlah Anak  Jumlah Uang  \n",
       "Jenis Kelamin                            \n",
       "Laki-laki                8            8  \n",
       "Perempuan               12           12  "
      ]
     },
     "execution_count": 123,
     "metadata": {},
     "output_type": "execute_result"
    }
   ],
   "source": [
    "dt.groupby(['Jenis Kelamin']).count()"
   ]
  },
  {
   "cell_type": "code",
   "execution_count": 124,
   "id": "5a7da730",
   "metadata": {},
   "outputs": [
    {
     "data": {
      "text/html": [
       "<div>\n",
       "<style scoped>\n",
       "    .dataframe tbody tr th:only-of-type {\n",
       "        vertical-align: middle;\n",
       "    }\n",
       "\n",
       "    .dataframe tbody tr th {\n",
       "        vertical-align: top;\n",
       "    }\n",
       "\n",
       "    .dataframe thead th {\n",
       "        text-align: right;\n",
       "    }\n",
       "</style>\n",
       "<table border=\"1\" class=\"dataframe\">\n",
       "  <thead>\n",
       "    <tr style=\"text-align: right;\">\n",
       "      <th></th>\n",
       "      <th>No.</th>\n",
       "      <th>Nama</th>\n",
       "      <th>Tanggal Lahir</th>\n",
       "      <th>Jenis Kelamin</th>\n",
       "      <th>Gaji</th>\n",
       "      <th>Tabungan</th>\n",
       "      <th>Menikah</th>\n",
       "      <th>Jumlah Anak</th>\n",
       "      <th>Jumlah Uang</th>\n",
       "    </tr>\n",
       "    <tr>\n",
       "      <th>Pekerjaan</th>\n",
       "      <th></th>\n",
       "      <th></th>\n",
       "      <th></th>\n",
       "      <th></th>\n",
       "      <th></th>\n",
       "      <th></th>\n",
       "      <th></th>\n",
       "      <th></th>\n",
       "      <th></th>\n",
       "    </tr>\n",
       "  </thead>\n",
       "  <tbody>\n",
       "    <tr>\n",
       "      <th>artis</th>\n",
       "      <td>2</td>\n",
       "      <td>2</td>\n",
       "      <td>2</td>\n",
       "      <td>2</td>\n",
       "      <td>2</td>\n",
       "      <td>2</td>\n",
       "      <td>2</td>\n",
       "      <td>2</td>\n",
       "      <td>2</td>\n",
       "    </tr>\n",
       "    <tr>\n",
       "      <th>bidan</th>\n",
       "      <td>2</td>\n",
       "      <td>2</td>\n",
       "      <td>2</td>\n",
       "      <td>2</td>\n",
       "      <td>2</td>\n",
       "      <td>2</td>\n",
       "      <td>2</td>\n",
       "      <td>2</td>\n",
       "      <td>2</td>\n",
       "    </tr>\n",
       "    <tr>\n",
       "      <th>buruh</th>\n",
       "      <td>4</td>\n",
       "      <td>4</td>\n",
       "      <td>4</td>\n",
       "      <td>4</td>\n",
       "      <td>4</td>\n",
       "      <td>4</td>\n",
       "      <td>4</td>\n",
       "      <td>4</td>\n",
       "      <td>4</td>\n",
       "    </tr>\n",
       "    <tr>\n",
       "      <th>dagang</th>\n",
       "      <td>3</td>\n",
       "      <td>3</td>\n",
       "      <td>3</td>\n",
       "      <td>3</td>\n",
       "      <td>3</td>\n",
       "      <td>3</td>\n",
       "      <td>3</td>\n",
       "      <td>3</td>\n",
       "      <td>3</td>\n",
       "    </tr>\n",
       "    <tr>\n",
       "      <th>dokter</th>\n",
       "      <td>3</td>\n",
       "      <td>3</td>\n",
       "      <td>3</td>\n",
       "      <td>3</td>\n",
       "      <td>3</td>\n",
       "      <td>3</td>\n",
       "      <td>3</td>\n",
       "      <td>3</td>\n",
       "      <td>3</td>\n",
       "    </tr>\n",
       "    <tr>\n",
       "      <th>perawat</th>\n",
       "      <td>2</td>\n",
       "      <td>2</td>\n",
       "      <td>2</td>\n",
       "      <td>2</td>\n",
       "      <td>2</td>\n",
       "      <td>2</td>\n",
       "      <td>2</td>\n",
       "      <td>2</td>\n",
       "      <td>2</td>\n",
       "    </tr>\n",
       "    <tr>\n",
       "      <th>supir</th>\n",
       "      <td>4</td>\n",
       "      <td>4</td>\n",
       "      <td>4</td>\n",
       "      <td>4</td>\n",
       "      <td>4</td>\n",
       "      <td>4</td>\n",
       "      <td>4</td>\n",
       "      <td>4</td>\n",
       "      <td>4</td>\n",
       "    </tr>\n",
       "  </tbody>\n",
       "</table>\n",
       "</div>"
      ],
      "text/plain": [
       "           No.  Nama  Tanggal Lahir  Jenis Kelamin  Gaji  Tabungan  Menikah  \\\n",
       "Pekerjaan                                                                     \n",
       "artis        2     2              2              2     2         2        2   \n",
       "bidan        2     2              2              2     2         2        2   \n",
       "buruh        4     4              4              4     4         4        4   \n",
       "dagang       3     3              3              3     3         3        3   \n",
       "dokter       3     3              3              3     3         3        3   \n",
       "perawat      2     2              2              2     2         2        2   \n",
       "supir        4     4              4              4     4         4        4   \n",
       "\n",
       "           Jumlah Anak  Jumlah Uang  \n",
       "Pekerjaan                            \n",
       "artis                2            2  \n",
       "bidan                2            2  \n",
       "buruh                4            4  \n",
       "dagang               3            3  \n",
       "dokter               3            3  \n",
       "perawat              2            2  \n",
       "supir                4            4  "
      ]
     },
     "execution_count": 124,
     "metadata": {},
     "output_type": "execute_result"
    }
   ],
   "source": [
    "dt.groupby(['Pekerjaan']).count()"
   ]
  },
  {
   "cell_type": "markdown",
   "id": "a442e83f",
   "metadata": {},
   "source": [
    "# 5.22 Matplotlib"
   ]
  },
  {
   "cell_type": "markdown",
   "id": "13c04fcd",
   "metadata": {},
   "source": [
    "untuk menggambar grafik"
   ]
  },
  {
   "cell_type": "code",
   "execution_count": 125,
   "id": "81f8d7fd",
   "metadata": {},
   "outputs": [],
   "source": [
    "import matplotlib.pyplot as plt"
   ]
  },
  {
   "cell_type": "markdown",
   "id": "78b18566",
   "metadata": {},
   "source": [
    "### 5.22.1 Grafik sederhana dengan Matplotlib"
   ]
  },
  {
   "cell_type": "code",
   "execution_count": 126,
   "id": "e6a6aa56",
   "metadata": {},
   "outputs": [
    {
     "data": {
      "text/plain": [
       "Text(0, 0.5, 'Y')"
      ]
     },
     "execution_count": 126,
     "metadata": {},
     "output_type": "execute_result"
    },
    {
     "data": {
      "image/png": "[encoded data removed]",
      "text/plain": [
       "<Figure size 432x288 with 1 Axes>"
      ]
     },
     "metadata": {
      "needs_background": "light"
     },
     "output_type": "display_data"
    }
   ],
   "source": [
    "x=[2,4,6]\n",
    "y=[1,9,25]\n",
    "\n",
    "plt.plot(x,y)\n",
    "plt.title('Grafik y=x^2-2x+1')\n",
    "plt.xlabel('X')\n",
    "plt.ylabel('Y')"
   ]
  },
  {
   "cell_type": "markdown",
   "id": "df7d1ef9",
   "metadata": {},
   "source": [
    "### 5.22.2 Properti Pembuatan Grafik dengan Matplotlib"
   ]
  },
  {
   "cell_type": "code",
   "execution_count": 127,
   "id": "6067e57e",
   "metadata": {},
   "outputs": [
    {
     "ename": "ValueError",
     "evalue": "x and y must have same first dimension, but have shapes (10,) and (8,)",
     "output_type": "error",
     "traceback": [
      "\u001b[1;31m---------------------------------------------------------------------------\u001b[0m",
      "\u001b[1;31mValueError\u001b[0m                                Traceback (most recent call last)",
      "\u001b[1;32m~\\AppData\\Local\\Temp/ipykernel_8436/4096567321.py\u001b[0m in \u001b[0;36m<module>\u001b[1;34m\u001b[0m\n\u001b[0;32m      8\u001b[0m plt.plot(x,y,label='y=x^2',color='white',linewidth=8,marker='.',markersize=7,\n\u001b[0;32m      9\u001b[0m         markeredgecolor='red',linestyle='--')\n\u001b[1;32m---> 10\u001b[1;33m \u001b[0mplt\u001b[0m\u001b[1;33m.\u001b[0m\u001b[0mplot\u001b[0m\u001b[1;33m(\u001b[0m\u001b[0mx1\u001b[0m\u001b[1;33m,\u001b[0m\u001b[0my1\u001b[0m\u001b[1;33m)\u001b[0m\u001b[1;33m\u001b[0m\u001b[1;33m\u001b[0m\u001b[0m\n\u001b[0m\u001b[0;32m     11\u001b[0m \u001b[0mplt\u001b[0m\u001b[1;33m.\u001b[0m\u001b[0mtitle\u001b[0m\u001b[1;33m(\u001b[0m\u001b[1;34m'Grafik y=x^2'\u001b[0m\u001b[1;33m,\u001b[0m \u001b[0mfontdict\u001b[0m\u001b[1;33m=\u001b[0m\u001b[1;33m{\u001b[0m\u001b[1;34m'fontname'\u001b[0m\u001b[1;33m:\u001b[0m\u001b[1;34m'Times New Roman'\u001b[0m\u001b[1;33m,\u001b[0m\u001b[1;34m'fontsize'\u001b[0m\u001b[1;33m:\u001b[0m\u001b[1;36m20\u001b[0m\u001b[1;33m}\u001b[0m\u001b[1;33m)\u001b[0m\u001b[1;33m\u001b[0m\u001b[1;33m\u001b[0m\u001b[0m\n\u001b[0;32m     12\u001b[0m \u001b[0mplt\u001b[0m\u001b[1;33m.\u001b[0m\u001b[0mxlabel\u001b[0m\u001b[1;33m(\u001b[0m\u001b[1;34m'X'\u001b[0m\u001b[1;33m,\u001b[0m\u001b[0mfontdict\u001b[0m\u001b[1;33m=\u001b[0m\u001b[1;33m{\u001b[0m\u001b[1;34m'fontname'\u001b[0m\u001b[1;33m:\u001b[0m\u001b[1;34m'Arial'\u001b[0m\u001b[1;33m,\u001b[0m\u001b[1;34m'fonsize'\u001b[0m\u001b[1;33m:\u001b[0m\u001b[1;36m18\u001b[0m\u001b[1;33m}\u001b[0m\u001b[1;33m)\u001b[0m\u001b[1;33m\u001b[0m\u001b[1;33m\u001b[0m\u001b[0m\n",
      "\u001b[1;32m~\\anaconda3\\lib\\site-packages\\matplotlib\\pyplot.py\u001b[0m in \u001b[0;36mplot\u001b[1;34m(scalex, scaley, data, *args, **kwargs)\u001b[0m\n\u001b[0;32m   3017\u001b[0m \u001b[1;33m@\u001b[0m\u001b[0m_copy_docstring_and_deprecators\u001b[0m\u001b[1;33m(\u001b[0m\u001b[0mAxes\u001b[0m\u001b[1;33m.\u001b[0m\u001b[0mplot\u001b[0m\u001b[1;33m)\u001b[0m\u001b[1;33m\u001b[0m\u001b[1;33m\u001b[0m\u001b[0m\n\u001b[0;32m   3018\u001b[0m \u001b[1;32mdef\u001b[0m \u001b[0mplot\u001b[0m\u001b[1;33m(\u001b[0m\u001b[1;33m*\u001b[0m\u001b[0margs\u001b[0m\u001b[1;33m,\u001b[0m \u001b[0mscalex\u001b[0m\u001b[1;33m=\u001b[0m\u001b[1;32mTrue\u001b[0m\u001b[1;33m,\u001b[0m \u001b[0mscaley\u001b[0m\u001b[1;33m=\u001b[0m\u001b[1;32mTrue\u001b[0m\u001b[1;33m,\u001b[0m \u001b[0mdata\u001b[0m\u001b[1;33m=\u001b[0m\u001b[1;32mNone\u001b[0m\u001b[1;33m,\u001b[0m \u001b[1;33m**\u001b[0m\u001b[0mkwargs\u001b[0m\u001b[1;33m)\u001b[0m\u001b[1;33m:\u001b[0m\u001b[1;33m\u001b[0m\u001b[1;33m\u001b[0m\u001b[0m\n\u001b[1;32m-> 3019\u001b[1;33m     return gca().plot(\n\u001b[0m\u001b[0;32m   3020\u001b[0m         \u001b[1;33m*\u001b[0m\u001b[0margs\u001b[0m\u001b[1;33m,\u001b[0m \u001b[0mscalex\u001b[0m\u001b[1;33m=\u001b[0m\u001b[0mscalex\u001b[0m\u001b[1;33m,\u001b[0m \u001b[0mscaley\u001b[0m\u001b[1;33m=\u001b[0m\u001b[0mscaley\u001b[0m\u001b[1;33m,\u001b[0m\u001b[1;33m\u001b[0m\u001b[1;33m\u001b[0m\u001b[0m\n\u001b[0;32m   3021\u001b[0m         **({\"data\": data} if data is not None else {}), **kwargs)\n",
      "\u001b[1;32m~\\anaconda3\\lib\\site-packages\\matplotlib\\axes\\_axes.py\u001b[0m in \u001b[0;36mplot\u001b[1;34m(self, scalex, scaley, data, *args, **kwargs)\u001b[0m\n\u001b[0;32m   1603\u001b[0m         \"\"\"\n\u001b[0;32m   1604\u001b[0m         \u001b[0mkwargs\u001b[0m \u001b[1;33m=\u001b[0m \u001b[0mcbook\u001b[0m\u001b[1;33m.\u001b[0m\u001b[0mnormalize_kwargs\u001b[0m\u001b[1;33m(\u001b[0m\u001b[0mkwargs\u001b[0m\u001b[1;33m,\u001b[0m \u001b[0mmlines\u001b[0m\u001b[1;33m.\u001b[0m\u001b[0mLine2D\u001b[0m\u001b[1;33m)\u001b[0m\u001b[1;33m\u001b[0m\u001b[1;33m\u001b[0m\u001b[0m\n\u001b[1;32m-> 1605\u001b[1;33m         \u001b[0mlines\u001b[0m \u001b[1;33m=\u001b[0m \u001b[1;33m[\u001b[0m\u001b[1;33m*\u001b[0m\u001b[0mself\u001b[0m\u001b[1;33m.\u001b[0m\u001b[0m_get_lines\u001b[0m\u001b[1;33m(\u001b[0m\u001b[1;33m*\u001b[0m\u001b[0margs\u001b[0m\u001b[1;33m,\u001b[0m \u001b[0mdata\u001b[0m\u001b[1;33m=\u001b[0m\u001b[0mdata\u001b[0m\u001b[1;33m,\u001b[0m \u001b[1;33m**\u001b[0m\u001b[0mkwargs\u001b[0m\u001b[1;33m)\u001b[0m\u001b[1;33m]\u001b[0m\u001b[1;33m\u001b[0m\u001b[1;33m\u001b[0m\u001b[0m\n\u001b[0m\u001b[0;32m   1606\u001b[0m         \u001b[1;32mfor\u001b[0m \u001b[0mline\u001b[0m \u001b[1;32min\u001b[0m \u001b[0mlines\u001b[0m\u001b[1;33m:\u001b[0m\u001b[1;33m\u001b[0m\u001b[1;33m\u001b[0m\u001b[0m\n\u001b[0;32m   1607\u001b[0m             \u001b[0mself\u001b[0m\u001b[1;33m.\u001b[0m\u001b[0madd_line\u001b[0m\u001b[1;33m(\u001b[0m\u001b[0mline\u001b[0m\u001b[1;33m)\u001b[0m\u001b[1;33m\u001b[0m\u001b[1;33m\u001b[0m\u001b[0m\n",
      "\u001b[1;32m~\\anaconda3\\lib\\site-packages\\matplotlib\\axes\\_base.py\u001b[0m in \u001b[0;36m__call__\u001b[1;34m(self, data, *args, **kwargs)\u001b[0m\n\u001b[0;32m    313\u001b[0m                 \u001b[0mthis\u001b[0m \u001b[1;33m+=\u001b[0m \u001b[0margs\u001b[0m\u001b[1;33m[\u001b[0m\u001b[1;36m0\u001b[0m\u001b[1;33m]\u001b[0m\u001b[1;33m,\u001b[0m\u001b[1;33m\u001b[0m\u001b[1;33m\u001b[0m\u001b[0m\n\u001b[0;32m    314\u001b[0m                 \u001b[0margs\u001b[0m \u001b[1;33m=\u001b[0m \u001b[0margs\u001b[0m\u001b[1;33m[\u001b[0m\u001b[1;36m1\u001b[0m\u001b[1;33m:\u001b[0m\u001b[1;33m]\u001b[0m\u001b[1;33m\u001b[0m\u001b[1;33m\u001b[0m\u001b[0m\n\u001b[1;32m--> 315\u001b[1;33m             \u001b[1;32myield\u001b[0m \u001b[1;32mfrom\u001b[0m \u001b[0mself\u001b[0m\u001b[1;33m.\u001b[0m\u001b[0m_plot_args\u001b[0m\u001b[1;33m(\u001b[0m\u001b[0mthis\u001b[0m\u001b[1;33m,\u001b[0m \u001b[0mkwargs\u001b[0m\u001b[1;33m)\u001b[0m\u001b[1;33m\u001b[0m\u001b[1;33m\u001b[0m\u001b[0m\n\u001b[0m\u001b[0;32m    316\u001b[0m \u001b[1;33m\u001b[0m\u001b[0m\n\u001b[0;32m    317\u001b[0m     \u001b[1;32mdef\u001b[0m \u001b[0mget_next_color\u001b[0m\u001b[1;33m(\u001b[0m\u001b[0mself\u001b[0m\u001b[1;33m)\u001b[0m\u001b[1;33m:\u001b[0m\u001b[1;33m\u001b[0m\u001b[1;33m\u001b[0m\u001b[0m\n",
      "\u001b[1;32m~\\anaconda3\\lib\\site-packages\\matplotlib\\axes\\_base.py\u001b[0m in \u001b[0;36m_plot_args\u001b[1;34m(self, tup, kwargs, return_kwargs)\u001b[0m\n\u001b[0;32m    499\u001b[0m \u001b[1;33m\u001b[0m\u001b[0m\n\u001b[0;32m    500\u001b[0m         \u001b[1;32mif\u001b[0m \u001b[0mx\u001b[0m\u001b[1;33m.\u001b[0m\u001b[0mshape\u001b[0m\u001b[1;33m[\u001b[0m\u001b[1;36m0\u001b[0m\u001b[1;33m]\u001b[0m \u001b[1;33m!=\u001b[0m \u001b[0my\u001b[0m\u001b[1;33m.\u001b[0m\u001b[0mshape\u001b[0m\u001b[1;33m[\u001b[0m\u001b[1;36m0\u001b[0m\u001b[1;33m]\u001b[0m\u001b[1;33m:\u001b[0m\u001b[1;33m\u001b[0m\u001b[1;33m\u001b[0m\u001b[0m\n\u001b[1;32m--> 501\u001b[1;33m             raise ValueError(f\"x and y must have same first dimension, but \"\n\u001b[0m\u001b[0;32m    502\u001b[0m                              f\"have shapes {x.shape} and {y.shape}\")\n\u001b[0;32m    503\u001b[0m         \u001b[1;32mif\u001b[0m \u001b[0mx\u001b[0m\u001b[1;33m.\u001b[0m\u001b[0mndim\u001b[0m \u001b[1;33m>\u001b[0m \u001b[1;36m2\u001b[0m \u001b[1;32mor\u001b[0m \u001b[0my\u001b[0m\u001b[1;33m.\u001b[0m\u001b[0mndim\u001b[0m \u001b[1;33m>\u001b[0m \u001b[1;36m2\u001b[0m\u001b[1;33m:\u001b[0m\u001b[1;33m\u001b[0m\u001b[1;33m\u001b[0m\u001b[0m\n",
      "\u001b[1;31mValueError\u001b[0m: x and y must have same first dimension, but have shapes (10,) and (8,)"
     ]
    },
    {
     "data": {
      "image/png": "[encoded data removed]",
      "text/plain": [
       "<Figure size 900x900 with 1 Axes>"
      ]
     },
     "metadata": {
      "needs_background": "light"
     },
     "output_type": "display_data"
    }
   ],
   "source": [
    "x=[-4,-3,-2,-1,0,1,2,3,4]\n",
    "y=[16,9,4,1,0,1,4,9,16]\n",
    "x1=[-2,-1,0,1,2,3,4,5,6,7]\n",
    "y1=[-3,1,5,9,13,17,21,25]\n",
    "\n",
    "plt.figure(figsize=(3,3), dpi=300)\n",
    "\n",
    "plt.plot(x,y,label='y=x^2',color='white',linewidth=8,marker='.',markersize=7,\n",
    "        markeredgecolor='red',linestyle='--')\n",
    "plt.plot(x1,y1)\n",
    "plt.title('Grafik y=x^2', fontdict={'fontname':'Times New Roman','fontsize':20})\n",
    "plt.xlabel('X',fontdict={'fontname':'Arial','fonsize':18})\n",
    "plt.ylabel('Y',fontdict={'fontname':'Arial','fontsize':18})\n",
    "plt.xticks([-5,-4,-3,-2,-1,0,1,2,3,4,5])\n",
    "plt.yticks([25,16,9,4,1,0,1,4,9,16,25,36])\n",
    "plt.legend()\n",
    "plt.savefig('grafik.png',dpi=300)\n",
    "plt.show()"
   ]
  },
  {
   "cell_type": "markdown",
   "id": "f9c69641",
   "metadata": {},
   "source": [
    "### 5.22.3 Histogram Sederhana dengan Matplotlib"
   ]
  },
  {
   "cell_type": "code",
   "execution_count": 128,
   "id": "77949421",
   "metadata": {},
   "outputs": [
    {
     "data": {
      "text/plain": [
       "<BarContainer object of 7 artists>"
      ]
     },
     "execution_count": 128,
     "metadata": {},
     "output_type": "execute_result"
    },
    {
     "data": {
      "image/png": "[encoded data removed]",
      "text/plain": [
       "<Figure size 432x288 with 1 Axes>"
      ]
     },
     "metadata": {
      "needs_background": "light"
     },
     "output_type": "display_data"
    }
   ],
   "source": [
    "member=['Gen 1','Gen 3','Gen 4','Gen 6', 'Gen 7', 'Gen 8', 'Gen 9']\n",
    "jumlah =[1, 5, 3, 1, 9, 6, 4]\n",
    "\n",
    "plt.bar(member,jumlah)"
   ]
  },
  {
   "cell_type": "markdown",
   "id": "70de9ce7",
   "metadata": {},
   "source": [
    "### 5.22.4 Properti Pembuatan Histogram dengan Matplotlib"
   ]
  },
  {
   "cell_type": "code",
   "execution_count": 129,
   "id": "0c664dcd",
   "metadata": {},
   "outputs": [
    {
     "data": {
      "image/png": "[encoded data removed]",
      "text/plain": [
       "<Figure size 576x288 with 1 Axes>"
      ]
     },
     "metadata": {
      "needs_background": "light"
     },
     "output_type": "display_data"
    }
   ],
   "source": [
    "member =['Shani', 'Fiona', 'Marsha', 'Oniel', 'Adel']\n",
    "penggemar =[122,102,89,45,32]\n",
    "\n",
    "plt.figure(figsize=(8,4))\n",
    "histogram=plt.bar(member, penggemar,color='red')\n",
    "\n",
    "histogram [0].set_hatch('x')\n",
    "histogram [1].set_hatch('o')\n",
    "histogram [2].set_hatch('.')\n",
    "histogram [3].set_hatch('/')\n",
    "plt.show()"
   ]
  },
  {
   "cell_type": "code",
   "execution_count": 130,
   "id": "2234f1fe",
   "metadata": {},
   "outputs": [
    {
     "data": {
      "image/png": "[encoded data removed]",
      "text/plain": [
       "<Figure size 576x288 with 1 Axes>"
      ]
     },
     "metadata": {
      "needs_background": "light"
     },
     "output_type": "display_data"
    }
   ],
   "source": [
    "member =['Shani', 'Fiona', 'Marsha', 'Oniel', 'Adel']\n",
    "penggemar =[122,102,89,45,32]\n",
    "\n",
    "plt.figure(figsize=(8,4))\n",
    "histogram=plt.bar(member, penggemar,color='red')\n",
    "pola=['x','o','.','/']\n",
    "\n",
    "for i in [0,1,2,3]:\n",
    "    histogram[i].set_hatch(pola[i])\n",
    "    \n",
    "plt.show()"
   ]
  },
  {
   "cell_type": "code",
   "execution_count": 131,
   "id": "d97c29d9",
   "metadata": {},
   "outputs": [
    {
     "ename": "IndexError",
     "evalue": "pop from empty list",
     "output_type": "error",
     "traceback": [
      "\u001b[1;31m---------------------------------------------------------------------------\u001b[0m",
      "\u001b[1;31mIndexError\u001b[0m                                Traceback (most recent call last)",
      "\u001b[1;32m~\\AppData\\Local\\Temp/ipykernel_8436/1160697482.py\u001b[0m in \u001b[0;36m<module>\u001b[1;34m\u001b[0m\n\u001b[0;32m      7\u001b[0m \u001b[1;33m\u001b[0m\u001b[0m\n\u001b[0;32m      8\u001b[0m \u001b[1;32mfor\u001b[0m \u001b[0mbar\u001b[0m \u001b[1;32min\u001b[0m \u001b[0mhist\u001b[0m\u001b[1;33m:\u001b[0m\u001b[1;33m\u001b[0m\u001b[1;33m\u001b[0m\u001b[0m\n\u001b[1;32m----> 9\u001b[1;33m     \u001b[0mbar\u001b[0m\u001b[1;33m.\u001b[0m\u001b[0mset_hatch\u001b[0m\u001b[1;33m(\u001b[0m\u001b[0mpola\u001b[0m\u001b[1;33m.\u001b[0m\u001b[0mpop\u001b[0m\u001b[1;33m(\u001b[0m\u001b[1;36m0\u001b[0m\u001b[1;33m)\u001b[0m\u001b[1;33m)\u001b[0m\u001b[1;33m\u001b[0m\u001b[1;33m\u001b[0m\u001b[0m\n\u001b[0m\u001b[0;32m     10\u001b[0m \u001b[1;33m\u001b[0m\u001b[0m\n\u001b[0;32m     11\u001b[0m \u001b[0mplt\u001b[0m\u001b[1;33m.\u001b[0m\u001b[0mshow\u001b[0m\u001b[1;33m(\u001b[0m\u001b[1;33m)\u001b[0m\u001b[1;33m\u001b[0m\u001b[1;33m\u001b[0m\u001b[0m\n",
      "\u001b[1;31mIndexError\u001b[0m: pop from empty list"
     ]
    },
    {
     "data": {
      "image/png": "[encoded data removed]",
      "text/plain": [
       "<Figure size 576x288 with 1 Axes>"
      ]
     },
     "metadata": {
      "needs_background": "light"
     },
     "output_type": "display_data"
    }
   ],
   "source": [
    "member =['Shani', 'Fiona', 'Marsha', 'Oniel', 'Adel']\n",
    "penggemar =[122,102,89,45,32]\n",
    "\n",
    "plt.figure(figsize=(8,4))\n",
    "hist=plt.bar(member,penggemar,color='red')\n",
    "pola=['x','o''.','/']\n",
    "\n",
    "for bar in hist:\n",
    "    bar.set_hatch(pola.pop(0))\n",
    "\n",
    "plt.show()"
   ]
  },
  {
   "cell_type": "code",
   "execution_count": null,
   "id": "885d7f96",
   "metadata": {},
   "outputs": [],
   "source": []
  }
 ],
 "metadata": {
  "kernelspec": {
   "display_name": "Python 3 (ipykernel)",
   "language": "python",
   "name": "python3"
  },
  "language_info": {
   "codemirror_mode": {
    "name": "ipython",
    "version": 3
   },
   "file_extension": ".py",
   "mimetype": "text/x-python",
   "name": "python",
   "nbconvert_exporter": "python",
   "pygments_lexer": "ipython3",
   "version": "3.9.7"
  }
 },
 "nbformat": 4,
 "nbformat_minor": 5
}
